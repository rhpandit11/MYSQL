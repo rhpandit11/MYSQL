{
 "cells": [
  {
   "cell_type": "raw",
   "metadata": {
    "vscode": {
     "languageId": "raw"
    }
   },
   "source": [
    "write a sql query to report the students (student_id, student_name) being \"quiet\" in all exams\n",
    "A \"quit\" student is the one who took at least one exam and didn't score neither the higher score nor the lower score in \n",
    "any exam.\n",
    "Don't return the student who has never taken any exam Return the result table order by student_id\n"
   ]
  },
  {
   "cell_type": "code",
   "execution_count": null,
   "metadata": {
    "vscode": {
     "languageId": "sql"
    }
   },
   "outputs": [],
   "source": [
    "SELECT * FROM students;\n",
    "SELECT * FROM exams;"
   ]
  },
  {
   "cell_type": "code",
   "execution_count": null,
   "metadata": {
    "vscode": {
     "languageId": "sql"
    }
   },
   "outputs": [],
   "source": [
    "with all_score as\n",
    "(\n",
    "select exam_id, min(score) as min, max(score) as max\n",
    "from exams\n",
    "GROUP BY exam_id\n",
    ")\n",
    "select exams.student_id\n",
    "from exams\n",
    "join all_score on exams.exam_id = all_score.exam_id\n",
    "GROUP BY student_id\n",
    "HAVING max(case when score = min or score = max then 1 else 0 end) = 0"
   ]
  }
 ],
 "metadata": {
  "language_info": {
   "name": "python"
  }
 },
 "nbformat": 4,
 "nbformat_minor": 2
}
