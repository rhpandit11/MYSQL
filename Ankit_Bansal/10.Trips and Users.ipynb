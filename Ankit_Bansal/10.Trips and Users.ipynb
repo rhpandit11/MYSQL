{
 "cells": [
  {
   "cell_type": "raw",
   "metadata": {
    "vscode": {
     "languageId": "raw"
    }
   },
   "source": [
    "write a sql query to find the cancellation rate of requests with unbanned users\n",
    "(both the client and driver must not be banned) each day between '2013-10-01' and\n",
    "'2013-10-3'\n",
    "\n",
    "The cancellation rate is computed by dividing the numebr of canceled (by client or driver)\n",
    "request with unbanned users by the total number of request with unbanned users on that day."
   ]
  },
  {
   "cell_type": "code",
   "execution_count": null,
   "metadata": {
    "vscode": {
     "languageId": "sql"
    }
   },
   "outputs": [],
   "source": [
    "select * from users_1;\n",
    "select * from trips;"
   ]
  },
  {
   "cell_type": "code",
   "execution_count": null,
   "metadata": {
    "vscode": {
     "languageId": "sql"
    }
   },
   "outputs": [],
   "source": [
    "select request_at,\n",
    "count(case when status in ('cancelled_by_client','cancelled_by_driver') then 1 else null end) as cancelled_trip_count,\n",
    "count(1) as totat_trips,\n",
    "round(1.0*count(case when status in ('cancelled_by_client','cancelled_by_driver') then 1 else null end)/count(1)*100,2) as cancelled_percent\n",
    "from trips t\n",
    "inner join users_1 c on t.client_id = c.users_id\n",
    "inner join users_1 d on t.driver_id = d.users_id\n",
    "where c.banned = 'No' and d.banned = 'No'\n",
    "GROUP BY request_at"
   ]
  }
 ],
 "metadata": {
  "language_info": {
   "name": "python"
  }
 },
 "nbformat": 4,
 "nbformat_minor": 2
}
