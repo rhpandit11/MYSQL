{
 "cells": [
  {
   "cell_type": "raw",
   "metadata": {
    "vscode": {
     "languageId": "raw"
    }
   },
   "source": [
    "/* User purchase platform.\n",
    "-- The table logs the spendings history of users that make purchases from an online shopping website which has a desktop \n",
    "and a mobile application.\n",
    "-- Write an SQL query to find the total number of users and the total amount spent using mobile only, desktop only \n",
    "and both mobile and desktop together for each date.\n",
    "*/"
   ]
  },
  {
   "cell_type": "code",
   "execution_count": null,
   "metadata": {
    "vscode": {
     "languageId": "sql"
    }
   },
   "outputs": [],
   "source": [
    "select * from spending;"
   ]
  },
  {
   "cell_type": "code",
   "execution_count": null,
   "metadata": {
    "vscode": {
     "languageId": "sql"
    }
   },
   "outputs": [],
   "source": [
    "with all_spend as\n",
    "(\n",
    "    select spend_date, user_id, max(platform) as platform, sum(amount) as amount\n",
    "    from spending\n",
    "    group by spend_date, user_id\n",
    "    having count(distinct platform) = 1\n",
    "    union all\n",
    "    select spend_date, user_id, 'both' as platform, sum(amount) as amount\n",
    "    from spending\n",
    "    group by spend_date, user_id\n",
    "    having count(distinct platform) = 2\n",
    "    -- union all\n",
    "    -- select DISTINCT spend_date, null as user_id, 'both' as platform, 0 as amount\n",
    "    -- from spending\n",
    ")\n",
    "select spend_date, platform, count(distinct user_id) as total_user, sum(amount) as total_amount\n",
    "from all_spend\n",
    "group by spend_date,platform\n",
    "order by spend_date,platform desc"
   ]
  }
 ],
 "metadata": {
  "language_info": {
   "name": "python"
  }
 },
 "nbformat": 4,
 "nbformat_minor": 2
}
