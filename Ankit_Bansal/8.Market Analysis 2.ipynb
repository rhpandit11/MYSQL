{
 "cells": [
  {
   "cell_type": "raw",
   "metadata": {
    "vscode": {
     "languageId": "raw"
    }
   },
   "source": [
    "Market Analysis\n",
    "Write an sql query to find for each seller, wheather the brand of the second item (by date) they sold is their favorite\n",
    "If a seller sold less than two items report the answer for that seller as no. o/p\n",
    "seller_id 2nd_item_fav_brand\n",
    "1           yes/no\n",
    "2           yes/no"
   ]
  },
  {
   "cell_type": "code",
   "execution_count": null,
   "metadata": {
    "vscode": {
     "languageId": "sql"
    }
   },
   "outputs": [],
   "source": [
    "select * from orders;\n",
    "select * from users;\n",
    "select * from items;"
   ]
  },
  {
   "cell_type": "code",
   "execution_count": null,
   "metadata": {
    "vscode": {
     "languageId": "sql"
    }
   },
   "outputs": [],
   "source": [
    "with rnk_order as\n",
    "(\n",
    "select\n",
    "*,\n",
    "rank() over(PARTITION BY seller_id order by order_date asc) as rn\n",
    "from orders\n",
    ")\n",
    "select u.user_id, ro.*, i.item_brand, u.favorite_brand,\n",
    "case when i.item_brand = u.favorite_brand then 'yes' else 'no' end as item_fav_brand\n",
    "from users u\n",
    "left join rnk_order ro on ro.seller_id = u.user_id and rn = 2\n",
    "left join items i on ro.item_id = i.item_id\n",
    "-- where rn = 2\n"
   ]
  },
  {
   "cell_type": "code",
   "execution_count": null,
   "metadata": {
    "vscode": {
     "languageId": "sql"
    }
   },
   "outputs": [],
   "source": [
    "with rnk_order as\n",
    "(\n",
    "select\n",
    "*,\n",
    "rank() over(PARTITION BY seller_id order by order_date asc) as rn\n",
    "from orders\n",
    ")\n",
    "select u.user_id as seller_id,\n",
    "case when i.item_brand = u.favorite_brand then 'yes' else 'no' end as item_fav_brand\n",
    "from users u\n",
    "left join rnk_order ro on ro.seller_id = u.user_id and rn = 2\n",
    "left join items i on ro.item_id = i.item_id"
   ]
  }
 ],
 "metadata": {
  "language_info": {
   "name": "python"
  }
 },
 "nbformat": 4,
 "nbformat_minor": 2
}
