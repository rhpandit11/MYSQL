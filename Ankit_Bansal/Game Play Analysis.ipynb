{
 "cells": [
  {
   "cell_type": "raw",
   "metadata": {
    "vscode": {
     "languageId": "raw"
    }
   },
   "source": [
    "questions:\n",
    "--Game Play Analysis \n",
    "\n",
    "--q1: Write an SQL query that reports the first login date for each player\n",
    "\n",
    "--q2: Write a SQL query that reports the device that is first logged in for each player\n",
    "\n",
    "--q3: Write an SQL query that reports for each player and date, how many games played so far by the player. \n",
    "--That is, the total number of games played by the player until that date.\n",
    "\n",
    "--q4: Write an SQL query that reports the fraction of players that logged in again \n",
    " on the day after the day they first logged in, rounded to 2 decimal places"
   ]
  },
  {
   "cell_type": "code",
   "execution_count": null,
   "metadata": {
    "vscode": {
     "languageId": "sql"
    }
   },
   "outputs": [],
   "source": [
    "select * from activity;"
   ]
  },
  {
   "cell_type": "code",
   "execution_count": null,
   "metadata": {
    "vscode": {
     "languageId": "sql"
    }
   },
   "outputs": [],
   "source": [
    "with cte as\n",
    "(\n",
    "select\n",
    "*,\n",
    "ROW_NUMBER() over(PARTITION BY player_id ORDER BY event_date) as rn\n",
    "from activity\n",
    ")\n",
    "select player_id from cte where rn=1"
   ]
  },
  {
   "cell_type": "code",
   "execution_count": null,
   "metadata": {
    "vscode": {
     "languageId": "sql"
    }
   },
   "outputs": [],
   "source": [
    "with cte as\n",
    "(\n",
    "select\n",
    "*,\n",
    "ROW_NUMBER() over(PARTITION BY device_id ORDER BY event_date) as rn\n",
    "from activity\n",
    ")\n",
    "select player_id,device_id,event_date from cte where rn = 1\n",
    "\n"
   ]
  }
 ],
 "metadata": {
  "language_info": {
   "name": "python"
  }
 },
 "nbformat": 4,
 "nbformat_minor": 2
}
