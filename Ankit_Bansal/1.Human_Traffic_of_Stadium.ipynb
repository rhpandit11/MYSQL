{
 "cells": [
  {
   "cell_type": "raw",
   "metadata": {
    "vscode": {
     "languageId": "raw"
    }
   },
   "source": [
    "Write a query to display the record which have 3 or more consecutive rows\n",
    "with the amount of people more than 100(inclusive) each day."
   ]
  },
  {
   "cell_type": "code",
   "execution_count": null,
   "metadata": {
    "vscode": {
     "languageId": "sql"
    }
   },
   "outputs": [],
   "source": [
    "select * FROM stadium"
   ]
  },
  {
   "cell_type": "code",
   "execution_count": null,
   "metadata": {
    "vscode": {
     "languageId": "sql"
    }
   },
   "outputs": [],
   "source": [
    "with cte as\n",
    "(\n",
    "select\n",
    "*,\n",
    "rank() OVER(ORDER BY visit_date),\n",
    "id - rank() OVER(ORDER BY visit_date) as grp\n",
    "from stadium\n",
    "where no_of_people > 100\n",
    ")\n",
    "select id,visit_date,no_of_people from cte where grp = 2\n",
    "\n"
   ]
  }
 ],
 "metadata": {
  "language_info": {
   "name": "python"
  }
 },
 "nbformat": 4,
 "nbformat_minor": 2
}
