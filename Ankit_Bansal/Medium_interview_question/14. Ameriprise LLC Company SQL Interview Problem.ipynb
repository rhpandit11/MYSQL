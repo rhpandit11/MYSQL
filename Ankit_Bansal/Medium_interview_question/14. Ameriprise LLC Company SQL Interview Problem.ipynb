{
 "cells": [
  {
   "cell_type": "raw",
   "metadata": {
    "vscode": {
     "languageId": "raw"
    }
   },
   "source": [
    "Condition if criteria 1 and criteria 2 both are Y and a minimum of 2 team member, should have Y then the output should by Y else N"
   ]
  },
  {
   "cell_type": "code",
   "execution_count": null,
   "metadata": {
    "vscode": {
     "languageId": "sql"
    }
   },
   "outputs": [],
   "source": [
    "with qualified_team as\n",
    "(\n",
    "select teamid, count(1) as no_of_eligible_members\n",
    "from ameriprise_llc\n",
    "where criteria1 = 'Y' and criteria2 = 'Y'\n",
    "GROUP BY teamid\n",
    "HAVING count(1)>=2\n",
    ")\n",
    "select *,\n",
    "case when criteria1 = 'Y' and criteria2 = 'Y' and ql.teamid is not null then 'Y' else 'N' end as qualified_flag\n",
    "from ameriprise_llc as al\n",
    "left join qualified_team as ql on al.teamid = ql.teamid\n"
   ]
  },
  {
   "cell_type": "code",
   "execution_count": null,
   "metadata": {
    "vscode": {
     "languageId": "sql"
    }
   },
   "outputs": [],
   "source": [
    "select al.*,\n",
    "sum(case when criteria1 = 'Y' and criteria2 = 'Y' then 1 else 0 end) over(PARTITION BY al.teamid) as qualified,\n",
    "case when criteria1 = 'Y' and criteria2 = 'Y' and  \n",
    "sum(case when criteria1 = 'Y' and criteria2 = 'Y' then 1 else 0 end) over(PARTITION BY al.teamid) >=2\n",
    "then 'Y' else 'N' end as qualified_flag\n",
    "from ameriprise_llc as al"
   ]
  },
  {
   "cell_type": "code",
   "execution_count": null,
   "metadata": {
    "vscode": {
     "languageId": "sql"
    }
   },
   "outputs": [],
   "source": [
    "select al.*,\n",
    "case when criteria1 = 'Y' and criteria2 = 'Y' and  \n",
    "sum(case when criteria1 = 'Y' and criteria2 = 'Y' then 1 else 0 end) over(PARTITION BY al.teamid) >=2\n",
    "then 'Y' else 'N' end as qualified_flag\n",
    "from ameriprise_llc as al"
   ]
  }
 ],
 "metadata": {
  "language_info": {
   "name": "python"
  }
 },
 "nbformat": 4,
 "nbformat_minor": 2
}
