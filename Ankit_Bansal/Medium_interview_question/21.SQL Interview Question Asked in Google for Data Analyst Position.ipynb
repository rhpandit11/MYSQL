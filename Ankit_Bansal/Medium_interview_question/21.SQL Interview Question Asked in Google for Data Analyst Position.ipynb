{
 "cells": [
  {
   "cell_type": "raw",
   "metadata": {
    "vscode": {
     "languageId": "raw"
    }
   },
   "source": [
    "find the words which are repeating more than once considering all the rows of content column"
   ]
  },
  {
   "cell_type": "code",
   "execution_count": null,
   "metadata": {
    "vscode": {
     "languageId": "sql"
    }
   },
   "outputs": [],
   "source": [
    "select * from namaste_python"
   ]
  },
  {
   "cell_type": "code",
   "execution_count": null,
   "metadata": {
    "vscode": {
     "languageId": "sql"
    }
   },
   "outputs": [],
   "source": [
    "select value as word, count(*) as word_count\n",
    "from namaste_python\n",
    "cross apply string_split(content, ' ') \n",
    "group value"
   ]
  },
  {
   "cell_type": "code",
   "execution_count": null,
   "metadata": {
    "vscode": {
     "languageId": "sql"
    }
   },
   "outputs": [],
   "source": [
    "SELECT word, COUNT(*) AS word_count\n",
    "FROM (\n",
    "    SELECT unnest(regexp_split_to_array(content, '\\s+')) AS word\n",
    "    FROM namaste_python\n",
    ") AS words\n",
    "GROUP BY word\n",
    "HAVING count(*) > 1\n",
    "ORDER BY word_count DESC;"
   ]
  }
 ],
 "metadata": {
  "language_info": {
   "name": "python"
  }
 },
 "nbformat": 4,
 "nbformat_minor": 2
}
