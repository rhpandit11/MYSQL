{
 "cells": [
  {
   "cell_type": "raw",
   "metadata": {
    "vscode": {
     "languageId": "raw"
    }
   },
   "source": [
    "write a query to find busiest route along with total ticket count\n",
    "oneway_round = 'o' one day trip\n",
    "oneway_round = 'R' Round trip\n",
    "Note DEL -> Bom is different route from BOM -> DEL"
   ]
  },
  {
   "cell_type": "code",
   "execution_count": null,
   "metadata": {
    "vscode": {
     "languageId": "sql"
    }
   },
   "outputs": [],
   "source": [
    "select * from tickets_24"
   ]
  },
  {
   "cell_type": "code",
   "execution_count": null,
   "metadata": {
    "vscode": {
     "languageId": "sql"
    }
   },
   "outputs": [],
   "source": [
    "select origin, destination, sum(ticket_count) as tc\n",
    "from\n",
    "(\n",
    "select 1, origin, destination, oneway_round, ticket_count \n",
    "from tickets_24\n",
    "union ALL\n",
    "select 2, destination, origin, oneway_round, ticket_count \n",
    "from tickets_24\n",
    "where oneway_round = 'R'\n",
    ") a\n",
    "GROUP BY origin, destination\n",
    "ORDER BY tc desc\n"
   ]
  }
 ],
 "metadata": {
  "language_info": {
   "name": "python"
  }
 },
 "nbformat": 4,
 "nbformat_minor": 2
}
