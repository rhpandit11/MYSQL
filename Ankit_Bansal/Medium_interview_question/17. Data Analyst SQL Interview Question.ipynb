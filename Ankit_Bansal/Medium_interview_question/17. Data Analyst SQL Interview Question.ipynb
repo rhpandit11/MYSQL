{
 "cells": [
  {
   "cell_type": "raw",
   "metadata": {
    "vscode": {
     "languageId": "raw"
    }
   },
   "source": [
    "We have two tabes people and relations. The people table contains the details of each individual and the relations\n",
    "table contains the parent-child relationship between two individuals.\n",
    "\n",
    "write a sql query to print the names of child and his parent in individual columns respectively in order of the \n",
    "name of the child"
   ]
  },
  {
   "cell_type": "code",
   "execution_count": null,
   "metadata": {
    "vscode": {
     "languageId": "sql"
    }
   },
   "outputs": [],
   "source": [
    "select * from people;\n",
    "\n",
    "select * from relations;"
   ]
  },
  {
   "cell_type": "code",
   "execution_count": null,
   "metadata": {
    "vscode": {
     "languageId": "sql"
    }
   },
   "outputs": [],
   "source": [
    "with m as(\n",
    "SELECT r.c_id, p.name as mother_name from people p\n",
    "INNER join relations r on p.id = r.p_id and gender = 'F'\n",
    "),\n",
    "f as\n",
    "(\n",
    "SELECT r.c_id, p.name as father_name from people p\n",
    "INNER join relations r on p.id = r.p_id and gender = 'M'\n",
    ")\n",
    "SELECT f.c_id as child_id,p.name as child_name, m.mother_name, f.father_name\n",
    "from f\n",
    "inner join m on f.c_id = m.c_id\n",
    "INNER join people p on p.id = f.c_id"
   ]
  },
  {
   "cell_type": "code",
   "execution_count": null,
   "metadata": {
    "vscode": {
     "languageId": "sql"
    }
   },
   "outputs": [],
   "source": [
    "SELECT r.c_id, max(c.name) as child_name, max(m.name) as mother_name, max(f.name) as father_name \n",
    "from relations r\n",
    "left join people m on r.p_id = m.id and m.gender = 'F'\n",
    "left join people f on r.p_id = f.id and f.gender = 'M'\n",
    "INNER join people c on r.c_id = c.id\n",
    "GROUP BY r.c_id"
   ]
  },
  {
   "cell_type": "code",
   "execution_count": null,
   "metadata": {
    "vscode": {
     "languageId": "sql"
    }
   },
   "outputs": [],
   "source": [
    "SELECT r.c_id as child_id, max(case when p.gender = 'F' then name end) as mother_name,\n",
    "max(case when p.gender = 'M' then name end) as father_name\n",
    "from relations r\n",
    "join people p on r.p_id = p.id\n",
    "group by 1"
   ]
  }
 ],
 "metadata": {
  "language_info": {
   "name": "python"
  }
 },
 "nbformat": 4,
 "nbformat_minor": 2
}
