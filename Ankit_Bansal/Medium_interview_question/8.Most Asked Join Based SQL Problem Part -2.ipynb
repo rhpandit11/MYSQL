{
 "cells": [
  {
   "cell_type": "raw",
   "metadata": {
    "vscode": {
     "languageId": "raw"
    }
   },
   "source": [
    "There are 2 tables, first table has 5 records and second table has 10 records.\n",
    "You can assume any values in each of the tables. How many maximum records possible in case of inner join left join right join and full outer join."
   ]
  },
  {
   "cell_type": "code",
   "execution_count": null,
   "metadata": {
    "vscode": {
     "languageId": "sql"
    }
   },
   "outputs": [],
   "source": [
    "select * from t1\n",
    "\n",
    "select  * from t2\n",
    "\n",
    "SELECT * from t3"
   ]
  },
  {
   "cell_type": "code",
   "execution_count": null,
   "metadata": {
    "vscode": {
     "languageId": "sql"
    }
   },
   "outputs": [],
   "source": [
    "select * from t1\n",
    "join t2 on t1.id_1 = t2.id_2"
   ]
  },
  {
   "cell_type": "code",
   "execution_count": null,
   "metadata": {
    "vscode": {
     "languageId": "sql"
    }
   },
   "outputs": [],
   "source": [
    "select * from t1\n",
    "join t3 on t1.id_1 = t3.id_3\n",
    "left join t3 on t1.id_1 = t3.id_3 "
   ]
  }
 ],
 "metadata": {
  "language_info": {
   "name": "python"
  }
 },
 "nbformat": 4,
 "nbformat_minor": 2
}
