{
 "cells": [
  {
   "cell_type": "raw",
   "metadata": {
    "vscode": {
     "languageId": "raw"
    }
   },
   "source": [
    "Find the company only whose revenue is increasing every year.\n",
    "Note: suppose a company revenue is increasing for 3 years and very next year revenue\n",
    "is dipped in that case it should not come in output"
   ]
  },
  {
   "cell_type": "code",
   "execution_count": null,
   "metadata": {
    "vscode": {
     "languageId": "sql"
    }
   },
   "outputs": [],
   "source": [
    "select * from company_revenue"
   ]
  },
  {
   "cell_type": "code",
   "execution_count": null,
   "metadata": {
    "vscode": {
     "languageId": "sql"
    }
   },
   "outputs": [],
   "source": [
    "with cte as\n",
    "(\n",
    "SELECT\n",
    "*,\n",
    "lead(revenue) OVER(PARTITION BY YEAR ORDER BY revenue) as inc,\n",
    "lag(revenue) OVER(PARTITION BY YEAR ORDER BY revenue) as dec\n",
    "from company_revenue\n",
    ")\n",
    "select company from cte\n",
    "where inc > dec\n",
    "GROUP BY company\n"
   ]
  },
  {
   "cell_type": "code",
   "execution_count": null,
   "metadata": {
    "vscode": {
     "languageId": "sql"
    }
   },
   "outputs": [],
   "source": [
    "--first solution\n",
    "with cte as\n",
    "(\n",
    "SELECT\n",
    "*,\n",
    "lag(revenue,1,0) over(PARTITION BY company ORDER BY year) as prev_rev,\n",
    "revenue - lag(revenue,1,0) over(PARTITION BY company ORDER BY year) as revenue_diff,\n",
    "count(1) over(PARTITION BY company) as cnt\n",
    "from company_revenue\n",
    ")\n",
    "select company, cnt, count(1) as sales_inc\n",
    "from cte\n",
    "where revenue_diff > 0\n",
    "group by company, cnt\n",
    "having cnt = count(1)"
   ]
  },
  {
   "cell_type": "code",
   "execution_count": null,
   "metadata": {
    "vscode": {
     "languageId": "sql"
    }
   },
   "outputs": [],
   "source": [
    "--second solution\n",
    "with cte as\n",
    "(\n",
    "SELECT\n",
    "*,\n",
    "--lag(revenue,1,0) over(PARTITION BY company ORDER BY year) as prev_rev,\n",
    "revenue - lag(revenue,1,0) over(PARTITION BY company ORDER BY year) as revenue_diff\n",
    "--count(1) over(PARTITION BY company) as cnt\n",
    "from company_revenue\n",
    ")\n",
    "select company --cnt, count(1) as sales_inc\n",
    "from cte\n",
    "where company not in (select company from cte where revenue_diff<0)\n",
    "group by company\n"
   ]
  }
 ],
 "metadata": {
  "language_info": {
   "name": "python"
  }
 },
 "nbformat": 4,
 "nbformat_minor": 2
}
