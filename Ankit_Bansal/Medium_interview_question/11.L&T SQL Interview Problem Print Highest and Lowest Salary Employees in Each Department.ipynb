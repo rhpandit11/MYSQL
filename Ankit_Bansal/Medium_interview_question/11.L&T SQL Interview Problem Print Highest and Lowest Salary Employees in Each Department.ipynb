{
 "cells": [
  {
   "cell_type": "raw",
   "metadata": {
    "vscode": {
     "languageId": "raw"
    }
   },
   "source": [
    "write a query to print highest and lowest salary emp in each department"
   ]
  },
  {
   "cell_type": "code",
   "execution_count": null,
   "metadata": {
    "vscode": {
     "languageId": "sql"
    }
   },
   "outputs": [],
   "source": [
    "select * from employee\n",
    "order by dep_id;"
   ]
  },
  {
   "cell_type": "code",
   "execution_count": null,
   "metadata": {
    "vscode": {
     "languageId": "sql"
    }
   },
   "outputs": [],
   "source": [
    "with cte as(\n",
    "select\n",
    "dep_id, min(salary) as min_sal, max(salary) as max_sal\n",
    "from employee\n",
    "GROUP BY dep_id\n",
    ")\n",
    "select employee.dep_id,\n",
    "max(case when salary = max_sal then emp_name else null end) as max_sal,\n",
    "max(case when salary = min_sal then emp_name else null end) as min_sal\n",
    "from employee\n",
    "join cte on employee.dep_id = cte.dep_id\n",
    "GROUP BY employee.dep_id\n",
    "order by employee.dep_id\n"
   ]
  },
  {
   "cell_type": "code",
   "execution_count": null,
   "metadata": {
    "vscode": {
     "languageId": "sql"
    }
   },
   "outputs": [],
   "source": [
    "with cte as\n",
    "(\n",
    "SELECT \n",
    "*,\n",
    "ROW_NUMBER() OVER(PARTITION BY dep_id ORDER BY salary desc) as rank_desc,\n",
    "ROW_NUMBER() over(PARTITION BY dep_id ORDER BY salary) as rank_asc\n",
    "from employee\n",
    ")\n",
    "select dep_id,\n",
    "min(case when rank_desc = 1 then emp_name end) as max_sal,\n",
    "min(case when rank_asc = 1 then emp_name end) as min_sal\n",
    "from cte\n",
    "GROUP BY dep_id"
   ]
  }
 ],
 "metadata": {
  "language_info": {
   "name": "python"
  }
 },
 "nbformat": 4,
 "nbformat_minor": 2
}
