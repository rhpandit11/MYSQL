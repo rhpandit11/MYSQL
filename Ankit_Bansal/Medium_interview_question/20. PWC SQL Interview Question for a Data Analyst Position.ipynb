{
 "cells": [
  {
   "cell_type": "raw",
   "metadata": {
    "vscode": {
     "languageId": "raw"
    }
   },
   "source": [
    "1,2 -> common\n",
    "4 is mismatch\n",
    "3 new in source\n",
    "5 new in target"
   ]
  },
  {
   "cell_type": "code",
   "execution_count": null,
   "metadata": {
    "vscode": {
     "languageId": "sql"
    }
   },
   "outputs": [],
   "source": [
    "select COALESCE(s.id,t.id),-- s.name, t.name ,\n",
    "case \n",
    "    when t.name is null then 'new in target' \n",
    "    when s.name is null then 'new in source' else 'mismatch'\n",
    "end as COMMENT\n",
    "from source s\n",
    "FULL outer JOIN target t on s.id = t.id\n",
    "where s.name != t.name or s.name is NULL or t.name is NULL"
   ]
  },
  {
   "cell_type": "code",
   "execution_count": null,
   "metadata": {
    "vscode": {
     "languageId": "sql"
    }
   },
   "outputs": [],
   "source": [
    "with cte as\n",
    "(\n",
    "select *, 'source' as table_name from source\n",
    "union all\n",
    "select *, 'target' as table_name from target\n",
    ")\n",
    "select id, --count(*) as cnt, min(name) as name_min, max(name) as name_max, \n",
    "--min(table_name) as table_name_min, max(table_name) as table_name_max,\n",
    "case \n",
    "    when min(name) != max(name) then 'mismatch'\n",
    "    when min(table_name) = 'source' then 'new in source'\n",
    "    when max(table_name) = 'target' then 'new in target'\n",
    "end as comment\n",
    "from cte\n",
    "group by id\n",
    "having count(*) = 1 or (count(*)= 2 and min(name)!=max(name))"
   ]
  },
  {
   "cell_type": "code",
   "execution_count": null,
   "metadata": {
    "vscode": {
     "languageId": "sql"
    }
   },
   "outputs": [],
   "source": []
  }
 ],
 "metadata": {
  "language_info": {
   "name": "python"
  }
 },
 "nbformat": 4,
 "nbformat_minor": 2
}
