{
 "cells": [
  {
   "cell_type": "raw",
   "metadata": {
    "vscode": {
     "languageId": "raw"
    }
   },
   "source": [
    "find the room types that are searched most of times.\n",
    "output the room type along with the the number of searches for it.\n",
    "if the filter for room types has more than one room type,\n",
    "consider each unique room type as separate row.\n",
    "sort the result based on the number of searches in desc order.  "
   ]
  },
  {
   "cell_type": "code",
   "execution_count": null,
   "metadata": {
    "vscode": {
     "languageId": "sql"
    }
   },
   "outputs": [],
   "source": [
    "select * from airbnb_searches"
   ]
  },
  {
   "cell_type": "code",
   "execution_count": null,
   "metadata": {
    "vscode": {
     "languageId": "sql"
    }
   },
   "outputs": [],
   "source": [
    "select\n",
    "value as room_type,\n",
    "count(1) as no_of_searches\n",
    "from airbnb_searches\n",
    "cross apply string_split(filter_room_types,',')\n",
    "GROUP BY value\n",
    "ORDER BY no_of_searches"
   ]
  },
  {
   "cell_type": "code",
   "execution_count": null,
   "metadata": {
    "vscode": {
     "languageId": "sql"
    }
   },
   "outputs": [],
   "source": [
    "SELECT\n",
    "    unnest(string_to_array(filter_room_types, ',')) AS room_type,\n",
    "    COUNT(*) AS no_of_searches\n",
    "FROM airbnb_searches\n",
    "GROUP BY room_type\n",
    "ORDER BY no_of_searches;"
   ]
  },
  {
   "cell_type": "code",
   "execution_count": null,
   "metadata": {
    "vscode": {
     "languageId": "sql"
    }
   },
   "outputs": [],
   "source": [
    "WITH cte AS (\n",
    "  SELECT\n",
    "    user_id,\n",
    "    SUM(CASE WHEN filter_room_types LIKE '%entire%' THEN 1 ELSE 0 END) AS Entire_home,\n",
    "    SUM(CASE WHEN filter_room_types LIKE '%shared%' THEN 1 ELSE 0 END) AS Shared,\n",
    "    SUM(CASE WHEN filter_room_types LIKE '%private%' THEN 1 ELSE 0 END) AS Private\n",
    "  FROM\n",
    "    airbnb_searches\n",
    "  GROUP BY\n",
    "    user_id\n",
    ")\n",
    "select value, count(value) as no_of_searches from\n",
    "(\n",
    "SELECT\n",
    "  CASE WHEN Entire_home = 1 THEN 'Entire_home' END AS value\n",
    "FROM\n",
    "  cte\n",
    "union all\n",
    "SELECT\n",
    "  CASE WHEN Shared = 1 THEN 'Shared' END AS value\n",
    "FROM\n",
    "  cte\n",
    "union all\n",
    "SELECT\n",
    "  CASE WHEN private = 1 THEN 'private' END AS value\n",
    "FROM\n",
    "  cte) as A\n",
    "  where value is not null\n",
    "  group by value;"
   ]
  }
 ],
 "metadata": {
  "language_info": {
   "name": "python"
  }
 },
 "nbformat": 4,
 "nbformat_minor": 2
}
