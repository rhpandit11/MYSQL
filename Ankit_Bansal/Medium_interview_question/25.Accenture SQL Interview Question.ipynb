{
 "cells": [
  {
   "cell_type": "code",
   "execution_count": null,
   "metadata": {
    "vscode": {
     "languageId": "sql"
    }
   },
   "outputs": [],
   "source": [
    "select * from employees"
   ]
  },
  {
   "cell_type": "code",
   "execution_count": null,
   "metadata": {
    "vscode": {
     "languageId": "sql"
    }
   },
   "outputs": [],
   "source": [
    "select\n",
    "*,\n",
    "ascii(email_id) as ascii_email\n",
    "from employees\n",
    "where email_id = lower(email_id)"
   ]
  },
  {
   "cell_type": "code",
   "execution_count": null,
   "metadata": {
    "vscode": {
     "languageId": "sql"
    }
   },
   "outputs": [],
   "source": [
    "with cte as\n",
    "(\n",
    "select\n",
    "*,\n",
    "ascii(email_id) as ascii_email,\n",
    "rank() OVER(PARTITION BY email_id ORDER BY ascii(email_id) desc) as rn\n",
    "from employees\n",
    ")\n",
    "select * from cte\n",
    "where rn = 1"
   ]
  }
 ],
 "metadata": {
  "language_info": {
   "name": "python"
  }
 },
 "nbformat": 4,
 "nbformat_minor": 2
}
