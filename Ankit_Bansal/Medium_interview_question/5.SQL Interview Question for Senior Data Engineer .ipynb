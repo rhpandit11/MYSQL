{
 "cells": [
  {
   "cell_type": "raw",
   "metadata": {
    "vscode": {
     "languageId": "raw"
    }
   },
   "source": [
    "write a sql query to return all employee whose salary is same in same dapatement."
   ]
  },
  {
   "cell_type": "code",
   "execution_count": null,
   "metadata": {
    "vscode": {
     "languageId": "sql"
    }
   },
   "outputs": [],
   "source": [
    "select * from emp_salary_1"
   ]
  },
  {
   "cell_type": "code",
   "execution_count": null,
   "metadata": {
    "vscode": {
     "languageId": "sql"
    }
   },
   "outputs": [],
   "source": [
    "with sal_dep as\n",
    "(\n",
    "SELECT dept_id,salary\n",
    "from emp_salary_1\n",
    "group by dept_id,salary\n",
    "having count(1) > 1\n",
    ")\n",
    "select e.*\n",
    "from emp_salary_1 as e\n",
    "join sal_dep as s on e.dept_id = s.dept_id and e.salary = s.salary\n"
   ]
  },
  {
   "cell_type": "code",
   "execution_count": null,
   "metadata": {
    "vscode": {
     "languageId": "sql"
    }
   },
   "outputs": [],
   "source": [
    "with sal_dep as\n",
    "(\n",
    "SELECT dept_id,salary\n",
    "from emp_salary_1\n",
    "group by dept_id,salary\n",
    "having count(1) = 1\n",
    ")\n",
    "select e.*\n",
    "from emp_salary_1 as e\n",
    "LEFT join sal_dep as s on e.dept_id = s.dept_id and e.salary = s.salary\n",
    "WHERE s.dept_id is null\n"
   ]
  }
 ],
 "metadata": {
  "language_info": {
   "name": "python"
  }
 },
 "nbformat": 4,
 "nbformat_minor": 2
}
