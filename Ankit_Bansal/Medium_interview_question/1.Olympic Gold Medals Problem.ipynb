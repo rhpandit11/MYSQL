{
 "cells": [
  {
   "cell_type": "raw",
   "metadata": {
    "vscode": {
     "languageId": "raw"
    }
   },
   "source": [
    "Write a query to find no of gold medal per swimmer for swimmer who only won gold medals."
   ]
  },
  {
   "cell_type": "code",
   "execution_count": null,
   "metadata": {
    "vscode": {
     "languageId": "sql"
    }
   },
   "outputs": [],
   "source": [
    "select * from events;"
   ]
  },
  {
   "cell_type": "code",
   "execution_count": null,
   "metadata": {
    "vscode": {
     "languageId": "sql"
    }
   },
   "outputs": [],
   "source": [
    "select\n",
    "gold as player_name,\n",
    "count(1) as no_of_medals\n",
    "from events\n",
    "where gold not in ( select silver from events UNION all select bronze from events)\n",
    "GROUP BY player_name"
   ]
  },
  {
   "cell_type": "code",
   "execution_count": null,
   "metadata": {
    "vscode": {
     "languageId": "sql"
    }
   },
   "outputs": [],
   "source": [
    "with cte as\n",
    "(\n",
    "select gold as player_name, 'gold' as medal_type from events \n",
    "UNION all \n",
    "select silver, 'silver' as medal_type from events \n",
    "UNION all \n",
    "select bronze, 'bronze' as medal_type from events\n",
    ")\n",
    "select player_name, count(1) as no_of_gold_medals\n",
    "from cte\n",
    "group by player_name\n",
    "having count(DISTINCT medal_type) = 1 and max(medal_type) = 'gold'"
   ]
  }
 ],
 "metadata": {
  "language_info": {
   "name": "python"
  }
 },
 "nbformat": 4,
 "nbformat_minor": 2
}
