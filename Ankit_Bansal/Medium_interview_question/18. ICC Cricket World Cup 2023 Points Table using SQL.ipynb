{
 "cells": [
  {
   "cell_type": "code",
   "execution_count": null,
   "metadata": {
    "vscode": {
     "languageId": "sql"
    }
   },
   "outputs": [],
   "source": [
    "select * from icc_world_cup"
   ]
  },
  {
   "cell_type": "code",
   "execution_count": null,
   "metadata": {
    "vscode": {
     "languageId": "sql"
    }
   },
   "outputs": [],
   "source": [
    "with all_matches as\n",
    "(\n",
    "select team, sum(matches_played) as matches_played\n",
    "from\n",
    "(\n",
    "select team_1 as team, count(*) as matches_played from icc_world_cup GROUP BY team_1\n",
    "UNION ALL\n",
    "select team_2 as team, count(*) as matches_played from icc_world_cup GROUP BY team_2\n",
    ")\n",
    "GROUP BY team\n",
    "),\n",
    "winners as\n",
    "(\n",
    "    select winner, count(*) as wins from icc_world_cup group by winner\n",
    ")\n",
    "select m.team, m.matches_played, COALESCE(w.wins,0) as wins, m.matches_played - COALESCE(w.wins,0) as losses,\n",
    "COALESCE(w.wins,0) * 2 as pts\n",
    "from all_matches m\n",
    "left join winners as w on m.team = w.winner\n"
   ]
  },
  {
   "cell_type": "code",
   "execution_count": null,
   "metadata": {
    "vscode": {
     "languageId": "sql"
    }
   },
   "outputs": [],
   "source": [
    "with all_matches as\n",
    "(\n",
    "select team, sum(matches_played) as matches_played, sum(win_flag) as wins\n",
    "from\n",
    "(\n",
    "select team_1 as team, count(*) as matches_played, \n",
    "sum(case when team_1 = winner then 1 else 0 end) as win_flag\n",
    "from icc_world_cup GROUP BY team_1\n",
    "UNION ALL\n",
    "select team_2 as team, count(*) as matches_played,\n",
    "sum(case when team_2 = winner then 1 else 0 end) as win_flag\n",
    "from icc_world_cup GROUP BY team_2\n",
    ") a\n",
    "GROUP BY team\n",
    ")\n",
    "select *, matches_played - wins as losses, wins*2 as pts from all_matches\n",
    "order by wins desc\n"
   ]
  }
 ],
 "metadata": {
  "language_info": {
   "name": "python"
  }
 },
 "nbformat": 4,
 "nbformat_minor": 2
}
