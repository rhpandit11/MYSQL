{
 "cells": [
  {
   "cell_type": "raw",
   "metadata": {
    "vscode": {
     "languageId": "raw"
    }
   },
   "source": [
    "Find the origin and the final destination of each cid"
   ]
  },
  {
   "cell_type": "code",
   "execution_count": null,
   "metadata": {
    "vscode": {
     "languageId": "sql"
    }
   },
   "outputs": [],
   "source": [
    "select o.cid, o.origin, d.destination from flights o \n",
    "INNER join flights d on o.destination = d.origin\n"
   ]
  },
  {
   "cell_type": "raw",
   "metadata": {
    "vscode": {
     "languageId": "raw"
    }
   },
   "source": [
    "Find the count of new customer added in each month"
   ]
  },
  {
   "cell_type": "code",
   "execution_count": null,
   "metadata": {
    "vscode": {
     "languageId": "sql"
    }
   },
   "outputs": [],
   "source": [
    "select order_date, count(DISTINCT customer) as count_of_new_customer from\n",
    "(\n",
    "select *,\n",
    "ROW_NUMBER() over(PARTITION BY customer order BY order_date) as rn\n",
    "from sales\n",
    ")\n",
    "where rn = 1\n",
    "group by order_date"
   ]
  }
 ],
 "metadata": {
  "language_info": {
   "name": "python"
  }
 },
 "nbformat": 4,
 "nbformat_minor": 2
}
