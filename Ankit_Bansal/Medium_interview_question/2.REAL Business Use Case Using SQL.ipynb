{
 "cells": [
  {
   "cell_type": "raw",
   "metadata": {
    "vscode": {
     "languageId": "raw"
    }
   },
   "source": [
    "write a sql to find business day between create date and resolve date by excluding weekends and public holidays"
   ]
  },
  {
   "cell_type": "code",
   "execution_count": null,
   "metadata": {
    "vscode": {
     "languageId": "sql"
    }
   },
   "outputs": [],
   "source": [
    "select * from tickets"
   ]
  },
  {
   "cell_type": "code",
   "execution_count": null,
   "metadata": {
    "vscode": {
     "languageId": "sql"
    }
   },
   "outputs": [],
   "source": [
    "SELECT \n",
    "    ticket_id,\n",
    "    create_date,\n",
    "    resolved_date,\n",
    "    DATEDIFF(DAY, create_date, resolved_date) AS actual_days,\n",
    "    DATEDIFF(DAY, create_date, resolved_date) - 2 * (DATEDIFF(DAY, create_date, resolved_date) / 7) - no_of_holidays AS adjusted_days\n",
    "FROM\n",
    "(\n",
    "    SELECT\n",
    "        t.ticket_id,\n",
    "        t.create_date,\n",
    "        t.resolved_date,\n",
    "        COUNT(h.holiday_date) AS no_of_holidays\n",
    "    FROM tickets t\n",
    "    LEFT JOIN holidays h ON h.holiday_date BETWEEN t.create_date AND t.resolved_date\n",
    "    GROUP BY t.ticket_id, t.create_date, t.resolved_date\n",
    ")\n"
   ]
  }
 ],
 "metadata": {
  "language_info": {
   "name": "python"
  }
 },
 "nbformat": 4,
 "nbformat_minor": 2
}
