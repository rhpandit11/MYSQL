{
 "cells": [
  {
   "cell_type": "raw",
   "metadata": {
    "vscode": {
     "languageId": "raw"
    }
   },
   "source": [
    "write a sql query to find the total number of people present inside the hospital"
   ]
  },
  {
   "cell_type": "code",
   "execution_count": null,
   "metadata": {
    "vscode": {
     "languageId": "sql"
    }
   },
   "outputs": [],
   "source": [
    "with cte as\n",
    "(\n",
    "select\n",
    "*,\n",
    "row_number() over(partition by emp_id order by time desc) as rnk\n",
    "from hospital\n",
    ")\n",
    "select *\n",
    "from cte\n",
    "where action = 'in' and rnk = 1"
   ]
  },
  {
   "cell_type": "code",
   "execution_count": null,
   "metadata": {
    "vscode": {
     "languageId": "sql"
    }
   },
   "outputs": [],
   "source": [
    "with cte as\n",
    "(select\n",
    "emp_id,\n",
    "max(case when action = 'in' then time end) as intime,\n",
    "max(case when action = 'out' then time end) as outtime\n",
    "from hospital\n",
    "group by emp_id\n",
    ")\n",
    "SELECT * from cte\n",
    "where intime>outtime or outtime is null"
   ]
  },
  {
   "cell_type": "code",
   "execution_count": null,
   "metadata": {
    "vscode": {
     "languageId": "sql"
    }
   },
   "outputs": [],
   "source": [
    "select\n",
    "emp_id,\n",
    "max(case when action = 'in' then time end) as intime,\n",
    "max(case when action = 'out' then time end) as outtime\n",
    "from hospital\n",
    "group by emp_id\n",
    "having max(case when action = 'in' then time end) > max(case when action = 'out' then time end)\n",
    "or max(case when action = 'out' then time end) is null"
   ]
  },
  {
   "cell_type": "code",
   "execution_count": null,
   "metadata": {
    "vscode": {
     "languageId": "sql"
    }
   },
   "outputs": [],
   "source": [
    "with intime as\n",
    "(\n",
    "SELECT\n",
    "emp_id,max(time) as latest_in_time\n",
    "from hospital\n",
    "where \"action\" = 'in'\n",
    "group by emp_id\n",
    "),\n",
    "outtime as\n",
    "(\n",
    "SELECT\n",
    "emp_id,max(time) as latest_out_time\n",
    "from hospital\n",
    "where \"action\" = 'out'\n",
    "group by emp_id\n",
    ")\n",
    "select\n",
    "* from intime\n",
    "left join outtime on intime.emp_id = outtime.emp_id\n",
    "where  latest_in_time > latest_out_time or latest_out_time is null"
   ]
  }
 ],
 "metadata": {
  "language_info": {
   "name": "python"
  }
 },
 "nbformat": 4,
 "nbformat_minor": 2
}
