{
 "cells": [
  {
   "cell_type": "raw",
   "metadata": {
    "vscode": {
     "languageId": "raw"
    }
   },
   "source": [
    "we need output pair as a table Like there are adult and child in the table and they are goinf for a fair and they a ride on jhoola,\n",
    "so one adult can go with one child and in last one adult will be alone."
   ]
  },
  {
   "cell_type": "code",
   "execution_count": null,
   "metadata": {
    "vscode": {
     "languageId": "sql"
    }
   },
   "outputs": [],
   "source": [
    "select * from family;"
   ]
  },
  {
   "cell_type": "code",
   "execution_count": null,
   "metadata": {
    "vscode": {
     "languageId": "sql"
    }
   },
   "outputs": [],
   "source": [
    "with adult as\n",
    "(\n",
    "select \n",
    "*,\n",
    "ROW_NUMBER() OVER(order by person) as rn\n",
    "from family \n",
    "where type = 'Adult'\n",
    "),\n",
    "child as\n",
    "(\n",
    "select  \n",
    "*,\n",
    "ROW_NUMBER() OVER(order by person) as rn\n",
    "from family \n",
    "where type = 'Child'\n",
    ")\n",
    "select adult.person, child.person from adult\n",
    "left join child on adult.rn = child.rn\n"
   ]
  },
  {
   "cell_type": "code",
   "execution_count": null,
   "metadata": {
    "vscode": {
     "languageId": "sql"
    }
   },
   "outputs": [],
   "source": [
    "#based on age\n",
    "\n",
    "with adult as\n",
    "(\n",
    "select \n",
    "*,\n",
    "ROW_NUMBER() OVER(order by age desc) as rn\n",
    "from family \n",
    "where type = 'Adult'\n",
    "),\n",
    "child as\n",
    "(\n",
    "select  \n",
    "*,\n",
    "ROW_NUMBER() OVER(order by age asc) as rn\n",
    "from family \n",
    "where type = 'Child'\n",
    ")\n",
    "select adult.person, child.person, adult.age, child.age from adult\n",
    "left join child on adult.rn = child.rn\n"
   ]
  }
 ],
 "metadata": {
  "language_info": {
   "name": "python"
  }
 },
 "nbformat": 4,
 "nbformat_minor": 2
}
