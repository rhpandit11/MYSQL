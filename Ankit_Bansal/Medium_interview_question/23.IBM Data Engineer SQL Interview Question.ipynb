{
 "cells": [
  {
   "cell_type": "raw",
   "metadata": {
    "vscode": {
     "languageId": "raw"
    }
   },
   "source": [
    "A travel and tour company has 2 tables that relate to customers FAMILIES and countries. Each tour offers a discount if a \n",
    "minimum number of people book at the same time.\n",
    "\n",
    "write a query to print the maximum number of discounted tours any 1 FAMILy in the families table can choose from.\n"
   ]
  },
  {
   "cell_type": "code",
   "execution_count": null,
   "metadata": {
    "vscode": {
     "languageId": "sql"
    }
   },
   "outputs": [],
   "source": [
    "select * from families\n",
    "\n",
    "select * from countries"
   ]
  },
  {
   "cell_type": "code",
   "execution_count": null,
   "metadata": {
    "vscode": {
     "languageId": "sql"
    }
   },
   "outputs": [],
   "source": [
    "select * from countries\n",
    "where min_size < (select max(family_size) from families)"
   ]
  },
  {
   "cell_type": "code",
   "execution_count": null,
   "metadata": {
    "vscode": {
     "languageId": "sql"
    }
   },
   "outputs": [],
   "source": [
    "select max(cnt) from\n",
    "(\n",
    "select f.name, count(*) as cnt\n",
    "from families f\n",
    "join countries c on f.family_size BETWEEN c.min_size and c.max_size\n",
    "GROUP BY f.name\n",
    ")\n"
   ]
  }
 ],
 "metadata": {
  "language_info": {
   "name": "python"
  }
 },
 "nbformat": 4,
 "nbformat_minor": 2
}
