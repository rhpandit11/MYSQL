{
 "cells": [
  {
   "cell_type": "raw",
   "metadata": {
    "vscode": {
     "languageId": "raw"
    }
   },
   "source": [
    "write a query to get start time and end time of each call from below 2 tables. Also create a column of call duration in minutes\n",
    "Please do take into account that three will be multiple calls from one phone number and each enrty in start table has a \n",
    "corresponding entry in end table."
   ]
  },
  {
   "cell_type": "code",
   "execution_count": null,
   "metadata": {
    "vscode": {
     "languageId": "sql"
    }
   },
   "outputs": [],
   "source": [
    "select * from call_start_logs;\n",
    "select * from call_end_logs;"
   ]
  },
  {
   "cell_type": "code",
   "execution_count": null,
   "metadata": {
    "vscode": {
     "languageId": "sql"
    }
   },
   "outputs": [],
   "source": [
    "SELECT a.phone_number, a.start_time, b.end_time, extract(MINUTE from end_time - start_time) as duration\n",
    "from\n",
    "(SELECT *,ROW_NUMBER() over(PARTITION BY phone_number ORDER BY start_time) as rn from call_start_logs) a\n",
    "join \n",
    "(SELECT *,ROW_NUMBER() OVER(PARTITION BY phone_number ORDER BY end_time) as rn from call_end_logs) b\n",
    "on a.phone_number = b.phone_number and a.rn = b.rn "
   ]
  },
  {
   "cell_type": "code",
   "execution_count": null,
   "metadata": {
    "vscode": {
     "languageId": "sql"
    }
   },
   "outputs": [],
   "source": [
    "SELECT phone_number,rn, min(call_time) as start_time, max(call_time) as end_time, extract(MINUTE from max(call_time) - min(call_time)) as duration\n",
    "from\n",
    "(SELECT phone_number, start_time as call_time, ROW_NUMBER() over(PARTITION BY phone_number ORDER BY start_time) as rn from call_start_logs\n",
    "UNION all \n",
    "SELECT *,ROW_NUMBER() OVER(PARTITION BY phone_number ORDER BY end_time) as rn from call_end_logs) a\n",
    "GROUP BY phone_number, rn\n"
   ]
  }
 ],
 "metadata": {
  "kernelspec": {
   "display_name": "Python 3",
   "language": "python",
   "name": "python3"
  },
  "language_info": {
   "codemirror_mode": {
    "name": "ipython",
    "version": 3
   },
   "file_extension": ".py",
   "mimetype": "text/x-python",
   "name": "python",
   "nbconvert_exporter": "python",
   "pygments_lexer": "ipython3",
   "version": "3.11.3"
  }
 },
 "nbformat": 4,
 "nbformat_minor": 2
}
