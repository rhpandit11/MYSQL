{
 "cells": [
  {
   "cell_type": "code",
   "execution_count": null,
   "metadata": {
    "vscode": {
     "languageId": "sql"
    }
   },
   "outputs": [],
   "source": [
    "select * from purchases"
   ]
  },
  {
   "cell_type": "code",
   "execution_count": null,
   "metadata": {
    "vscode": {
     "languageId": "sql"
    }
   },
   "outputs": [],
   "source": [
    "select count(1) as user_num from \n",
    "(\n",
    "select\n",
    "user_id,\n",
    "product_id,\n",
    "count(DISTINCT purchase_date::date) as p_d_count\n",
    "from purchases\n",
    "GROUP BY user_id,product_id\n",
    "HAVING count(DISTINCT purchase_date::date) > 1\n",
    ")\n"
   ]
  }
 ],
 "metadata": {
  "language_info": {
   "name": "python"
  }
 },
 "nbformat": 4,
 "nbformat_minor": 2
}
