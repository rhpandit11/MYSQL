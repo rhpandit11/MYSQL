{
 "cells": [
  {
   "cell_type": "code",
   "execution_count": null,
   "metadata": {
    "vscode": {
     "languageId": "sql"
    }
   },
   "outputs": [],
   "source": [
    "select * from movies\n",
    "\n",
    "select * from reviews"
   ]
  },
  {
   "cell_type": "code",
   "execution_count": null,
   "metadata": {
    "vscode": {
     "languageId": "sql"
    }
   },
   "outputs": [],
   "source": [
    "with cte as(\n",
    "select m.genre, m.title, avg(r.rating) as avg_rating,\n",
    "ROW_NUMBER() over(PARTITION BY m.genre ORDER BY avg(r.rating)desc) as rn\n",
    "from movies m\n",
    "join reviews r on m.id = r.movie_id \n",
    "GROUP BY m.genre, m.title\n",
    ")\n",
    "select genre, title, round(avg_rating) AS avg_rating,\n",
    "replicate('*',round(avg_rating)::int)\n",
    "from cte \n",
    "where rn = 1"
   ]
  },
  {
   "cell_type": "code",
   "execution_count": null,
   "metadata": {
    "vscode": {
     "languageId": "sql"
    }
   },
   "outputs": [],
   "source": [
    "with cte as(\n",
    "select m.genre, m.title, avg(r.rating) as avg_rating,\n",
    "ROW_NUMBER() over(PARTITION BY m.genre ORDER BY avg(r.rating)desc) as rn\n",
    "from movies m\n",
    "join reviews r on m.id = r.movie_id \n",
    "GROUP BY m.genre, m.title\n",
    ")\n",
    "select genre, title, round(avg_rating) AS avg_rating,\n",
    "repeat('*',round(avg_rating)::int)\n",
    "from cte \n",
    "where rn = 1"
   ]
  },
  {
   "cell_type": "code",
   "execution_count": null,
   "metadata": {
    "vscode": {
     "languageId": "sql"
    }
   },
   "outputs": [],
   "source": []
  }
 ],
 "metadata": {
  "language_info": {
   "name": "python"
  }
 },
 "nbformat": 4,
 "nbformat_minor": 2
}
