{
 "cells": [
  {
   "cell_type": "code",
   "execution_count": null,
   "metadata": {
    "vscode": {
     "languageId": "sql"
    }
   },
   "outputs": [],
   "source": [
    "SELECT * from input;"
   ]
  },
  {
   "cell_type": "code",
   "execution_count": null,
   "metadata": {
    "vscode": {
     "languageId": "sql"
    }
   },
   "outputs": [],
   "source": [
    "with cte as\n",
    "(\n",
    "select\n",
    "*,\n",
    "left(formula,1) as d1,\n",
    "right(formula,1) as d2,\n",
    "substr(formula,2,1) as o\n",
    "from input\n",
    ")\n",
    "select cte.id, cte.value, cte.formula, cte.o, ip1.value as d1_value, ip2.value as d2_value,\n",
    "case when cte.o = '+' then ip1.value + ip2.value else ip1.value - ip2.value end as new_value\n",
    "from cte\n",
    "join input as ip1 on cast(cte.d1 as integer) = ip1.id\n",
    "join input as ip2 on cast(cte.d2 as integer) = ip2.id"
   ]
  }
 ],
 "metadata": {
  "language_info": {
   "name": "python"
  }
 },
 "nbformat": 4,
 "nbformat_minor": 2
}
