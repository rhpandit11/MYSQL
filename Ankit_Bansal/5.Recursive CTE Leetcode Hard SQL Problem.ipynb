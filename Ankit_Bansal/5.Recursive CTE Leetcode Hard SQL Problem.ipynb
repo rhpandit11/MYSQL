{
 "cells": [
  {
   "cell_type": "code",
   "execution_count": null,
   "metadata": {
    "vscode": {
     "languageId": "sql"
    }
   },
   "outputs": [],
   "source": [
    "--recursive cte\n",
    "with cte_numbers\n",
    "as (\n",
    "    select 1 as num --anchor query\n",
    "\n",
    "    union all\n",
    "\n",
    "    select num+1 --recursive query\n",
    "    from cte_numbers\n",
    "    where num < 6 --filter stop recursion\n",
    ")\n",
    "select num \n",
    "from cte_numbers"
   ]
  },
  {
   "cell_type": "raw",
   "metadata": {
    "vscode": {
     "languageId": "raw"
    }
   },
   "source": [
    "Total sales by year"
   ]
  },
  {
   "cell_type": "code",
   "execution_count": null,
   "metadata": {
    "vscode": {
     "languageId": "sql"
    }
   },
   "outputs": [],
   "source": [
    "select * from sales"
   ]
  },
  {
   "cell_type": "code",
   "execution_count": null,
   "metadata": {
    "vscode": {
     "languageId": "sql"
    }
   },
   "outputs": [],
   "source": [
    "WITH RECURSIVE r_cte AS (\n",
    "    SELECT MIN(period_start) AS dates, MAX(period_end) AS max_date FROM sales\n",
    "    UNION ALL\n",
    "    SELECT DATEADD(DAY, 1, dates) AS dates, max_date FROM r_cte\n",
    "    WHERE dates < max_date\n",
    ")\n",
    "SELECT product_id, YEAR(dates) AS report_year, SUM(average_daily_sales) AS total_amount\n",
    "FROM r_cte\n",
    "INNER JOIN sales ON date_column BETWEEN period_start AND period_end\n",
    "GROUP BY product_id, YEAR(dates)\n",
    "ORDER BY product_id, YEAR(dates);\n"
   ]
  }
 ],
 "metadata": {
  "language_info": {
   "name": "python"
  }
 },
 "nbformat": 4,
 "nbformat_minor": 2
}
