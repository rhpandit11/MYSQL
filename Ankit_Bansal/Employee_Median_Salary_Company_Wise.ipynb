{
 "cells": [
  {
   "cell_type": "raw",
   "metadata": {
    "vscode": {
     "languageId": "raw"
    }
   },
   "source": [
    "write a sql qury to find the median salary of each company.\n"
   ]
  },
  {
   "cell_type": "code",
   "execution_count": null,
   "metadata": {
    "vscode": {
     "languageId": "sql"
    }
   },
   "outputs": [],
   "source": [
    "select * FROM employee"
   ]
  },
  {
   "cell_type": "code",
   "execution_count": null,
   "metadata": {
    "vscode": {
     "languageId": "sql"
    }
   },
   "outputs": [],
   "source": [
    "select company, avg(salary)\n",
    "from\n",
    "(SELECT\n",
    "*,\n",
    "ROW_NUMBER() OVER(PARTITION BY company ORDER BY salary) as rn,\n",
    "COUNT(1) OVER(PARTITION BY company) as total_cnt\n",
    "from employee) a\n",
    "WHERE rn BETWEEN total_cnt*1.0/2 and total_cnt*1.0/2+1\n",
    "GROUP BY company\n"
   ]
  }
 ],
 "metadata": {
  "language_info": {
   "name": "python"
  }
 },
 "nbformat": 4,
 "nbformat_minor": 2
}
