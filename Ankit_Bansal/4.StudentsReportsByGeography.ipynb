{
 "cells": [
  {
   "cell_type": "code",
   "execution_count": null,
   "metadata": {
    "vscode": {
     "languageId": "sql"
    }
   },
   "outputs": [],
   "source": [
    "select * FROM players_location"
   ]
  },
  {
   "cell_type": "code",
   "execution_count": null,
   "metadata": {
    "vscode": {
     "languageId": "sql"
    }
   },
   "outputs": [],
   "source": [
    "select\n",
    "max(case when city = 'Bangalore' then name end) as Bangalore,\n",
    "max(case when city = 'Mumbai' then name end) as Mumbai,\n",
    "max(case when city = 'Delhi' then name end) as Delhi\n",
    "FROM\n",
    "(\n",
    "    select\n",
    "    *,\n",
    "    row_number() over(PARTITION BY city ORDER BY name asc) as player_groups\n",
    "    from players_location\n",
    ") a\n",
    "GROUP BY player_groups\n",
    "ORDER BY player_groups\n"
   ]
  }
 ],
 "metadata": {
  "language_info": {
   "name": "python"
  }
 },
 "nbformat": 4,
 "nbformat_minor": 2
}
