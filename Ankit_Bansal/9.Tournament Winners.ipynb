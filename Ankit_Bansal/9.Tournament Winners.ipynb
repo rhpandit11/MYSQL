{
 "cells": [
  {
   "cell_type": "raw",
   "metadata": {
    "vscode": {
     "languageId": "raw"
    }
   },
   "source": [
    "write an sql query to find the winner in each group\n",
    "\n",
    "The winner in each group is the player who scored the maximum total points within the group In the case of tie\n",
    "the lowest player_id wins"
   ]
  },
  {
   "cell_type": "code",
   "execution_count": null,
   "metadata": {
    "vscode": {
     "languageId": "sql"
    }
   },
   "outputs": [],
   "source": [
    "select * from players;\n",
    "select * from matches;"
   ]
  },
  {
   "cell_type": "code",
   "execution_count": null,
   "metadata": {
    "vscode": {
     "languageId": "sql"
    }
   },
   "outputs": [],
   "source": [
    "with player_score as\n",
    "(\n",
    "select first_player as player_id, first_score as score from matches\n",
    "union all\n",
    "select second_player as player_id, second_score as score from matches\n",
    "),\n",
    "final_score as\n",
    "(\n",
    "select\n",
    "p.group_id, ps.player_id, sum(score) as score\n",
    "from player_score ps\n",
    "join players as p on p.player_id = ps.player_id\n",
    "GROUP BY ps.player_id, p.group_id\n",
    "ORDER BY ps.player_id asc\n",
    "),\n",
    "final_ranking as\n",
    "(\n",
    "select *,\n",
    "rank() over(PARTITION BY group_id order by score desc, player_id asc) as rn\n",
    "from final_score\n",
    ")\n",
    "select * from final_ranking where rn = 1\n",
    "\n",
    "\n"
   ]
  }
 ],
 "metadata": {
  "language_info": {
   "name": "python"
  }
 },
 "nbformat": 4,
 "nbformat_minor": 2
}
