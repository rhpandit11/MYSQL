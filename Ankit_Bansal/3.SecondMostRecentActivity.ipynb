{
 "cells": [
  {
   "cell_type": "raw",
   "metadata": {
    "vscode": {
     "languageId": "raw"
    }
   },
   "source": [
    "Second Most Recent Activity"
   ]
  },
  {
   "cell_type": "code",
   "execution_count": null,
   "metadata": {
    "vscode": {
     "languageId": "sql"
    }
   },
   "outputs": [],
   "source": [
    "select\n",
    "*\n",
    "from useractivity"
   ]
  },
  {
   "cell_type": "code",
   "execution_count": null,
   "metadata": {
    "vscode": {
     "languageId": "sql"
    }
   },
   "outputs": [],
   "source": [
    "with cte as\n",
    "(\n",
    "select *,\n",
    "count(1) OVER(PARTITION BY username) as total,\n",
    "ROW_NUMBER() over(PARTITION BY username ORDER BY startdate) as rnk\n",
    "from useractivity\n",
    ")\n",
    "select * from cte\n",
    "where total = 1 or rnk = 2"
   ]
  }
 ],
 "metadata": {
  "language_info": {
   "name": "python"
  }
 },
 "nbformat": 4,
 "nbformat_minor": 2
}
