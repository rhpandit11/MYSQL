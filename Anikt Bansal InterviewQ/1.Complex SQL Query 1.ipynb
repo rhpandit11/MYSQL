{
 "cells": [
  {
   "cell_type": "code",
   "execution_count": null,
   "metadata": {
    "vscode": {
     "languageId": "sql"
    }
   },
   "outputs": [],
   "source": [
    "select * from icc_world_cup"
   ]
  },
  {
   "cell_type": "code",
   "execution_count": null,
   "metadata": {
    "vscode": {
     "languageId": "sql"
    }
   },
   "outputs": [],
   "source": [
    "select team_name, count(1) as no_of_matches_played, sum(win_flag) as no_of_matches_won, count(1) - sum(win_flag) as no_of_losses\n",
    "from\n",
    "(SELECT team_1 as team_name, case when team_1 = winner then 1 else 0 end as win_flag from icc_world_cup\n",
    "UNION ALL\n",
    "SELECT team_2 as team_name, case when team_2 = winner then 1 else 0 end as win_flag from icc_world_cup\n",
    ")\n",
    "GROUP BY team_name\n",
    "ORDER BY no_of_matches_won desc\n"
   ]
  }
 ],
 "metadata": {
  "language_info": {
   "name": "python"
  }
 },
 "nbformat": 4,
 "nbformat_minor": 2
}
