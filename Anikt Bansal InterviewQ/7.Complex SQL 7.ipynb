{
 "cells": [
  {
   "cell_type": "code",
   "execution_count": null,
   "metadata": {
    "vscode": {
     "languageId": "sql"
    }
   },
   "outputs": [],
   "source": [
    "/*\n",
    "trips-and-users\n",
    "\n",
    "Write a sql query to find the cancellation rate of requests with unbanned users(both client and driver must not be banned)\n",
    "each day between \"2013-10-01\" and \"2013-10-03\".\n",
    "\n",
    "The cancellation rate is computed by dividing the numbe canceled (by client or driver) request with unbanned users by the total \n",
    "number of request with unbanned users on that day.\n",
    "\n",
    "*/"
   ]
  },
  {
   "cell_type": "code",
   "execution_count": null,
   "metadata": {
    "vscode": {
     "languageId": "sql"
    }
   },
   "outputs": [],
   "source": [
    "select * from trips;\n",
    "\n",
    "select * from users;"
   ]
  },
  {
   "cell_type": "code",
   "execution_count": null,
   "metadata": {
    "vscode": {
     "languageId": "sql"
    }
   },
   "outputs": [],
   "source": [
    "select \n",
    "request_at, \n",
    "count(case when status in ('cancelled_by_client', 'cancelled_by_driver') then 1 else null end) as cancelled_trip_count,\n",
    "count(1) as total_trips,\n",
    "1.0*count(case when status in ('cancelled_by_client', 'cancelled_by_driver') then 1 else null end) / count(1)*100 as cancelled_percent\n",
    "from trips t\n",
    "join users c on t.client_id = c.users_id\n",
    "join users d on t.driver_id = d.users_id\n",
    "group by request_at"
   ]
  }
 ],
 "metadata": {
  "language_info": {
   "name": "python"
  }
 },
 "nbformat": 4,
 "nbformat_minor": 2
}
