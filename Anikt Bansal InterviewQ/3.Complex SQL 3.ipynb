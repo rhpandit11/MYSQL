{
 "cells": [
  {
   "cell_type": "code",
   "execution_count": null,
   "metadata": {
    "vscode": {
     "languageId": "sql"
    }
   },
   "outputs": [],
   "source": [
    "with \n",
    "total_visit as\n",
    "(\n",
    "SELECT name, count(1) as total_visits, string_agg(DISTINCT resources, ',') as resources_used \n",
    "from entries\n",
    "group by name\n",
    "),\n",
    "floor_visit as\n",
    "(\n",
    "select\n",
    "name, floor, count(1) no_of_floor_vist,\n",
    "rank() OVER(PARTITION BY name ORDER BY count(1) desc) as rnk\n",
    "from entries\n",
    "group by name,floor\n",
    ")\n",
    "select fv.name, fv.floor as most_floor_visit, tv.total_visits, tv.resources_used\n",
    "from floor_visit fv \n",
    "inner join total_visit tv on fv.name = tv.name\n",
    "where rnk = 1"
   ]
  }
 ],
 "metadata": {
  "language_info": {
   "name": "python"
  }
 },
 "nbformat": 4,
 "nbformat_minor": 2
}
