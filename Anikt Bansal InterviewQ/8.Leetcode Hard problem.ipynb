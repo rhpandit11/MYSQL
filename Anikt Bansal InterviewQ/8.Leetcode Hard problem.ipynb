{
 "cells": [
  {
   "cell_type": "code",
   "execution_count": null,
   "metadata": {
    "vscode": {
     "languageId": "sql"
    }
   },
   "outputs": [],
   "source": [
    "/*\n",
    "\n",
    "write a sql query to find the winner in each group\n",
    "\n",
    "The winner in each group is the player who scored the maximum total points within the group In the case of tie\n",
    "the lowest player_id winds\n",
    "\n",
    "*/"
   ]
  },
  {
   "cell_type": "code",
   "execution_count": null,
   "metadata": {
    "vscode": {
     "languageId": "sql"
    }
   },
   "outputs": [],
   "source": [
    "SELECT * from players\n",
    "\n",
    "SELECT * from matches"
   ]
  },
  {
   "cell_type": "code",
   "execution_count": null,
   "metadata": {
    "vscode": {
     "languageId": "sql"
    }
   },
   "outputs": [],
   "source": [
    "with player_scores as\n",
    "(\n",
    "select first_player as player_id, first_score as score from matches\n",
    "union all\n",
    "select second_player as player_id, second_score as score from matches\n",
    "),\n",
    "final_scores as\n",
    "(\n",
    "SELECT p.group_id, ps.player_id, sum(score) as score\n",
    "from player_scores ps\n",
    "join players p on p.player_id = ps.player_id\n",
    "GROUP BY p.group_id, ps.player_id\n",
    "),\n",
    "final_ranking as\n",
    "(\n",
    "    select\n",
    "    *,\n",
    "    row_number() over(PARTITION BY group_id ORDER BY score desc,player_id asc) as rn\n",
    "    from final_scores\n",
    ")\n",
    "SELECT * from final_ranking\n",
    "where rn = 1"
   ]
  }
 ],
 "metadata": {
  "language_info": {
   "name": "python"
  }
 },
 "nbformat": 4,
 "nbformat_minor": 2
}
