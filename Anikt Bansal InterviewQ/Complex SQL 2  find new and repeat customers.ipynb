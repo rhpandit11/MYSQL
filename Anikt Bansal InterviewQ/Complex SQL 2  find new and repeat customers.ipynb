{
 "cells": [
  {
   "cell_type": "code",
   "execution_count": null,
   "metadata": {
    "vscode": {
     "languageId": "sql"
    }
   },
   "outputs": [],
   "source": [
    "-- Find the order_date, new_counstomer_count, repeat_customer_count"
   ]
  },
  {
   "cell_type": "code",
   "execution_count": null,
   "metadata": {
    "vscode": {
     "languageId": "sql"
    }
   },
   "outputs": [],
   "source": [
    "with first_visit_date as\n",
    "(\n",
    "    SELECT customer_id, min(order_date) as first_visit_date\n",
    "    from customer_orders\n",
    "    GROUP BY customer_id\n",
    "),\n",
    "visit_flag as\n",
    "(\n",
    "    select co.*, fo.first_visit_date,\n",
    "    case when co.order_date = fo.first_visit_date then 1 else 0 end as first_visit_flag,\n",
    "    case when co.order_date != fo.first_visit_date then 1 else 0 end as repeat_visit_flag\n",
    "    from customer_orders co\n",
    "    join first_visit_date fo on co.customer_id = fo.customer_id\n",
    ")\n",
    "select order_date, sum(first_visit_flag) as no_of_new_customer, sum(repeat_visit_flag) as no_of_repeat_customer\n",
    "from visit_flag\n",
    "GROUP BY order_date\n",
    "order by order_date"
   ]
  },
  {
   "cell_type": "code",
   "execution_count": null,
   "metadata": {
    "vscode": {
     "languageId": "sql"
    }
   },
   "outputs": [],
   "source": [
    "with first_visit_date as\n",
    "(\n",
    "    SELECT customer_id, min(order_date) as first_visit_date\n",
    "    from customer_orders\n",
    "    GROUP BY customer_id\n",
    ")\n",
    "select co.order_date,\n",
    "sum(case when co.order_date = fo.first_visit_date then 1 else 0 end) as first_visit_flag,\n",
    "sum(case when co.order_date != fo.first_visit_date then 1 else 0 end) as repeat_visit_flag\n",
    "from customer_orders co\n",
    "join first_visit_date fo on co.customer_id = fo.customer_id\n",
    "GROUP BY co.order_date\n",
    "order by co.order_date"
   ]
  }
 ],
 "metadata": {
  "language_info": {
   "name": "python"
  }
 },
 "nbformat": 4,
 "nbformat_minor": 2
}
