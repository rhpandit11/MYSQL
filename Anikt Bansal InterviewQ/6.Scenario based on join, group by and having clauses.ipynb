{
 "cells": [
  {
   "cell_type": "code",
   "execution_count": null,
   "metadata": {
    "vscode": {
     "languageId": "sql"
    }
   },
   "outputs": [],
   "source": [
    "--Write a query to find the personId, Name, number of friends, sum of marks of person who have friends with total score \n",
    "-- greater than 100"
   ]
  },
  {
   "cell_type": "code",
   "execution_count": null,
   "metadata": {
    "vscode": {
     "languageId": "sql"
    }
   },
   "outputs": [],
   "source": [
    "select * from person\n",
    "\n",
    "SELECT * from friend"
   ]
  },
  {
   "cell_type": "code",
   "execution_count": null,
   "metadata": {
    "vscode": {
     "languageId": "sql"
    }
   },
   "outputs": [],
   "source": [
    "with cte as\n",
    "(\n",
    "select f.pid, sum(p.score) as total_frnd_score, count(1) as no_of_frnds\n",
    "from friend f\n",
    "join person p on f.fid = p.personid\n",
    "GROUP BY f.pid\n",
    "HAVING sum(p.score) > 100\n",
    ")\n",
    "select person.name, cte.*\n",
    "from cte\n",
    "join person on cte.pid = person.personid\n"
   ]
  }
 ],
 "metadata": {
  "language_info": {
   "name": "python"
  }
 },
 "nbformat": 4,
 "nbformat_minor": 2
}
