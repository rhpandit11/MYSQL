{
 "cells": [
  {
   "cell_type": "code",
   "execution_count": null,
   "metadata": {
    "vscode": {
     "languageId": "sql"
    }
   },
   "outputs": [],
   "source": [
    "SELECT * FROM tasks"
   ]
  },
  {
   "cell_type": "code",
   "execution_count": null,
   "metadata": {
    "vscode": {
     "languageId": "sql"
    }
   },
   "outputs": [],
   "source": [
    "with all_dates as\n",
    "(\n",
    "SELECT\n",
    "*,\n",
    "ROW_NUMBER() over(PARTITION BY state ORDER BY date_value) as rn,\n",
    "date_value -1*(ROW_NUMBER() OVER (PARTITION BY state ORDER BY date_value)) AS group_date\n",
    "from tasks\n",
    ")\n",
    "select min(date_value) as start_date, max(date_value) as end_date,state\n",
    "from all_dates\n",
    "GROUP BY state\n",
    "ORDER BY start_date"
   ]
  },
  {
   "cell_type": "code",
   "execution_count": null,
   "metadata": {
    "vscode": {
     "languageId": "sql"
    }
   },
   "outputs": [],
   "source": [
    "with cte as (\n",
    "select * , rank() over(partition by state order by date_value) as rn , \n",
    "ROW_NUMBER() over(order by date_value ) as row from tasks )\n",
    "select min(date_value) as start_date , max(date_value) as end_date , state  from cte group by (rn-row) , state\n",
    "order by min(date_value)"
   ]
  }
 ],
 "metadata": {
  "language_info": {
   "name": "python"
  }
 },
 "nbformat": 4,
 "nbformat_minor": 2
}
