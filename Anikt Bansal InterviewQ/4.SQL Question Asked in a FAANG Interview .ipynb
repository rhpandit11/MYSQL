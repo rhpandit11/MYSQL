{
 "cells": [
  {
   "cell_type": "code",
   "execution_count": null,
   "metadata": {
    "vscode": {
     "languageId": "sql"
    }
   },
   "outputs": [],
   "source": [
    "declare @today_date date;\n",
    "declare @n int;\n",
    "set @today_date = '2022-01-02';\n",
    "set @n = 3;\n",
    "select dateadd(week, @n-1,dateadd(day,8-datepart(weekday,@today_date),@today_date))\n"
   ]
  },
  {
   "cell_type": "code",
   "execution_count": null,
   "metadata": {
    "vscode": {
     "languageId": "sql"
    }
   },
   "outputs": [],
   "source": [
    "DO $$\n",
    "DECLARE\n",
    "    today_date DATE := '2022-01-02';\n",
    "    n INT := 3;\n",
    "    result DATE;\n",
    "BEGIN\n",
    "    -- Calculate the result using PostgreSQL functions\n",
    "    result := today_date \n",
    "              + INTERVAL '1 week' * (n - 1)\n",
    "              + (8 - EXTRACT(DOW FROM today_date)) * INTERVAL '1 day';\n",
    "\n",
    "    RAISE NOTICE 'Result date: %', result;\n",
    "END $$;\n"
   ]
  }
 ],
 "metadata": {
  "language_info": {
   "name": "python"
  }
 },
 "nbformat": 4,
 "nbformat_minor": 2
}
