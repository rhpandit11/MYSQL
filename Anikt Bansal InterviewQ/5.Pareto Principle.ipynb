{
 "cells": [
  {
   "cell_type": "code",
   "execution_count": null,
   "metadata": {
    "vscode": {
     "languageId": "sql"
    }
   },
   "outputs": [],
   "source": [
    "/*\n",
    "The Pareto principle states that for many outcomes, roughly 80% of consequences come from 20% of causes.\n",
    "eg:\n",
    "1 - 80% of the productivity come from 20% of the employees\n",
    "2 - 80% of your sales come from 20% of your clients.\n",
    "3 - 80% of decisions in a meeting are made in 20% of the time\n",
    "4 - 80% of your sales come from 20% of your products or services.\n",
    "*/"
   ]
  },
  {
   "cell_type": "code",
   "execution_count": null,
   "metadata": {
    "vscode": {
     "languageId": "sql"
    }
   },
   "outputs": [],
   "source": [
    "with product_wise_sales as\n",
    "(\n",
    "    select \n",
    "    product_id,\n",
    "    sum(sales) as product_sales\n",
    "    from orders\n",
    "    group by product_id\n",
    "),\n",
    "calc_sales\n",
    "(\n",
    "    select\n",
    "    product_id,\n",
    "    product_sales,\n",
    "    sum(product_sales) over(order by product_sales desc rows BETWEEN UNBOUNDED PRECEDING and 0 PRECEDING) as running_sales,\n",
    "    0.8*sum(product_sales) over() as total_sales\n",
    "    from product_wise_sales\n",
    ")\n",
    "select * from calc_sales where running_sales <= total_sales"
   ]
  }
 ],
 "metadata": {
  "language_info": {
   "name": "python"
  }
 },
 "nbformat": 4,
 "nbformat_minor": 2
}
