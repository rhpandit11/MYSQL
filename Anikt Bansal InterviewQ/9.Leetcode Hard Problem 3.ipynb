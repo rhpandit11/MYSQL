{
 "cells": [
  {
   "cell_type": "code",
   "execution_count": null,
   "metadata": {
    "vscode": {
     "languageId": "sql"
    }
   },
   "outputs": [],
   "source": [
    "/*\n",
    "Write a sql query to find for each seller, weather the brand of the second item(by date) they sold is their favorite.\n",
    "if a seller sold less than two items report the answer for that seller as no of o.p \n",
    "\n",
    "*/"
   ]
  },
  {
   "cell_type": "code",
   "execution_count": null,
   "metadata": {
    "vscode": {
     "languageId": "sql"
    }
   },
   "outputs": [],
   "source": [
    "select * from orders\n",
    "\n",
    "SELECT * from users_1\n",
    "\n",
    "SELECT * from items"
   ]
  },
  {
   "cell_type": "code",
   "execution_count": null,
   "metadata": {
    "vscode": {
     "languageId": "sql"
    }
   },
   "outputs": [],
   "source": [
    "with rnk_order as\n",
    "(\n",
    "select\n",
    "*,\n",
    "rank() over(PARTITION BY seller_id ORDER BY order_date asc) as rn\n",
    "from orders\n",
    ")\n",
    "select u.user_id, ro.*,i.item_brand,u.favorite_brand,\n",
    "CASE \n",
    "    WHEN i.item_brand = u.favorite_brand THEN 'Yes'  \n",
    "    ELSE  'No'\n",
    "END as item_fav_brand\n",
    "from users_1 u\n",
    "left join  rnk_order ro on ro.seller_id = u.user_id and rn = 2\n",
    "left join items i on ro.item_id = i.item_id\n",
    "--where rn = 2"
   ]
  },
  {
   "cell_type": "code",
   "execution_count": null,
   "metadata": {
    "vscode": {
     "languageId": "sql"
    }
   },
   "outputs": [],
   "source": [
    "with rnk_order as\n",
    "(\n",
    "select\n",
    "*,\n",
    "rank() over(PARTITION BY seller_id ORDER BY order_date asc) as rn\n",
    "from orders\n",
    ")\n",
    "select u.user_id as seller_id,\n",
    "CASE \n",
    "    WHEN i.item_brand = u.favorite_brand THEN 'Yes'  \n",
    "    ELSE  'No'\n",
    "END as item_fav_brand\n",
    "from users_1 u\n",
    "left join  rnk_order ro on ro.seller_id = u.user_id and rn = 2\n",
    "left join items i on ro.item_id = i.item_id\n",
    "--where rn = 2"
   ]
  }
 ],
 "metadata": {
  "language_info": {
   "name": "python"
  }
 },
 "nbformat": 4,
 "nbformat_minor": 2
}
