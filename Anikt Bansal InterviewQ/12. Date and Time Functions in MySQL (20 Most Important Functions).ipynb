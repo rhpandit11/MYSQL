{
 "cells": [
  {
   "cell_type": "code",
   "execution_count": null,
   "metadata": {
    "vscode": {
     "languageId": "sql"
    }
   },
   "outputs": [],
   "source": [
    "select * from date_functions_demo;"
   ]
  },
  {
   "cell_type": "code",
   "execution_count": null,
   "metadata": {
    "vscode": {
     "languageId": "sql"
    }
   },
   "outputs": [],
   "source": [
    "# NOW() / current_timestamp()\n",
    "SELECT now();\n",
    "SELECT current_timestamp;\n",
    "\n",
    "#current_date()\n",
    "select CURRENT_DATE;\n",
    "\n",
    "#current_time()\n",
    "select *, current_time as current_time_col from date_functions_demo\n",
    "\n",
    "#4. DATE()\n",
    "SELECT id, created_at, date(created_at), cast(created_at as date) from date_functions_demo;\n",
    "\n",
    "#5. date_format()\n",
    "SELECT id,start_date, date_format(start_date,'%d-%m-%y') from date_functions_demo;\n",
    "SELECT id,start_date, to_char(start_date,'DD-MM-YYYY') from date_functions_demo\n",
    "\n",
    "#6. datediff\n",
    "SELECT id,start_date, end_date, datediff(end_date,start_date) from date_functions_demo;\n",
    "\n",
    "SELECT id,start_date, end_date, (end_date - start_date) as noofdays from date_functions_demo\n",
    "\n",
    "#date_add\n",
    "select id,start_date, (start_date + interval '1' day) as start_date_1 from date_functions_demo;\n",
    "\n",
    "select id, start_date, date_add(start_date, interval 1 day) as start_date_1 from date_functions_demo;\n",
    "\n",
    "#date_sub\n",
    "select id, start_date, date_sub(start_date, interval 1 day) as start_date_1 from date_functions_demo;\n",
    "\n",
    "select id, start_date, (start_date - interval '1' day) as start_date_1 from date_functions_demo;\n",
    "\n",
    "#day()\n",
    "select id, start_date, day(start_date) as day from date_functions_demo;\n",
    "\n",
    "SELECT id, start_date, EXTRACT(DAY FROM start_date) AS day FROM date_functions_demo;\n",
    "SELECT id,start_date, DATE_PART('day', start_date) AS day FROM date_functions_demo;\n",
    "\n",
    "\n",
    "#month()\n",
    "select id, start_date, month(start_date) as month from date_functions_demo;\n",
    "\n",
    "SELECT id, start_date, EXTRACT(month FROM start_date) AS month FROM date_functions_demo;\n",
    "SELECT id,start_date, DATE_PART('month', start_date) AS month FROM date_functions_demo;\n",
    "\n",
    "#year()\n",
    "select id, start_date, year(start_date) as month from date_functions_demo;\n",
    "\n",
    "SELECT id, start_date, EXTRACT(YEAR FROM start_date) AS month FROM date_functions_demo;\n",
    "SELECT id,start_date, DATE_PART('YEAR', start_date) AS month FROM date_functions_demo;\n",
    "\n",
    "#dayofweek\n",
    "SELECT id,start_date, dayofweek(start_date) AS week FROM date_functions_demo;\n",
    "\n",
    "SELECT id, start_date, EXTRACT(DOW FROM start_date) AS week FROM date_functions_demo;\n",
    "\n",
    "\n",
    "#dayofyear\n",
    "SELECT id,start_date, dayofyear(start_date) AS week FROM date_functions_demo;\n",
    "SELECT id,start_date, EXTRACT(DOY from start_date) AS week FROM date_functions_demo;\n",
    "\n",
    "\n",
    "#dayofmonth\n",
    "SELECT id,start_date, dayofmonth(start_date) AS week FROM date_functions_demo;\n",
    "SELECT id,start_date, EXTRACT(DAY from start_date) AS month FROM date_functions_demo;\n",
    "\n",
    "#monthName\n",
    "SELECT id,start_date, MONTHNAME(start_date) AS month FROM date_functions_demo;\n",
    "\n",
    "SELECT id,start_date, to_char(start_date,'Month') AS month FROM date_functions_demo;\n",
    "\n",
    "#dayName\n",
    "SELECT id,start_date, DAYNAME(start_date) AS month FROM date_functions_demo;\n",
    "\n",
    "SELECT id,start_date, to_char(start_date,'Day') AS month FROM date_functions_demo;\n",
    "\n",
    "\n",
    "#str_to_date\n",
    "SELECT id,start_date, str_to_date(system_date,'%m%d%y') AS month FROM date_functions_demo;\n",
    "\n",
    "SELECT id,start_date, TO_CHAR(start_date, 'MM/DD/YY') AS formatted_date FROM date_functions_demo;\n",
    "\n",
    "\n"
   ]
  }
 ],
 "metadata": {
  "language_info": {
   "name": "python"
  }
 },
 "nbformat": 4,
 "nbformat_minor": 2
}
