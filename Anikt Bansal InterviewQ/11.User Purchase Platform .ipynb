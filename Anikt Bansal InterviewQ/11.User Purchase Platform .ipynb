{
 "cells": [
  {
   "cell_type": "code",
   "execution_count": null,
   "metadata": {
    "vscode": {
     "languageId": "sql"
    }
   },
   "outputs": [],
   "source": [
    "/* User purchase platform.\n",
    "-- The table logs the spendings history of users that make purchases from an online shopping website which has a desktop \n",
    "and a mobile application.\n",
    "-- Write an SQL query to find the total number of users and the total amount spent using mobile only, desktop only \n",
    "and both mobile and desktop together for each date.\n",
    "*/"
   ]
  },
  {
   "cell_type": "code",
   "execution_count": null,
   "metadata": {
    "vscode": {
     "languageId": "sql"
    }
   },
   "outputs": [],
   "source": [
    "SELECT * from spending"
   ]
  },
  {
   "cell_type": "code",
   "execution_count": null,
   "metadata": {
    "vscode": {
     "languageId": "sql"
    }
   },
   "outputs": [],
   "source": [
    "with all_spend as\n",
    "(\n",
    "select\n",
    "spend_date,\n",
    "user_id,\n",
    "max(platform) as platform,\n",
    "sum(amount) as amount\n",
    "from spending\n",
    "GROUP BY spend_date, user_id\n",
    "HAVING count(DISTINCT platform) = 1\n",
    "union all\n",
    "select\n",
    "spend_date,\n",
    "user_id,\n",
    "'both' as platform,\n",
    "sum(amount) as amount\n",
    "from spending\n",
    "GROUP BY spend_date, user_id\n",
    "HAVING count(DISTINCT platform) = 2\n",
    "union all\n",
    "SELECT DISTINCT\n",
    "        spend_date,\n",
    "        CAST(NULL AS INTEGER) AS user_id ,\n",
    "        'both' AS platform,\n",
    "        0 AS amount\n",
    "    FROM spending\n",
    ")\n",
    "SELECT spend_date, platform, sum(amount) as total_amount, count(DISTINCT user_id) as total_users\n",
    "from all_spend\n",
    "GROUP BY spend_date, platform\n",
    "ORDER BY spend_date, platform DESC"
   ]
  }
 ],
 "metadata": {
  "language_info": {
   "name": "python"
  }
 },
 "nbformat": 4,
 "nbformat_minor": 2
}
