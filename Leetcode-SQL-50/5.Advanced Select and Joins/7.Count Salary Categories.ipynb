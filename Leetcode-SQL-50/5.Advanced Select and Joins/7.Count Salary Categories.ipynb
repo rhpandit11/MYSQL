{
 "cells": [
  {
   "cell_type": "raw",
   "metadata": {
    "vscode": {
     "languageId": "raw"
    }
   },
   "source": [
    "Table: Accounts\n",
    "\n",
    "+-------------+------+\n",
    "| Column Name | Type |\n",
    "+-------------+------+\n",
    "| account_id  | int  |\n",
    "| income      | int  |\n",
    "+-------------+------+\n",
    "account_id is the primary key (column with unique values) for this table.\n",
    "Each row contains information about the monthly income for one bank account.\n",
    " \n",
    "\n",
    "Write a solution to calculate the number of bank accounts for each salary category. The salary categories are:\n",
    "\n",
    "\"Low Salary\": All the salaries strictly less than $20000.\n",
    "\"Average Salary\": All the salaries in the inclusive range [$20000, $50000].\n",
    "\"High Salary\": All the salaries strictly greater than $50000.\n",
    "The result table must contain all three categories. If there are no accounts in a category, return 0.\n",
    "\n",
    "Return the result table in any order.\n",
    "\n",
    "The result format is in the following example.\n",
    "\n",
    " \n",
    "\n",
    "Example 1:\n",
    "\n",
    "Input: \n",
    "Accounts table:\n",
    "+------------+--------+\n",
    "| account_id | income |\n",
    "+------------+--------+\n",
    "| 3          | 108939 |\n",
    "| 2          | 12747  |\n",
    "| 8          | 87709  |\n",
    "| 6          | 91796  |\n",
    "+------------+--------+\n",
    "Output: \n",
    "+----------------+----------------+\n",
    "| category       | accounts_count |\n",
    "+----------------+----------------+\n",
    "| Low Salary     | 1              |\n",
    "| Average Salary | 0              |\n",
    "| High Salary    | 3              |\n",
    "+----------------+----------------+\n",
    "Explanation: \n",
    "Low Salary: Account 2.\n",
    "Average Salary: No accounts.\n",
    "High Salary: Accounts 3, 6, and 8."
   ]
  },
  {
   "cell_type": "code",
   "execution_count": null,
   "metadata": {
    "vscode": {
     "languageId": "sql"
    }
   },
   "outputs": [],
   "source": [
    "select \"Low Salary\" as category, SUM(if(income<20000,1,0)) as accounts_count from Accounts\n",
    "union\n",
    "select \"Average Salary\" as category, SUM(if(income>=20000 and income<=50000,1,0)) as accounts_count from Accounts\n",
    "union\n",
    "select \"High Salary\" as category, SUM(if(income>50000,1,0)) as accounts_count from Accounts"
   ]
  }
 ],
 "metadata": {
  "language_info": {
   "name": "python"
  }
 },
 "nbformat": 4,
 "nbformat_minor": 2
}
