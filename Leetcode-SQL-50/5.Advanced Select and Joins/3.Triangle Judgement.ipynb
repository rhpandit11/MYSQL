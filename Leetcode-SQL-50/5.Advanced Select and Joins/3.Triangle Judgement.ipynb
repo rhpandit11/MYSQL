{
 "cells": [
  {
   "cell_type": "raw",
   "metadata": {
    "vscode": {
     "languageId": "raw"
    }
   },
   "source": [
    "Table: Triangle\n",
    "\n",
    "+-------------+------+\n",
    "| Column Name | Type |\n",
    "+-------------+------+\n",
    "| x           | int  |\n",
    "| y           | int  |\n",
    "| z           | int  |\n",
    "+-------------+------+\n",
    "In SQL, (x, y, z) is the primary key column for this table.\n",
    "Each row of this table contains the lengths of three line segments.\n",
    " \n",
    "\n",
    "Report for every three line segments whether they can form a triangle.\n",
    "\n",
    "Return the result table in any order.\n",
    "\n",
    "The result format is in the following example.\n",
    "\n",
    " \n",
    "\n",
    "Example 1:\n",
    "\n",
    "Input: \n",
    "Triangle table:\n",
    "+----+----+----+\n",
    "| x  | y  | z  |\n",
    "+----+----+----+\n",
    "| 13 | 15 | 30 |\n",
    "| 10 | 20 | 15 |\n",
    "+----+----+----+\n",
    "Output: \n",
    "+----+----+----+----------+\n",
    "| x  | y  | z  | triangle |\n",
    "+----+----+----+----------+\n",
    "| 13 | 15 | 30 | No       |\n",
    "| 10 | 20 | 15 | Yes      |\n",
    "+----+----+----+----------+"
   ]
  },
  {
   "cell_type": "code",
   "execution_count": null,
   "metadata": {
    "vscode": {
     "languageId": "sql"
    }
   },
   "outputs": [],
   "source": [
    "select\n",
    "x,y,z,\n",
    "if(x+y>z and y+z>x and x+z>y, 'Yes', 'No') as triangle\n",
    "from Triangle"
   ]
  }
 ],
 "metadata": {
  "language_info": {
   "name": "python"
  }
 },
 "nbformat": 4,
 "nbformat_minor": 2
}
