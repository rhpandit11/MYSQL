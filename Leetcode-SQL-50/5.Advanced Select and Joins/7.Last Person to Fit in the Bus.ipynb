{
 "cells": [
  {
   "cell_type": "raw",
   "metadata": {
    "vscode": {
     "languageId": "raw"
    }
   },
   "source": [
    "Table: Queue\n",
    "\n",
    "+-------------+---------+\n",
    "| Column Name | Type    |\n",
    "+-------------+---------+\n",
    "| person_id   | int     |\n",
    "| person_name | varchar |\n",
    "| weight      | int     |\n",
    "| turn        | int     |\n",
    "+-------------+---------+\n",
    "person_id column contains unique values.\n",
    "This table has the information about all people waiting for a bus.\n",
    "The person_id and turn columns will contain all numbers from 1 to n, where n is the number of rows in the table.\n",
    "turn determines the order of which the people will board the bus, where turn=1 denotes the first person to board and turn=n \n",
    "denotes the last person to board.\n",
    "weight is the weight of the person in kilograms.\n",
    " \n",
    "\n",
    "There is a queue of people waiting to board a bus. However, the bus has a weight limit of 1000 kilograms, so there may be \n",
    "some people who cannot board.\n",
    "\n",
    "Write a solution to find the person_name of the last person that can fit on the bus without exceeding the weight limit. \n",
    "The test cases are generated such that the first person does not exceed the weight limit.\n",
    "\n",
    "The result format is in the following example.\n",
    "\n",
    " \n",
    "\n",
    "Example 1:\n",
    "\n",
    "Input: \n",
    "Queue table:\n",
    "+-----------+-------------+--------+------+\n",
    "| person_id | person_name | weight | turn |\n",
    "+-----------+-------------+--------+------+\n",
    "| 5         | Alice       | 250    | 1    |\n",
    "| 4         | Bob         | 175    | 5    |\n",
    "| 3         | Alex        | 350    | 2    |\n",
    "| 6         | John Cena   | 400    | 3    |\n",
    "| 1         | Winston     | 500    | 6    |\n",
    "| 2         | Marie       | 200    | 4    |\n",
    "+-----------+-------------+--------+------+\n",
    "Output: \n",
    "+-------------+\n",
    "| person_name |\n",
    "+-------------+\n",
    "| John Cena   |\n",
    "+-------------+\n",
    "Explanation: The folowing table is ordered by the turn for simplicity.\n",
    "+------+----+-----------+--------+--------------+\n",
    "| Turn | ID | Name      | Weight | Total Weight |\n",
    "+------+----+-----------+--------+--------------+\n",
    "| 1    | 5  | Alice     | 250    | 250          |\n",
    "| 2    | 3  | Alex      | 350    | 600          |\n",
    "| 3    | 6  | John Cena | 400    | 1000         | (last person to board)\n",
    "| 4    | 2  | Marie     | 200    | 1200         | (cannot board)\n",
    "| 5    | 4  | Bob       | 175    | ___          |\n",
    "| 6    | 1  | Winston   | 500    | ___          |\n",
    "+------+----+-----------+--------+--------------+"
   ]
  },
  {
   "cell_type": "raw",
   "metadata": {
    "vscode": {
     "languageId": "raw"
    }
   },
   "source": [
    "select\n",
    "person_name\n",
    "from \n",
    "(\n",
    "select\n",
    "person_name, weight, sum(weight) over(order by turn) as total_weight\n",
    "from Queue\n",
    ") as total\n",
    "where total_weight <= 1000\n",
    "order by total_weight desc\n",
    "limit 1"
   ]
  },
  {
   "cell_type": "raw",
   "metadata": {
    "vscode": {
     "languageId": "raw"
    }
   },
   "source": [
    "with cte as\n",
    "(\n",
    "select\n",
    "*,\n",
    "sum(weight) over(order by turn) as total_weight\n",
    "from queue\n",
    ")\n",
    "select\n",
    "person_name\n",
    "from cte \n",
    "where total_weight<=1000\n",
    "order by total_weight desc\n",
    "limit 1"
   ]
  }
 ],
 "metadata": {
  "language_info": {
   "name": "python"
  }
 },
 "nbformat": 4,
 "nbformat_minor": 2
}
