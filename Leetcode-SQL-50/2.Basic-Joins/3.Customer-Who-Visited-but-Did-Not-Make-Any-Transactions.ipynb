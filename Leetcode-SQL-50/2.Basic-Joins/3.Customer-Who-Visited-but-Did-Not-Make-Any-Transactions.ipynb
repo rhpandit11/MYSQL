{
 "cells": [
  {
   "cell_type": "raw",
   "metadata": {},
   "source": [
    "Table: Visits\n",
    "\n",
    "+-------------+---------+\n",
    "| Column Name | Type    |\n",
    "+-------------+---------+\n",
    "| visit_id    | int     |\n",
    "| customer_id | int     |\n",
    "+-------------+---------+\n",
    "visit_id is the column with unique values for this table.\n",
    "This table contains information about the customers who visited the mall.\n",
    " \n",
    "\n",
    "Table: Transactions\n",
    "\n",
    "+----------------+---------+\n",
    "| Column Name    | Type    |\n",
    "+----------------+---------+\n",
    "| transaction_id | int     |\n",
    "| visit_id       | int     |\n",
    "| amount         | int     |\n",
    "+----------------+---------+\n",
    "transaction_id is column with unique values for this table.\n",
    "This table contains information about the transactions made during the visit_id.\n",
    " \n",
    "\n",
    "Write a solution to find the IDs of the users who visited without making any transactions and the number of times they made these types of visits.\n",
    "\n",
    "Return the result table sorted in any order.\n",
    "\n",
    "The result format is in the following example.\n",
    "\n",
    " \n",
    "\n",
    "Example 1:\n",
    "\n",
    "Input: \n",
    "Visits\n",
    "+----------+-------------+\n",
    "| visit_id | customer_id |\n",
    "+----------+-------------+\n",
    "| 1        | 23          |\n",
    "| 2        | 9           |\n",
    "| 4        | 30          |\n",
    "| 5        | 54          |\n",
    "| 6        | 96          |\n",
    "| 7        | 54          |\n",
    "| 8        | 54          |\n",
    "+----------+-------------+\n",
    "Transactions\n",
    "+----------------+----------+--------+\n",
    "| transaction_id | visit_id | amount |\n",
    "+----------------+----------+--------+\n",
    "| 2              | 5        | 310    |\n",
    "| 3              | 5        | 300    |\n",
    "| 9              | 5        | 200    |\n",
    "| 12             | 1        | 910    |\n",
    "| 13             | 2        | 970    |\n",
    "+----------------+----------+--------+\n",
    "Output: \n",
    "+-------------+----------------+\n",
    "| customer_id | count_no_trans |\n",
    "+-------------+----------------+\n",
    "| 54          | 2              |\n",
    "| 30          | 1              |\n",
    "| 96          | 1              |\n",
    "+-------------+----------------+\n",
    "Explanation: \n",
    "Customer with id = 23 visited the mall once and made one transaction during the visit with id = 12.\n",
    "Customer with id = 9 visited the mall once and made one transaction during the visit with id = 13.\n",
    "Customer with id = 30 visited the mall once and did not make any transactions.\n",
    "Customer with id = 54 visited the mall three times. During 2 visits they did not make any transactions, and during one visit they made 3 transactions.\n",
    "Customer with id = 96 visited the mall once and did not make any transactions.\n",
    "As we can see, users with IDs 30 and 96 visited the mall one time without making any transactions. Also, user 54 visited the mall twice and did not make any transactions."
   ]
  },
  {
   "cell_type": "raw",
   "metadata": {},
   "source": [
    "solution:\n",
    "1. ID nikalna hai jo visit kiye without making any transaction\n",
    "2. Count nikalna hai .\n",
    "----------------------------------------------------------------\n",
    "pahle select statement me hum id lenege aur count(*) lenge from visit table se, uske baad transaction table ke sath left join\n",
    "kar denege jisse transaction ka pata chal sake, fir where condition me transaction_id null check karenge jisse id pta chalega\n",
    "group by customer_id kar denege."
   ]
  },
  {
   "cell_type": "code",
   "execution_count": null,
   "metadata": {
    "vscode": {
     "languageId": "sql"
    }
   },
   "outputs": [],
   "source": [
    "select\n",
    "v.customer_id,\n",
    "count(*) as count_no_trans \n",
    "from visits v\n",
    "left join Transactions t on v.visit_id=t.visit_id\n",
    "where t.transaction_id  is null\n",
    "group by v.customer_id;"
   ]
  },
  {
   "cell_type": "code",
   "execution_count": null,
   "metadata": {
    "vscode": {
     "languageId": "sql"
    }
   },
   "outputs": [],
   "source": [
    "select\n",
    "customer_id,\n",
    "count(*) as count_no_trans\n",
    "from visits\n",
    "where visit_id not in (select visit_id from Transactions)\n",
    "group by customer_id;"
   ]
  },
  {
   "cell_type": "code",
   "execution_count": null,
   "metadata": {
    "vscode": {
     "languageId": "sql"
    }
   },
   "outputs": [],
   "source": [
    "with cte as (select visit_id from transactions)\n",
    "select v.customer_id,\n",
    "count(*) as count_no_trans from visits v\n",
    "LEFT JOIN cte ON v.visit_id = cte.visit_id\n",
    "WHERE cte.visit_id IS NULL\n",
    "GROUP BY v.customer_id;\n",
    " "
   ]
  }
 ],
 "metadata": {
  "kernelspec": {
   "display_name": "Python 3",
   "language": "python",
   "name": "python3"
  },
  "language_info": {
   "name": "python",
   "version": "3.11.3"
  }
 },
 "nbformat": 4,
 "nbformat_minor": 2
}
