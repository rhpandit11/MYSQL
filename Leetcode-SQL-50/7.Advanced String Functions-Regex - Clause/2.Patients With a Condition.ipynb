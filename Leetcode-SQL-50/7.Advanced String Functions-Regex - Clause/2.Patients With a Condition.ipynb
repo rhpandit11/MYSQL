{
 "cells": [
  {
   "cell_type": "raw",
   "metadata": {
    "vscode": {
     "languageId": "raw"
    }
   },
   "source": [
    "Table: Patients\n",
    "\n",
    "+--------------+---------+\n",
    "| Column Name  | Type    |\n",
    "+--------------+---------+\n",
    "| patient_id   | int     |\n",
    "| patient_name | varchar |\n",
    "| conditions   | varchar |\n",
    "+--------------+---------+\n",
    "patient_id is the primary key (column with unique values) for this table.\n",
    "'conditions' contains 0 or more code separated by spaces. \n",
    "This table contains information of the patients in the hospital.\n",
    " \n",
    "\n",
    "Write a solution to find the patient_id, patient_name, and conditions of the patients who have Type I Diabetes. \n",
    "Type I Diabetes always starts with DIAB1 prefix.\n",
    "\n",
    "Return the result table in any order.\n",
    "\n",
    "The result format is in the following example.\n",
    "\n",
    " \n",
    "\n",
    "Example 1:\n",
    "\n",
    "Input: \n",
    "Patients table:\n",
    "+------------+--------------+--------------+\n",
    "| patient_id | patient_name | conditions   |\n",
    "+------------+--------------+--------------+\n",
    "| 1          | Daniel       | YFEV COUGH   |\n",
    "| 2          | Alice        |              |\n",
    "| 3          | Bob          | DIAB100 MYOP |\n",
    "| 4          | George       | ACNE DIAB100 |\n",
    "| 5          | Alain        | DIAB201      |\n",
    "+------------+--------------+--------------+\n",
    "Output: \n",
    "+------------+--------------+--------------+\n",
    "| patient_id | patient_name | conditions   |\n",
    "+------------+--------------+--------------+\n",
    "| 3          | Bob          | DIAB100 MYOP |\n",
    "| 4          | George       | ACNE DIAB100 | \n",
    "+------------+--------------+--------------+\n",
    "Explanation: Bob and George both have a condition that starts with DIAB1."
   ]
  },
  {
   "cell_type": "raw",
   "metadata": {
    "vscode": {
     "languageId": "raw"
    }
   },
   "source": [
    "select\n",
    "patient_id,\n",
    "patient_name,\n",
    "conditions\n",
    "from Patients\n",
    "where conditions like '%DIAB1' or conditions like '% DIAB1%'"
   ]
  }
 ],
 "metadata": {
  "language_info": {
   "name": "python"
  }
 },
 "nbformat": 4,
 "nbformat_minor": 2
}
