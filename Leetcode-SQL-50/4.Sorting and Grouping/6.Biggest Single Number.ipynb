{
 "cells": [
  {
   "cell_type": "raw",
   "metadata": {
    "vscode": {
     "languageId": "raw"
    }
   },
   "source": [
    "Table: MyNumbers\n",
    "\n",
    "+-------------+------+\n",
    "| Column Name | Type |\n",
    "+-------------+------+\n",
    "| num         | int  |\n",
    "+-------------+------+\n",
    "This table may contain duplicates (In other words, there is no primary key for this table in SQL).\n",
    "Each row of this table contains an integer.\n",
    " \n",
    "\n",
    "A single number is a number that appeared only once in the MyNumbers table.\n",
    "\n",
    "Find the largest single number. If there is no single number, report null.\n",
    "\n",
    "The result format is in the following example.\n",
    "\n",
    " \n",
    "\n",
    "Example 1:\n",
    "\n",
    "Input: \n",
    "MyNumbers table:\n",
    "+-----+\n",
    "| num |\n",
    "+-----+\n",
    "| 8   |\n",
    "| 8   |\n",
    "| 3   |\n",
    "| 3   |\n",
    "| 1   |\n",
    "| 4   |\n",
    "| 5   |\n",
    "| 6   |\n",
    "+-----+\n",
    "Output: \n",
    "+-----+\n",
    "| num |\n",
    "+-----+\n",
    "| 6   |\n",
    "+-----+\n",
    "Explanation: The single numbers are 1, 4, 5, and 6.\n",
    "Since 6 is the largest single number, we return it.\n",
    "Example 2:\n",
    "\n",
    "Input: \n",
    "MyNumbers table:\n",
    "+-----+\n",
    "| num |\n",
    "+-----+\n",
    "| 8   |\n",
    "| 8   |\n",
    "| 7   |\n",
    "| 7   |\n",
    "| 3   |\n",
    "| 3   |\n",
    "| 3   |\n",
    "+-----+\n",
    "Output: \n",
    "+------+\n",
    "| num  |\n",
    "+------+\n",
    "| null |\n",
    "+------+\n",
    "Explanation: There are no single numbers in the input table so we return null."
   ]
  },
  {
   "cell_type": "code",
   "execution_count": null,
   "metadata": {
    "vscode": {
     "languageId": "sql"
    }
   },
   "outputs": [],
   "source": [
    "select max(num) as num\n",
    "from\n",
    "(\n",
    "select num from mynumbers group by num having count(*)  = 1\n",
    ") as a"
   ]
  }
 ],
 "metadata": {
  "language_info": {
   "name": "python"
  }
 },
 "nbformat": 4,
 "nbformat_minor": 2
}
