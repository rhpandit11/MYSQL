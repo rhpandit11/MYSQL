{
 "cells": [
  {
   "cell_type": "raw",
   "metadata": {
    "vscode": {
     "languageId": "raw"
    }
   },
   "source": [
    "Table: Customer\n",
    "\n",
    "+-------------+---------+\n",
    "| Column Name | Type    |\n",
    "+-------------+---------+\n",
    "| customer_id | int     |\n",
    "| product_key | int     |\n",
    "+-------------+---------+\n",
    "This table may contain duplicates rows. \n",
    "customer_id is not NULL.\n",
    "product_key is a foreign key (reference column) to Product table.\n",
    " \n",
    "\n",
    "Table: Product\n",
    "\n",
    "+-------------+---------+\n",
    "| Column Name | Type    |\n",
    "+-------------+---------+\n",
    "| product_key | int     |\n",
    "+-------------+---------+\n",
    "product_key is the primary key (column with unique values) for this table.\n",
    " \n",
    "\n",
    "Write a solution to report the customer ids from the Customer table that bought all the products in the Product table.\n",
    "\n",
    "Return the result table in any order.\n",
    "\n",
    "The result format is in the following example.\n",
    "\n",
    " \n",
    "\n",
    "Example 1:\n",
    "\n",
    "Input: \n",
    "Customer table:\n",
    "+-------------+-------------+\n",
    "| customer_id | product_key |\n",
    "+-------------+-------------+\n",
    "| 1           | 5           |\n",
    "| 2           | 6           |\n",
    "| 3           | 5           |\n",
    "| 3           | 6           |\n",
    "| 1           | 6           |\n",
    "+-------------+-------------+\n",
    "Product table:\n",
    "+-------------+\n",
    "| product_key |\n",
    "+-------------+\n",
    "| 5           |\n",
    "| 6           |\n",
    "+-------------+\n",
    "Output: \n",
    "+-------------+\n",
    "| customer_id |\n",
    "+-------------+\n",
    "| 1           |\n",
    "| 3           |\n",
    "+-------------+\n",
    "Explanation: \n",
    "The customers who bought all the products (5 and 6) are customers with IDs 1 and 3."
   ]
  },
  {
   "cell_type": "code",
   "execution_count": null,
   "metadata": {
    "vscode": {
     "languageId": "sql"
    }
   },
   "outputs": [],
   "source": [
    "select\n",
    "c.customer_id \n",
    "from Customer c\n",
    "left join Product p on c.product_key = p.product_key \n",
    "group by c.customer_id \n",
    "having(count(distinct p.product_key)) = (select count(product_key) from Product)"
   ]
  }
 ],
 "metadata": {
  "language_info": {
   "name": "python"
  }
 },
 "nbformat": 4,
 "nbformat_minor": 2
}
