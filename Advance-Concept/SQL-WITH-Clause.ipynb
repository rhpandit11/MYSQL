{
 "cells": [
  {
   "cell_type": "code",
   "execution_count": null,
   "metadata": {
    "vscode": {
     "languageId": "sql"
    }
   },
   "outputs": [],
   "source": [
    "SELECT * FROM emp"
   ]
  },
  {
   "cell_type": "markdown",
   "metadata": {},
   "source": [
    "Fetch employee who earn more than there average salary of all employees."
   ]
  },
  {
   "cell_type": "code",
   "execution_count": null,
   "metadata": {
    "vscode": {
     "languageId": "sql"
    }
   },
   "outputs": [],
   "source": [
    "--Solving with subquery\n",
    "SELECT * \n",
    "from emp\n",
    "where `SALARY` > (SELECT AVG(`SALARY`) FROM emp)"
   ]
  },
  {
   "cell_type": "code",
   "execution_count": null,
   "metadata": {
    "vscode": {
     "languageId": "sql"
    }
   },
   "outputs": [],
   "source": [
    "WITH avg_sal AS (\n",
    "  SELECT AVG(`SALARY`) AS avg_sal\n",
    "  FROM emp\n",
    ")\n",
    "SELECT *\n",
    "FROM emp\n",
    "JOIN avg_sal ON `SALARY` > avg_sal.avg_sal;\n"
   ]
  },
  {
   "cell_type": "code",
   "execution_count": null,
   "metadata": {
    "vscode": {
     "languageId": "sql"
    }
   },
   "outputs": [],
   "source": [
    "with avg_sal (avg_sal) as\n",
    "(SELECT CAST(avg(salary) as int) FROM emp)\n",
    "SELECT * FROM emp e, avg_sal av\n",
    "WHERE e.`SALARY` >av.avg_sal"
   ]
  },
  {
   "cell_type": "code",
   "execution_count": null,
   "metadata": {
    "vscode": {
     "languageId": "sql"
    }
   },
   "outputs": [],
   "source": [
    "SELECT * FROM sales;"
   ]
  },
  {
   "cell_type": "markdown",
   "metadata": {},
   "source": [
    "Find stores who's sales is better than the average sale accross all stores"
   ]
  },
  {
   "cell_type": "markdown",
   "metadata": {},
   "source": [
    "1. Total sales per each store --total_Sales\n",
    "2. find the average sales with respect all the stores -- avg sales\n",
    "3. Find the stores where totalsales > avgsales of all stores"
   ]
  },
  {
   "cell_type": "code",
   "execution_count": null,
   "metadata": {
    "vscode": {
     "languageId": "sql"
    }
   },
   "outputs": [],
   "source": [
    "--1\n",
    "SELECT s.store_id, SUM(cost) as total_sales_per_store\n",
    "from sales as s\n",
    "GROUP BY s.store_id"
   ]
  },
  {
   "cell_type": "code",
   "execution_count": null,
   "metadata": {
    "vscode": {
     "languageId": "sql"
    }
   },
   "outputs": [],
   "source": [
    "--2\n",
    "SELECT\n",
    "CAST(AVG(total_sales_per_store) as int) as avg_sales_for_all_stores\n",
    "FROM\n",
    "(\n",
    "SELECT s.store_id, SUM(cost) as total_sales_per_store\n",
    "from sales as s\n",
    "GROUP BY s.store_id\n",
    ") as x;"
   ]
  },
  {
   "cell_type": "code",
   "execution_count": null,
   "metadata": {
    "vscode": {
     "languageId": "sql"
    }
   },
   "outputs": [],
   "source": [
    "--3\n",
    "SELECT *\n",
    "FROM\n",
    "(\n",
    "    SELECT s.store_id, SUM(cost) as total_sales_per_store\n",
    "    from sales as s\n",
    "    GROUP BY s.store_id\n",
    ") total_sales\n",
    "JOIN \n",
    "(\n",
    "    SELECT\n",
    "CAST(AVG(total_sales_per_store) as int) as avg_sales_for_all_stores\n",
    "FROM\n",
    "(\n",
    "SELECT s.store_id, SUM(cost) as total_sales_per_store\n",
    "from sales as s\n",
    "GROUP BY s.store_id\n",
    ") as x\n",
    ") avg_sales\n",
    "on total_sales.total_sales_per_store > avg_sales.avg_sales_for_all_stores"
   ]
  },
  {
   "cell_type": "markdown",
   "metadata": {},
   "source": [
    "**With CTE**"
   ]
  },
  {
   "cell_type": "code",
   "execution_count": null,
   "metadata": {
    "vscode": {
     "languageId": "sql"
    }
   },
   "outputs": [],
   "source": [
    "with Total_Sales (store_id, total_sales_per_store) as \n",
    "                (\n",
    "                SELECT s.store_id, SUM(cost) as total_sales_per_store\n",
    "                from sales as s\n",
    "                GROUP BY s.store_id\n",
    "                ),\n",
    "        avg_sales (avg_sales_for_all_stores) as\n",
    "                (\n",
    "                SELECT\n",
    "                CAST(AVG(total_sales_per_store) as int) as avg_sales_for_all_stores\n",
    "                FROM Total_Sales\n",
    "                )\n",
    "SELECT *\n",
    "FROM Total_Sales as ts\n",
    "JOIN avg_sales as av\n",
    "ON ts.total_sales_per_store > av.avg_sales_for_all_stores"
   ]
  }
 ],
 "metadata": {
  "language_info": {
   "name": "python"
  }
 },
 "nbformat": 4,
 "nbformat_minor": 2
}
