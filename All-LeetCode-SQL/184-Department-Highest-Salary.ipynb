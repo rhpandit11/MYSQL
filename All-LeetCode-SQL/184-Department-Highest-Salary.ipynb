{
 "cells": [
  {
   "cell_type": "raw",
   "metadata": {},
   "source": [
    "Table: Employee\n",
    "\n",
    "+--------------+---------+\n",
    "| Column Name  | Type    |\n",
    "+--------------+---------+\n",
    "| id           | int     |\n",
    "| name         | varchar |\n",
    "| salary       | int     |\n",
    "| departmentId | int     |\n",
    "+--------------+---------+\n",
    "id is the primary key (column with unique values) for this table.\n",
    "departmentId is a foreign key (reference columns) of the ID from the Department table.\n",
    "Each row of this table indicates the ID, name, and salary of an employee. It also contains the ID of their department.\n",
    " \n",
    "\n",
    "Table: Department\n",
    "\n",
    "+-------------+---------+\n",
    "| Column Name | Type    |\n",
    "+-------------+---------+\n",
    "| id          | int     |\n",
    "| name        | varchar |\n",
    "+-------------+---------+\n",
    "id is the primary key (column with unique values) for this table. It is guaranteed that department name is not NULL.\n",
    "Each row of this table indicates the ID of a department and its name.\n",
    " \n",
    "\n",
    "Write a solution to find employees who have the highest salary in each of the departments.\n",
    "\n",
    "Return the result table in any order.\n",
    "\n",
    "The result format is in the following example.\n",
    "\n",
    " \n",
    "\n",
    "Example 1:\n",
    "\n",
    "Input: \n",
    "Employee table:\n",
    "+----+-------+--------+--------------+\n",
    "| id | name  | salary | departmentId |\n",
    "+----+-------+--------+--------------+\n",
    "| 1  | Joe   | 70000  | 1            |\n",
    "| 2  | Jim   | 90000  | 1            |\n",
    "| 3  | Henry | 80000  | 2            |\n",
    "| 4  | Sam   | 60000  | 2            |\n",
    "| 5  | Max   | 90000  | 1            |\n",
    "+----+-------+--------+--------------+\n",
    "Department table:\n",
    "+----+-------+\n",
    "| id | name  |\n",
    "+----+-------+\n",
    "| 1  | IT    |\n",
    "| 2  | Sales |\n",
    "+----+-------+\n",
    "Output: \n",
    "+------------+----------+--------+\n",
    "| Department | Employee | Salary |\n",
    "+------------+----------+--------+\n",
    "| IT         | Jim      | 90000  |\n",
    "| Sales      | Henry    | 80000  |\n",
    "| IT         | Max      | 90000  |\n",
    "+------------+----------+--------+\n",
    "Explanation: Max and Jim both have the highest salary in the IT department and Henry has the highest salary in the Sales department."
   ]
  },
  {
   "cell_type": "markdown",
   "metadata": {},
   "source": [
    "Solution: 01"
   ]
  },
  {
   "cell_type": "code",
   "execution_count": null,
   "metadata": {
    "vscode": {
     "languageId": "sql"
    }
   },
   "outputs": [],
   "source": [
    "WITH cte AS (\n",
    "    SELECT\n",
    "        d.name AS department_name,\n",
    "        e.name AS employee_name,\n",
    "        e.salary,\n",
    "        DENSE_RANK() OVER (PARTITION BY d.id ORDER BY e.salary DESC) AS rn\n",
    "    FROM\n",
    "        department AS d\n",
    "     JOIN employee AS e ON d.id = e.departmentId\n",
    ")\n",
    "SELECT\n",
    "    cte.department_name AS 'Department',\n",
    "    cte.employee_name AS 'Employee',\n",
    "    cte.salary\n",
    "FROM\n",
    "    cte\n",
    "WHERE\n",
    "    rn = 1;"
   ]
  }
 ],
 "metadata": {
  "language_info": {
   "name": "python"
  }
 },
 "nbformat": 4,
 "nbformat_minor": 2
}
