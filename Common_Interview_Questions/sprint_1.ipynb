{
 "cells": [
  {
   "cell_type": "code",
   "execution_count": null,
   "metadata": {
    "vscode": {
     "languageId": "sql"
    }
   },
   "outputs": [],
   "source": [
    "#Find the 3rd Highest Salary\n",
    "\n",
    "with cte as\n",
    "(\n",
    "select \n",
    "*,\n",
    "dense_rank() over(ORDER BY salary desc) as rn,\n",
    "ROW_NUMBER() over(ORDER BY salary desc) as rnk\n",
    "from employees\n",
    ")\n",
    "select * from cte where rn = 3 and rnk = 3"
   ]
  },
  {
   "cell_type": "code",
   "execution_count": null,
   "metadata": {
    "vscode": {
     "languageId": "sql"
    }
   },
   "outputs": [],
   "source": [
    "SELECT Salary\n",
    "FROM (\n",
    "SELECT Salary, DENSE_RANK() OVER (ORDER BY Salary DESC) AS\n",
    "Rank\n",
    "FROM Employees\n",
    ") AS RankedSalaries\n",
    "WHERE Rank = 3;"
   ]
  },
  {
   "cell_type": "code",
   "execution_count": null,
   "metadata": {
    "vscode": {
     "languageId": "sql"
    }
   },
   "outputs": [],
   "source": [
    "#Find Employees Whose Salary is Greater Than Their Manager's Salary\n",
    "\n",
    "select\n",
    "e1.employeeid,e1.salary\n",
    "from employee_1 e1\n",
    "join employee_1 e2 on e1.managerid = e2.employeeid\n",
    "where e1.salary > e2.salary"
   ]
  },
  {
   "cell_type": "code",
   "execution_count": null,
   "metadata": {
    "vscode": {
     "languageId": "sql"
    }
   },
   "outputs": [],
   "source": [
    "# Calculate Cumulative Sum in a New Column\n",
    "SELECT\n",
    "*,\n",
    "sum(amount) over(ORDER BY saleid) as cumulative_sum\n",
    "from sales\n"
   ]
  }
 ],
 "metadata": {
  "language_info": {
   "name": "python"
  }
 },
 "nbformat": 4,
 "nbformat_minor": 2
}
