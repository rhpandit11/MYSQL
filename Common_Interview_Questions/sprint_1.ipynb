{
 "cells": [
  {
   "cell_type": "code",
   "execution_count": null,
   "metadata": {
    "vscode": {
     "languageId": "sql"
    }
   },
   "outputs": [],
   "source": [
    "#Find the 3rd Highest Salary\n",
    "\n",
    "with cte as\n",
    "(\n",
    "select \n",
    "*,\n",
    "dense_rank() over(ORDER BY salary desc) as rn,\n",
    "ROW_NUMBER() over(ORDER BY salary desc) as rnk\n",
    "from employees\n",
    ")\n",
    "select * from cte where rn = 3 and rnk = 3"
   ]
  },
  {
   "cell_type": "code",
   "execution_count": null,
   "metadata": {
    "vscode": {
     "languageId": "sql"
    }
   },
   "outputs": [],
   "source": [
    "SELECT Salary\n",
    "FROM (\n",
    "SELECT Salary, DENSE_RANK() OVER (ORDER BY Salary DESC) AS\n",
    "Rank\n",
    "FROM Employees\n",
    ") AS RankedSalaries\n",
    "WHERE Rank = 3;"
   ]
  },
  {
   "cell_type": "code",
   "execution_count": null,
   "metadata": {
    "vscode": {
     "languageId": "sql"
    }
   },
   "outputs": [],
   "source": [
    "#Find Employees Whose Salary is Greater Than Their Manager's Salary\n",
    "\n",
    "select\n",
    "e1.employeeid,e1.salary\n",
    "from employee_1 e1\n",
    "join employee_1 e2 on e1.managerid = e2.employeeid\n",
    "where e1.salary > e2.salary"
   ]
  },
  {
   "cell_type": "code",
   "execution_count": null,
   "metadata": {
    "vscode": {
     "languageId": "sql"
    }
   },
   "outputs": [],
   "source": [
    "# Calculate Cumulative Sum in a New Column\n",
    "SELECT\n",
    "*,\n",
    "sum(amount) over(ORDER BY saleid) as cumulative_sum\n",
    "from sales\n"
   ]
  },
  {
   "cell_type": "code",
   "execution_count": null,
   "metadata": {
    "vscode": {
     "languageId": "sql"
    }
   },
   "outputs": [],
   "source": [
    "# Write a Query to Delete Duplicate Rows\n",
    "with cte as\n",
    "(SELECT\n",
    "name,\n",
    "salary,\n",
    "ROW_NUMBER() over(PARTITION BY name,salary ORDER BY employeeId) as rowNum\n",
    "from employees)\n",
    "DELETE from cte where rowNum > 1\n"
   ]
  },
  {
   "cell_type": "code",
   "execution_count": null,
   "metadata": {
    "vscode": {
     "languageId": "sql"
    }
   },
   "outputs": [],
   "source": [
    "#Query to Calculate Mean, Median, and Mode\n",
    "#Query Solution (Mean):\n",
    "select round(avg(salary),2) as meanSalary\n",
    "from employees\n",
    "\n",
    "#Query Solution (Median)\n",
    "SELECT avg(salary) as medianSalary\n",
    "from \n",
    "(\n",
    "    SELECT\n",
    "    salary\n",
    "    from employees\n",
    "    ORDER BY salary\n",
    "    LIMIT 2 - (select count(*) from employees)%2\n",
    "    OFFSET(select (count(*)-1)/2 from employees )\n",
    ") as medianSalarySubq\n",
    "\n",
    "#Query Solution (Mode)\n",
    "\n",
    "select salary as modeSalary\n",
    "from employees\n",
    "GROUP BY salary\n",
    "ORDER BY count(*) desc\n",
    "limit 1"
   ]
  },
  {
   "cell_type": "code",
   "execution_count": null,
   "metadata": {
    "vscode": {
     "languageId": "sql"
    }
   },
   "outputs": [],
   "source": [
    "#Query to Fetch Employees Earning More Than Their Department's Average Salary\n",
    "\n",
    "SELECT\n",
    "e.name, e.salary, e.departmentid\n",
    "from employees_3 e\n",
    "join(select departmentid, avg(salary) as avgSalary from employees_3 GROUP BY departmentid) as dept_avg\n",
    "on e.departmentid = dept_avg.departmentid\n",
    "where e.salary > dept_avg.avgSalary\n"
   ]
  },
  {
   "cell_type": "code",
   "execution_count": null,
   "metadata": {
    "vscode": {
     "languageId": "sql"
    }
   },
   "outputs": [],
   "source": [
    "#Calculate Month-over-Month Sales Growth\n",
    "select\n",
    "TO_CHAR(saledate, 'YYYY-MM') as sales_month,\n",
    "sum(saleamount) as Total_sales,\n",
    "lag(sum(saleamount)) over(ORDER BY TO_CHAR(saledate, 'YYYY-MM')) as previousMonthSlaes,\n",
    "round((sum(saleamount) - lag(sum(saleamount)) over(ORDER BY TO_CHAR(saledate, 'YYYY-MM')))*100 / lag(sum(saleamount)) over(ORDER BY TO_CHAR(saledate, 'YYYY-MM')),2) as monthOverMonthGrowth\n",
    "from sales_1 \n",
    "GROUP BY TO_CHAR(saledate, 'YYYY-MM')\n",
    "ORDER BY sales_month"
   ]
  }
 ],
 "metadata": {
  "language_info": {
   "name": "python"
  }
 },
 "nbformat": 4,
 "nbformat_minor": 2
}
