{
 "cells": [
  {
   "cell_type": "code",
   "execution_count": null,
   "metadata": {
    "vscode": {
     "languageId": "sql"
    }
   },
   "outputs": [],
   "source": [
    "--1> Write a SQL query to find the nth highest salary from employee table. \n",
    "-- Example: finding 3rd highest salary from employee table\n",
    "\n",
    "with cte as\n",
    "(\n",
    "select *,\n",
    "dense_rank() over( ORDER BY salary desc) as rnk  \n",
    "from employee\n",
    ")\n",
    "select employee_id, first_name, last_name, salary,joining_date,department\n",
    "from cte\n",
    "where rnk = 3;\n",
    "\n",
    "select distinct salary from employee order by salary desc OFFSET 2 limit 1;"
   ]
  },
  {
   "cell_type": "code",
   "execution_count": null,
   "metadata": {
    "vscode": {
     "languageId": "sql"
    }
   },
   "outputs": [],
   "source": [
    "--2> Write a SQL query to find top n records?\n",
    "-- Example: finding top 5 records from employee table\n",
    "\n",
    "select * from employee\n",
    "ORDER BY salary desc\n",
    "LIMIT 5"
   ]
  },
  {
   "cell_type": "code",
   "execution_count": null,
   "metadata": {
    "vscode": {
     "languageId": "sql"
    }
   },
   "outputs": [],
   "source": [
    "-- 3> Write a SQL query to find the count of employees working in department 'Admin'\n",
    "select\n",
    "count(*) as employee_count\n",
    "from employee\n",
    "where department = 'Admin'\n",
    "GROUP BY department"
   ]
  },
  {
   "cell_type": "code",
   "execution_count": null,
   "metadata": {
    "vscode": {
     "languageId": "sql"
    }
   },
   "outputs": [],
   "source": [
    "-- 4> Write a SQL query to fetch department wise count employees sorted by department count in desc order.\n",
    "select\n",
    "department,\n",
    "count(*) department_wise_count\n",
    "from employee\n",
    "GROUP BY department\n",
    "ORDER BY department_wise_count desc"
   ]
  },
  {
   "cell_type": "code",
   "execution_count": null,
   "metadata": {
    "vscode": {
     "languageId": "sql"
    }
   },
   "outputs": [],
   "source": [
    "-- 5>  Write a query to fetch only the first name(string before space) from the FullName column of user_name table.\n",
    "select\n",
    "split_part(full_names,' ',1) as user_name\n",
    "from user_name"
   ]
  },
  {
   "cell_type": "code",
   "execution_count": null,
   "metadata": {
    "vscode": {
     "languageId": "sql"
    }
   },
   "outputs": [],
   "source": [
    "#-- 6> Write a SQL query to find all the employees from employee table who are also managers\n",
    "select\n",
    "first_name,\n",
    "last_name\n",
    "from employee\n",
    "where employee_id in (SELECT manager_id FROM employee)\n",
    "\n",
    "SELECT e1.first_name, e1.last_name\n",
    "from employee e1\n",
    "join employee e2 on e1.employee_id = e2.manager_id"
   ]
  },
  {
   "cell_type": "code",
   "execution_count": null,
   "metadata": {
    "vscode": {
     "languageId": "sql"
    }
   },
   "outputs": [],
   "source": [
    "-- 7> Write a SQL query to find all employees who have bonus record in bonus table\n",
    "\n",
    "SELECT e.*\n",
    "from employee e\n",
    "join bonus b on e.employee_id = b.employee_ref_id\n",
    "GROUP BY e.employee_id\n",
    "\n",
    "select * from employee\n",
    "where employee_id in (SELECT employee_ref_id  from bonus where employee.employee_id = bonus.employee_ref_id)\n"
   ]
  },
  {
   "cell_type": "code",
   "execution_count": null,
   "metadata": {
    "vscode": {
     "languageId": "sql"
    }
   },
   "outputs": [],
   "source": [
    "-- 8> Write a SQL query to find only odd rows from employee table\n",
    "\n",
    "SELECT employee_id\n",
    "from employee\n",
    "where mod(employee_id,2) != 0\n",
    "\n"
   ]
  },
  {
   "cell_type": "code",
   "execution_count": null,
   "metadata": {
    "vscode": {
     "languageId": "sql"
    }
   },
   "outputs": [],
   "source": [
    "-- 9> Write a SQL query to fetch first_name from employee table in upper case\n",
    "select\n",
    "upper(first_name) as first_name\n",
    "from employee\n"
   ]
  },
  {
   "cell_type": "code",
   "execution_count": null,
   "metadata": {
    "vscode": {
     "languageId": "sql"
    }
   },
   "outputs": [],
   "source": [
    "-- 10> Write a SQL query to get combine name (first name and last name) of employees from employee table\n",
    "\n",
    "select\n",
    "concat(first_name,' ',last_name) as full_name\n",
    "from employee\n"
   ]
  },
  {
   "cell_type": "code",
   "execution_count": null,
   "metadata": {
    "vscode": {
     "languageId": "sql"
    }
   },
   "outputs": [],
   "source": [
    "SELECT * from employee"
   ]
  },
  {
   "cell_type": "code",
   "execution_count": null,
   "metadata": {
    "vscode": {
     "languageId": "sql"
    }
   },
   "outputs": [],
   "source": [
    "-- 11> Write a SQL query to print details of employee of employee 'Jennifer' and 'James'.\n",
    "select *\n",
    "from employee\n",
    "where first_name in ('Jennifer', 'James');\n"
   ]
  },
  {
   "cell_type": "code",
   "execution_count": null,
   "metadata": {
    "vscode": {
     "languageId": "sql"
    }
   },
   "outputs": [],
   "source": [
    "-- 12> Write a SQL query to fetch records of employee whose salary lies between 100000 and 500000\n",
    "SELECT * from employee\n",
    "where salary >= 100000 and salary <= 500000\n",
    "\n",
    "select first_name, last_name, salary from employee where salary between 100000 and 500000;\n"
   ]
  },
  {
   "cell_type": "code",
   "execution_count": null,
   "metadata": {
    "vscode": {
     "languageId": "sql"
    }
   },
   "outputs": [],
   "source": [
    "-- 13> Write a SQL query to get records of employe who have joined in Jan 2017\n",
    "select * from employee\n",
    "where extract(YEAR from joining_date) = 2017\n",
    "and extract(month FROM joining_date) = 1\n",
    "\n",
    "select * from employee\n",
    "where date_part('year', joining_date) = 2017 and date_part('month', joining_date) = 1"
   ]
  },
  {
   "cell_type": "code",
   "execution_count": null,
   "metadata": {
    "vscode": {
     "languageId": "sql"
    }
   },
   "outputs": [],
   "source": [
    "-- 14> Write a SQL query to get the list of employees with the same salary\n",
    "\n",
    "select e1.*\n",
    "from employee e1\n",
    "join employee e2 on e1.salary = e2.salary and e1.employee_id != e2.employee_id\n",
    "\n",
    "select e1.first_name, e1.last_name, e1.salary\n",
    "from employee e1, employee e2\n",
    "where e1.salary = e2.salary and e1.employee_id != e2.employee_id"
   ]
  },
  {
   "cell_type": "code",
   "execution_count": null,
   "metadata": {
    "vscode": {
     "languageId": "sql"
    }
   },
   "outputs": [],
   "source": [
    "-- 15> Write a SQL query to show all departments along with the number of people working there. \n",
    "SELECT\n",
    "department,\n",
    "count(*) as num_of_people\n",
    "from employee\n",
    "GROUP BY department"
   ]
  },
  {
   "cell_type": "code",
   "execution_count": null,
   "metadata": {
    "vscode": {
     "languageId": "sql"
    }
   },
   "outputs": [],
   "source": [
    "-- 16> Write a SQL query to show the last record from a table.\n",
    "SELECT *\n",
    "from employee\n",
    "where employee_id in (SELECT max(employee_id) from employee)"
   ]
  },
  {
   "cell_type": "code",
   "execution_count": null,
   "metadata": {
    "vscode": {
     "languageId": "sql"
    }
   },
   "outputs": [],
   "source": [
    "-- 17> Write a SQL query to show the first record from a table.\n",
    "\n",
    "SELECT *\n",
    "from employee\n",
    "where employee_id in (SELECT min(employee_id) from employee)"
   ]
  },
  {
   "cell_type": "code",
   "execution_count": null,
   "metadata": {
    "vscode": {
     "languageId": "sql"
    }
   },
   "outputs": [],
   "source": [
    "-- 18> Write a SQL query to get last five records from a employee table.\n",
    "SELECT *\n",
    "from employee\n",
    "ORDER BY employee_id DESC\n",
    "limit 5"
   ]
  },
  {
   "cell_type": "code",
   "execution_count": null,
   "metadata": {
    "vscode": {
     "languageId": "sql"
    }
   },
   "outputs": [],
   "source": [
    "-- 19> Write a SQL query to find employees having the highest salary in each department. \n",
    "with cte as\n",
    "(\n",
    "select \n",
    "*,\n",
    "ROW_NUMBER() over(PARTITION BY department ORDER BY salary desc) as rnk \n",
    "from employee\n",
    ")\n",
    "select employee_id, salary, department\n",
    "from cte\n",
    "where rnk = 1\n",
    "\n",
    "SELECT  department, max(salary) as MaxSalary\n",
    "from employee\n",
    "GROUP BY department\n",
    "ORDER BY  MaxSalary "
   ]
  },
  {
   "cell_type": "code",
   "execution_count": null,
   "metadata": {
    "vscode": {
     "languageId": "sql"
    }
   },
   "outputs": [],
   "source": [
    "-- 20> Write a SQL query to fetch three max salaries from employee table.\n",
    "with cte as\n",
    "(\n",
    "select \n",
    "*,\n",
    "ROW_NUMBER() over(ORDER BY salary desc) as rnk \n",
    "from employee\n",
    ")\n",
    "select employee_id, salary, department\n",
    "from cte\n",
    "where rnk BETWEEN 1 and 3\n",
    "\n",
    "select distinct salary from employee order by salary desc limit 3 ;\n"
   ]
  }
 ],
 "metadata": {
  "language_info": {
   "name": "python"
  }
 },
 "nbformat": 4,
 "nbformat_minor": 2
}
