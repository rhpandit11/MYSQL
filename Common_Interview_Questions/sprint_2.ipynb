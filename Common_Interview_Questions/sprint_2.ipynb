{
 "cells": [
  {
   "cell_type": "code",
   "execution_count": null,
   "metadata": {
    "vscode": {
     "languageId": "sql"
    }
   },
   "outputs": [],
   "source": [
    "--1> Write a SQL query to find the nth highest salary from employee table. \n",
    "-- Example: finding 3rd highest salary from employee table\n",
    "\n",
    "with cte as\n",
    "(\n",
    "select *,\n",
    "dense_rank() over( ORDER BY salary desc) as rnk  \n",
    "from employee\n",
    ")\n",
    "select employee_id, first_name, last_name, salary,joining_date,department\n",
    "from cte\n",
    "where rnk = 3;\n",
    "\n",
    "select distinct salary from employee order by salary desc OFFSET 2 limit 1;"
   ]
  },
  {
   "cell_type": "code",
   "execution_count": null,
   "metadata": {
    "vscode": {
     "languageId": "sql"
    }
   },
   "outputs": [],
   "source": [
    "--2> Write a SQL query to find top n records?\n",
    "-- Example: finding top 5 records from employee table\n",
    "\n",
    "select * from employee\n",
    "ORDER BY salary desc\n",
    "LIMIT 5"
   ]
  },
  {
   "cell_type": "code",
   "execution_count": null,
   "metadata": {
    "vscode": {
     "languageId": "sql"
    }
   },
   "outputs": [],
   "source": [
    "-- 3> Write a SQL query to find the count of employees working in department 'Admin'\n",
    "select\n",
    "count(*) as employee_count\n",
    "from employee\n",
    "where department = 'Admin'\n",
    "GROUP BY department"
   ]
  },
  {
   "cell_type": "code",
   "execution_count": null,
   "metadata": {
    "vscode": {
     "languageId": "sql"
    }
   },
   "outputs": [],
   "source": [
    "-- 4> Write a SQL query to fetch department wise count employees sorted by department count in desc order.\n",
    "select\n",
    "department,\n",
    "count(*) department_wise_count\n",
    "from employee\n",
    "GROUP BY department\n",
    "ORDER BY department_wise_count desc"
   ]
  },
  {
   "cell_type": "code",
   "execution_count": null,
   "metadata": {
    "vscode": {
     "languageId": "sql"
    }
   },
   "outputs": [],
   "source": [
    "-- 5>  Write a query to fetch only the first name(string before space) from the FullName column of user_name table.\n",
    "select\n",
    "split_part(full_names,' ',1) as user_name\n",
    "from user_name"
   ]
  },
  {
   "cell_type": "code",
   "execution_count": null,
   "metadata": {
    "vscode": {
     "languageId": "sql"
    }
   },
   "outputs": [],
   "source": [
    "#-- 6> Write a SQL query to find all the employees from employee table who are also managers\n",
    "select\n",
    "first_name,\n",
    "last_name\n",
    "from employee\n",
    "where employee_id in (SELECT manager_id FROM employee)\n",
    "\n",
    "SELECT e1.first_name, e1.last_name\n",
    "from employee e1\n",
    "join employee e2 on e1.employee_id = e2.manager_id"
   ]
  },
  {
   "cell_type": "code",
   "execution_count": null,
   "metadata": {
    "vscode": {
     "languageId": "sql"
    }
   },
   "outputs": [],
   "source": [
    "-- 7> Write a SQL query to find all employees who have bonus record in bonus table\n",
    "\n",
    "SELECT e.*\n",
    "from employee e\n",
    "join bonus b on e.employee_id = b.employee_ref_id\n",
    "GROUP BY e.employee_id\n",
    "\n",
    "select * from employee\n",
    "where employee_id in (SELECT employee_ref_id  from bonus where employee.employee_id = bonus.employee_ref_id)\n"
   ]
  },
  {
   "cell_type": "code",
   "execution_count": null,
   "metadata": {
    "vscode": {
     "languageId": "sql"
    }
   },
   "outputs": [],
   "source": [
    "-- 8> Write a SQL query to find only odd rows from employee table\n",
    "\n",
    "SELECT employee_id\n",
    "from employee\n",
    "where mod(employee_id,2) != 0\n",
    "\n"
   ]
  },
  {
   "cell_type": "code",
   "execution_count": null,
   "metadata": {
    "vscode": {
     "languageId": "sql"
    }
   },
   "outputs": [],
   "source": [
    "-- 9> Write a SQL query to fetch first_name from employee table in upper case\n",
    "select\n",
    "upper(first_name) as first_name\n",
    "from employee\n"
   ]
  },
  {
   "cell_type": "code",
   "execution_count": null,
   "metadata": {
    "vscode": {
     "languageId": "sql"
    }
   },
   "outputs": [],
   "source": [
    "-- 10> Write a SQL query to get combine name (first name and last name) of employees from employee table\n",
    "\n",
    "select\n",
    "concat(first_name,' ',last_name) as full_name\n",
    "from employee\n"
   ]
  },
  {
   "cell_type": "code",
   "execution_count": null,
   "metadata": {
    "vscode": {
     "languageId": "sql"
    }
   },
   "outputs": [],
   "source": [
    "SELECT * from employee"
   ]
  },
  {
   "cell_type": "code",
   "execution_count": null,
   "metadata": {
    "vscode": {
     "languageId": "sql"
    }
   },
   "outputs": [],
   "source": [
    "-- 11> Write a SQL query to print details of employee of employee 'Jennifer' and 'James'.\n",
    "select *\n",
    "from employee\n",
    "where first_name in ('Jennifer', 'James');\n"
   ]
  },
  {
   "cell_type": "code",
   "execution_count": null,
   "metadata": {
    "vscode": {
     "languageId": "sql"
    }
   },
   "outputs": [],
   "source": [
    "-- 12> Write a SQL query to fetch records of employee whose salary lies between 100000 and 500000\n",
    "SELECT * from employee\n",
    "where salary >= 100000 and salary <= 500000\n",
    "\n",
    "select first_name, last_name, salary from employee where salary between 100000 and 500000;\n"
   ]
  },
  {
   "cell_type": "code",
   "execution_count": null,
   "metadata": {
    "vscode": {
     "languageId": "sql"
    }
   },
   "outputs": [],
   "source": [
    "-- 13> Write a SQL query to get records of employe who have joined in Jan 2017\n",
    "select * from employee\n",
    "where extract(YEAR from joining_date) = 2017\n",
    "and extract(month FROM joining_date) = 1\n",
    "\n",
    "select * from employee\n",
    "where date_part('year', joining_date) = 2017 and date_part('month', joining_date) = 1"
   ]
  },
  {
   "cell_type": "code",
   "execution_count": null,
   "metadata": {
    "vscode": {
     "languageId": "sql"
    }
   },
   "outputs": [],
   "source": [
    "-- 14> Write a SQL query to get the list of employees with the same salary\n",
    "\n",
    "select e1.*\n",
    "from employee e1\n",
    "join employee e2 on e1.salary = e2.salary and e1.employee_id != e2.employee_id\n",
    "\n",
    "select e1.first_name, e1.last_name, e1.salary\n",
    "from employee e1, employee e2\n",
    "where e1.salary = e2.salary and e1.employee_id != e2.employee_id"
   ]
  },
  {
   "cell_type": "code",
   "execution_count": null,
   "metadata": {
    "vscode": {
     "languageId": "sql"
    }
   },
   "outputs": [],
   "source": [
    "-- 15> Write a SQL query to show all departments along with the number of people working there. \n",
    "SELECT\n",
    "department,\n",
    "count(*) as num_of_people\n",
    "from employee\n",
    "GROUP BY department"
   ]
  },
  {
   "cell_type": "code",
   "execution_count": null,
   "metadata": {
    "vscode": {
     "languageId": "sql"
    }
   },
   "outputs": [],
   "source": [
    "-- 16> Write a SQL query to show the last record from a table.\n",
    "SELECT *\n",
    "from employee\n",
    "where employee_id in (SELECT max(employee_id) from employee)"
   ]
  },
  {
   "cell_type": "code",
   "execution_count": null,
   "metadata": {
    "vscode": {
     "languageId": "sql"
    }
   },
   "outputs": [],
   "source": [
    "-- 17> Write a SQL query to show the first record from a table.\n",
    "\n",
    "SELECT *\n",
    "from employee\n",
    "where employee_id in (SELECT min(employee_id) from employee)"
   ]
  },
  {
   "cell_type": "code",
   "execution_count": null,
   "metadata": {
    "vscode": {
     "languageId": "sql"
    }
   },
   "outputs": [],
   "source": [
    "-- 18> Write a SQL query to get last five records from a employee table.\n",
    "SELECT *\n",
    "from employee\n",
    "ORDER BY employee_id DESC\n",
    "limit 5"
   ]
  },
  {
   "cell_type": "code",
   "execution_count": null,
   "metadata": {
    "vscode": {
     "languageId": "sql"
    }
   },
   "outputs": [],
   "source": [
    "-- 19> Write a SQL query to find employees having the highest salary in each department. \n",
    "with cte as\n",
    "(\n",
    "select \n",
    "*,\n",
    "ROW_NUMBER() over(PARTITION BY department ORDER BY salary desc) as rnk \n",
    "from employee\n",
    ")\n",
    "select employee_id, salary, department\n",
    "from cte\n",
    "where rnk = 1\n",
    "\n",
    "SELECT  department, max(salary) as MaxSalary\n",
    "from employee\n",
    "GROUP BY department\n",
    "ORDER BY  MaxSalary "
   ]
  },
  {
   "cell_type": "code",
   "execution_count": null,
   "metadata": {
    "vscode": {
     "languageId": "sql"
    }
   },
   "outputs": [],
   "source": [
    "-- 20> Write a SQL query to fetch three max salaries from employee table.\n",
    "with cte as\n",
    "(\n",
    "select \n",
    "*,\n",
    "ROW_NUMBER() over(ORDER BY salary desc) as rnk \n",
    "from employee\n",
    ")\n",
    "select employee_id, salary, department\n",
    "from cte\n",
    "where rnk BETWEEN 1 and 3\n",
    "\n",
    "select distinct salary from employee order by salary desc limit 3 ;\n"
   ]
  },
  {
   "cell_type": "code",
   "execution_count": null,
   "metadata": {
    "vscode": {
     "languageId": "sql"
    }
   },
   "outputs": [],
   "source": [
    "-- 21> Write a SQL query to fetch departments along with the total salaries paid for each of them.\n",
    "\n",
    "select\n",
    "department,\n",
    "sum(salary)\n",
    "from employee\n",
    "GROUP BY department\n",
    "order by sum(salary)"
   ]
  },
  {
   "cell_type": "code",
   "execution_count": null,
   "metadata": {
    "vscode": {
     "languageId": "sql"
    }
   },
   "outputs": [],
   "source": [
    "-- 22> Write a SQL query to find employee with highest salary in an organization from employee table.\n",
    "\n",
    "select\n",
    "first_name, last_name\n",
    "from employee\n",
    "where salary = (select max(salary) from employee)\n",
    "GROUP BY first_name,last_name"
   ]
  },
  {
   "cell_type": "code",
   "execution_count": null,
   "metadata": {
    "vscode": {
     "languageId": "sql"
    }
   },
   "outputs": [],
   "source": [
    "-- 23> Write an SQL query that makes recommendations using the  pages that your friends liked. \n",
    "-- Assume you have two tables: a two-column table of users and their friends, and a two-column table of \n",
    "-- users and the pages they liked. It should not recommend pages you already like.\n",
    "\n"
   ]
  },
  {
   "cell_type": "code",
   "execution_count": null,
   "metadata": {
    "vscode": {
     "languageId": "sql"
    }
   },
   "outputs": [],
   "source": [
    "-- 24> write a SQL query to find employee (first name, last name, department and bonus) with highest bonus.\n",
    "\n",
    "select\n",
    "first_name,\n",
    "last_name,\n",
    "department,\n",
    "max(b.bonus_amount)\n",
    "from employee e\n",
    "join bonus b on e.employee_id = b.employee_ref_id\n",
    "GROUP BY first_name,last_name,department\n",
    "ORDER BY max(b.bonus_amount) DESC\n",
    "limit 1"
   ]
  },
  {
   "cell_type": "code",
   "execution_count": null,
   "metadata": {
    "vscode": {
     "languageId": "sql"
    }
   },
   "outputs": [],
   "source": [
    "-- 25> write a SQL query to find employees with same salary\n",
    "\n",
    "select a.first_name, a.last_name, a.salary\n",
    "from employee a, employee b\n",
    "where a.salary = b.salary and a.employee_id != b.employee_id"
   ]
  },
  {
   "cell_type": "code",
   "execution_count": null,
   "metadata": {
    "vscode": {
     "languageId": "sql"
    }
   },
   "outputs": [],
   "source": [
    "-- 26> Write SQL to find out what percent of students attend school on their birthday from attendance_events and all_students tables?\n",
    "\n",
    "select (count(av.student_id) * 100 / (SELECT count(student_id) from attendance_events)) as percent\n",
    "from attendance_events av \n",
    "join all_students ast\n",
    "on av.student_id = ast.student_id\n",
    "where extract(month from av.date_event) = extract(month from ast.date_of_birth)\n",
    "and extract(day from av.date_event) = extract(day from ast.date_of_birth)\n"
   ]
  },
  {
   "cell_type": "code",
   "execution_count": null,
   "metadata": {
    "vscode": {
     "languageId": "sql"
    }
   },
   "outputs": [],
   "source": [
    "-- 27> Given timestamps of logins, figure out how many people on Facebook were active all seven days\n",
    "--  of a week on a mobile phone from login info table?\n",
    "\n",
    "select  a.login_time, count(DISTINCT a.user_id)\n",
    "from login_info a\n",
    "left join login_info b\n",
    "on a.user_id = b.user_id\n",
    "where a.login_time::date = b.login_time::date - interval '1 day'\n",
    "GROUP BY a.login_time"
   ]
  },
  {
   "cell_type": "code",
   "execution_count": null,
   "metadata": {
    "vscode": {
     "languageId": "sql"
    }
   },
   "outputs": [],
   "source": [
    "-- 28> Write a SQL query to find out the overall friend acceptance rate for a given date from user_action table.\n",
    "\n",
    "select \n",
    "count(a.user_id_who_sent)*100 / (SELECT count(user_id_who_sent) from user_action) as percent\n",
    "from user_action a\n",
    "join user_action b\n",
    "on a.user_id_who_sent = b.user_id_who_sent and a.user_id_to_whom = b.user_id_to_whom\n",
    "where a.date_action =  b.date_action and b.\"action\" = 'accepted'"
   ]
  },
  {
   "cell_type": "code",
   "execution_count": null,
   "metadata": {
    "vscode": {
     "languageId": "sql"
    }
   },
   "outputs": [],
   "source": [
    "-- 29> How many total users follow sport accounts from tables all_users, sport_accounts, follow_relation?\n",
    "\n",
    "SELECT\n",
    "count(DISTINCT f.follower_id) as total_user_account\n",
    "from sport_accounts a\n",
    "join all_users b on a.sport_player_id = b.user_id\n",
    "join follow_relation f on b.user_id = f.target_id"
   ]
  },
  {
   "cell_type": "code",
   "execution_count": null,
   "metadata": {
    "vscode": {
     "languageId": "sql"
    }
   },
   "outputs": [],
   "source": [
    "-- 30> How many active users follow each type of sport?\n",
    "\n",
    "SELECT\n",
    "b.sport_category, count(a.user_id)\n",
    "from all_users a\n",
    "join sport_accounts b on a.user_id = b.sport_player_id\n",
    "join follow_relation c on a.user_id = c.follower_id\n",
    "where a.active_last_month  = TRUE\n",
    "GROUP BY b.sport_category"
   ]
  },
  {
   "cell_type": "code",
   "execution_count": null,
   "metadata": {
    "vscode": {
     "languageId": "sql"
    }
   },
   "outputs": [],
   "source": [
    "-- 31> What percent of active accounts are fraud from ad_accounts table?\n",
    "SELECT \n",
    "    COUNT(DISTINCT account_id) / \n",
    "    (SELECT COUNT(account_id) FROM ad_accounts WHERE account_status = 'active') * 100 AS percent\n",
    "FROM \n",
    "    ad_accounts \n",
    "WHERE \n",
    "    account_status = 'fraud';\n"
   ]
  },
  {
   "cell_type": "code",
   "execution_count": null,
   "metadata": {
    "vscode": {
     "languageId": "sql"
    }
   },
   "outputs": [],
   "source": [
    "-- 32> How many accounts became fraud today for the first time from ad_accounts table?\n",
    "SELECT count(*) as fraud_account\n",
    "from ad_accounts\n",
    "where account_status = 'fraud' and date = CURRENT_DATE;"
   ]
  },
  {
   "cell_type": "code",
   "execution_count": null,
   "metadata": {
    "vscode": {
     "languageId": "sql"
    }
   },
   "outputs": [],
   "source": [
    "-- 33> Write a SQL query to determine avg time spent per user per day from user_details and event_session_details\n",
    "select date, user_id, round(avg(timespend_sec),2)\n",
    "from event_session_details\n",
    "GROUP BY user_id, date\n",
    "ORDER BY user_id"
   ]
  },
  {
   "cell_type": "code",
   "execution_count": null,
   "metadata": {
    "vscode": {
     "languageId": "sql"
    }
   },
   "outputs": [],
   "source": [
    "-- 34> write a SQL query to find top 10 users that sent the most messages from messages_detail table.\n",
    "SELECT user_id, messages_sent\n",
    "from messages_detail\n",
    "ORDER BY messages_sent DESC\n",
    "LIMIT 10"
   ]
  }
 ],
 "metadata": {
  "language_info": {
   "name": "python"
  }
 },
 "nbformat": 4,
 "nbformat_minor": 2
}
