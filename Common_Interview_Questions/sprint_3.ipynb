{
 "cells": [
  {
   "cell_type": "code",
   "execution_count": null,
   "metadata": {
    "vscode": {
     "languageId": "sql"
    }
   },
   "outputs": [],
   "source": [
    "--top 3 products by sales, top 3 employee by salary, within cat/dept\n",
    "--top2 highest salried employee\n",
    "select * from emp\n",
    "order by salary desc\n",
    "limit 2\n",
    "\n",
    "--top2 highest salried employee on each dept\n",
    "select * from\n",
    "(\n",
    "    SELECT *,\n",
    "    row_number() over(PARTITION BY department_id ORDER BY salary desc) as rnk \n",
    "    from emp\n",
    ") a\n",
    "where rnk <= 2"
   ]
  },
  {
   "cell_type": "code",
   "execution_count": null,
   "metadata": {
    "vscode": {
     "languageId": "sql"
    }
   },
   "outputs": [],
   "source": [
    "--2. Top 5 products by sales\n",
    "with cte as\n",
    "(\n",
    "    SELECT product_id, sum(sales) as sales\n",
    "    from orders\n",
    "    GROUP BY product_id\n",
    ")\n",
    "select * from cte \n",
    "order by sales desc\n",
    "limit 5\n",
    "\n",
    "--2.  Top 5 products by sales in each category\n",
    "with cte as\n",
    "(\n",
    "    SELECT category,product_id, sum(sales) as sales\n",
    "    from orders\n",
    "    GROUP BY category,product_id\n",
    ")\n",
    "select * from\n",
    "(\n",
    "select *,\n",
    "row_number() over(PARTITION BY category order by sales desc) as rnk\n",
    "from cte \n",
    ") a\n",
    "where rnk <= 5"
   ]
  },
  {
   "cell_type": "code",
   "execution_count": null,
   "metadata": {
    "vscode": {
     "languageId": "sql"
    }
   },
   "outputs": [],
   "source": [
    "--2. yoy growth/product with sales more than previous year sales\n",
    "with cte as\n",
    "(\n",
    "    select\n",
    "    extract(year from order_date) as year_order, sum(sales) as sales\n",
    "    from orders\n",
    "    GROUP BY extract(year from order_date)\n",
    "),\n",
    "cte2 as\n",
    "(\n",
    "    select *,\n",
    "    lag(sales,1,sales) over(order by year_order) as previous_year_sales\n",
    "    from cte\n",
    ")\n",
    "select *, \n",
    "(sales - previous_year_sales)*100/previous_year_sales as yoy\n",
    "from cte2 \n",
    "\n",
    "\n",
    "--yoy growth/product with sales more than previous year sales in each category\n",
    "with cte as\n",
    "(\n",
    "    select\n",
    "    category, extract(year from order_date) as year_order, sum(sales) as sales\n",
    "    from orders\n",
    "    GROUP BY category,extract(year from order_date)\n",
    "),\n",
    "cte2 as\n",
    "(\n",
    "    select *,\n",
    "    lag(sales,1,sales) over(PARTITION BY category order by year_order) as previous_year_sales\n",
    "    from cte\n",
    ")\n",
    "select *, \n",
    "(sales - previous_year_sales)*100/previous_year_sales as yoy\n",
    "from cte2"
   ]
  },
  {
   "cell_type": "code",
   "execution_count": null,
   "metadata": {
    "vscode": {
     "languageId": "sql"
    }
   },
   "outputs": [],
   "source": [
    "---3-- running/cumulative sales year wise / rolling n months sales\n",
    "\n",
    "with cte as\n",
    "(\n",
    "    select extract(year from order_date) as year_order, sum(sales) as sales\n",
    "    from orders\n",
    "    GROUP BY extract(year from order_date)\n",
    ")\n",
    "select *, \n",
    "sum(sales) over(order by year_order) as cumulative_sum\n",
    "from cte\n",
    "\n",
    "--for category wise\n",
    "with cte as\n",
    "(\n",
    "    select category,extract(year from order_date) as year_order, sum(sales) as sales\n",
    "    from orders\n",
    "    GROUP BY extract(year from order_date)\n",
    ")\n",
    "select *, \n",
    "sum(sales) over(PARTITION BY category order by year_order) as cumulative_sum\n",
    "from cte\n",
    "\n",
    "\n",
    "--rolling 3 months sales, previous 2 month + current month\n",
    "with cte as\n",
    "(\n",
    "    select category,extract(year from order_date) as year_order, extract(month form order_date) as month_order_date, sum(sales) as sales\n",
    "    from orders\n",
    "    GROUP BY extract(year from order_date), extract(month form order_date)\n",
    ")\n",
    "select *, \n",
    "sum(sales) over(order by year_order, month_order_date ROWS BETWEEN 2 PRECEDING AND CURRENT ROW) as cumulative_sum\n",
    "from cte\n",
    "\n",
    "with cte as\n",
    "(\n",
    "    select category,extract(year from order_date) as year_order, extract(month form order_date) as month_order_date, sum(sales) as sales\n",
    "    from orders\n",
    "    GROUP BY extract(year from order_date), extract(month form order_date)\n",
    ")\n",
    "select *, \n",
    "sum(sales) over(order by year_order, month_order_date ROWS BETWEEN 3 PRECEDING AND 1 PRECEDING) as cumulative_sum\n",
    "from cte"
   ]
  },
  {
   "cell_type": "code",
   "execution_count": null,
   "metadata": {
    "vscode": {
     "languageId": "sql"
    }
   },
   "outputs": [],
   "source": [
    "--4. pivoting. convert rows into columns year wise each category sales\n",
    "\n",
    "select extract(year from order_date) as year_order,\n",
    "sum(case when category = 'Furniture' then sales else 0 end) as furn_sales,\n",
    "sum(case when category = 'Office Supplies' then sales else 0 end) as os_sales,\n",
    "sum(case when category = 'Technology' then sales else 0 end) as tech_sales\n",
    "from orders\n",
    "GROUP BY  extract(year from order_date)\n"
   ]
  },
  {
   "cell_type": "code",
   "execution_count": null,
   "metadata": {
    "vscode": {
     "languageId": "sql"
    }
   },
   "outputs": [],
   "source": []
  }
 ],
 "metadata": {
  "kernelspec": {
   "display_name": "Python 3",
   "language": "python",
   "name": "python3"
  },
  "language_info": {
   "codemirror_mode": {
    "name": "ipython",
    "version": 3
   },
   "file_extension": ".py",
   "mimetype": "text/x-python",
   "name": "python",
   "nbconvert_exporter": "python",
   "pygments_lexer": "ipython3",
   "version": "3.11.3"
  }
 },
 "nbformat": 4,
 "nbformat_minor": 2
}
