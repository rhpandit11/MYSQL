{
 "cells": [
  {
   "cell_type": "raw",
   "metadata": {
    "vscode": {
     "languageId": "raw"
    }
   },
   "source": [
    "In the given input table, there are hotel ratings which are either too high or too low compared to the standard ratings the \n",
    "hotel receives each year. Write a query to identify and exclude these outlier records as shown in expected output below. \n",
    "Your output should follow the same order of records as shown.\n",
    "\n",
    "OUTPUT\t\t\n",
    "HOTEL\tYEAR\tRATING\n",
    "Radisson Blu\t2020\t4.8\n",
    "Radisson Blu\t2021\t3.5\n",
    "Radisson Blu\t2022\t3.2\n",
    "Radisson Blu\t2023\t3.4\n",
    "InterContinental\t2020\t4.2\n",
    "InterContinental\t2021\t4.5\n",
    "InterContinental\t2022\t1.5\n",
    "InterContinental\t2023\t3.8\n",
    "\n",
    "\n",
    "OUTPUT\t\t\n",
    "HOTEL\tYEAR\tRATING\n",
    "Radisson Blu\t2021\t3.5\n",
    "Radisson Blu\t2022\t3.2\n",
    "Radisson Blu\t2023\t3.4\n",
    "InterContinental\t2020\t4.2\n",
    "InterContinental\t2021\t4.5\n",
    "InterContinental\t2023\t3.8\n",
    "\n",
    "\n"
   ]
  },
  {
   "cell_type": "code",
   "execution_count": null,
   "metadata": {
    "vscode": {
     "languageId": "sql"
    }
   },
   "outputs": [],
   "source": [
    "select * FROM hotel_ratings;"
   ]
  },
  {
   "cell_type": "code",
   "execution_count": null,
   "metadata": {
    "vscode": {
     "languageId": "sql"
    }
   },
   "outputs": [],
   "source": [
    "with cte as\n",
    "(select *, \n",
    "round(avg(rating) over(PARTITION BY hotel ORDER BY year range BETWEEN UNBOUNDED PRECEDING and UNBOUNDED FOLLOWING),2)  as avg_rating\n",
    "from hotel_ratings),\n",
    "rnk_cte as \n",
    "(\n",
    "    select *, abs(rating - avg_rating),\n",
    "    rank() over(PARTITION BY hotel order by abs(rating - avg_rating) desc) as rnk\n",
    "    from cte\n",
    ")\n",
    "select\n",
    "hotel, year, rating\n",
    "from rnk_cte\n",
    "where rnk > 2\n",
    "order by hotel desc, year "
   ]
  }
 ],
 "metadata": {
  "language_info": {
   "name": "python"
  }
 },
 "nbformat": 4,
 "nbformat_minor": 2
}
