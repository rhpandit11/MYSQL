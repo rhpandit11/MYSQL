{
 "cells": [
  {
   "cell_type": "code",
   "execution_count": null,
   "metadata": {
    "vscode": {
     "languageId": "sql"
    }
   },
   "outputs": [],
   "source": [
    "\n",
    "select * from salary;\n",
    "select * from income;\n",
    "select * from deduction;\n",
    "select * from emp_transaction;"
   ]
  },
  {
   "cell_type": "raw",
   "metadata": {
    "vscode": {
     "languageId": "raw"
    }
   },
   "source": [
    "using the given salary, income, deduction tables, first write a sql query to populate the emp_transaction table as shown \n",
    "below and then generate a salary reprot as shown."
   ]
  },
  {
   "cell_type": "code",
   "execution_count": null,
   "metadata": {
    "vscode": {
     "languageId": "sql"
    }
   },
   "outputs": [],
   "source": [
    "select s.emp_id, s.emp_name, x.trns_type\n",
    ", case when x.trns_type = 'Basic' then round(base_salary * (cast(x.percentage as decimal)/100),2)\n",
    "\t   when x.trns_type = 'Allowance' then round(base_salary * (cast(x.percentage as decimal)/100),2)\n",
    "\t   when x.trns_type = 'Others' then round(base_salary * (cast(x.percentage as decimal)/100),2)\n",
    "\t   when x.trns_type = 'Insurance' then round(base_salary * (cast(x.percentage as decimal)/100),2)\n",
    "\t   when x.trns_type = 'Health' then round(base_salary * (cast(x.percentage as decimal)/100),2)\n",
    "\t   when x.trns_type = 'House' then round(base_salary * (cast(x.percentage as decimal)/100),2) end as amount\t   \n",
    "from salary s\n",
    "cross join (select income as trns_type, percentage from income\n",
    "\t\t\tunion\n",
    "\t\t\tselect deduction as trns_type, percentage from deduction) x;"
   ]
  },
  {
   "cell_type": "code",
   "execution_count": null,
   "metadata": {
    "vscode": {
     "languageId": "sql"
    }
   },
   "outputs": [],
   "source": [
    "--building  salary report\n",
    "with cte as\t\n",
    "\t(\n",
    "\t\tselect id, income as trans_type, percentage \n",
    "\t\tfrom\n",
    "\t\tincome\n",
    "\t\tunion all \n",
    "\t\tselect id, deduction as trans_type, percentage \n",
    "\t\tfrom deduction\n",
    "\t),\n",
    "\tcte2 as\n",
    "\t(\n",
    "\t\tselect emp_id, emp_name, trans_type, (percentage * base_salary)/100 as amount\n",
    "\t\tfrom salary\n",
    "\t\tcross join \n",
    "\t\tcte\n",
    "\t),\n",
    "\tcte3 as\n",
    "\t(\n",
    "select emp_name as employee, \n",
    "sum(case when trans_type = 'Basic' then amount else null end) as Basic,\n",
    "sum(case when trans_type = 'Allowance' then amount else null end) as Allowance,\n",
    "sum(case when trans_type = 'Others' then amount else null end) as Others,\n",
    "sum(case when trans_type = 'Insurance' then amount else null end) as Insurance,\n",
    "sum(case when trans_type = 'Health' then amount else null end) as Health,\n",
    "sum(case when trans_type = 'House' then amount else null end) as House\n",
    "from cte2\n",
    "group by emp_name\n",
    ")\n",
    "select *,\n",
    "Basic + Allowance + Others as Gross,\n",
    "Insurance + Health + House  as Total_deduction\n",
    "from cte3"
   ]
  }
 ],
 "metadata": {
  "language_info": {
   "name": "python"
  }
 },
 "nbformat": 4,
 "nbformat_minor": 2
}
