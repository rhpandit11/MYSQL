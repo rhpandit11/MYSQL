{
 "cells": [
  {
   "cell_type": "code",
   "execution_count": null,
   "metadata": {
    "vscode": {
     "languageId": "sql"
    }
   },
   "outputs": [],
   "source": [
    "select * FROM auto_repair;"
   ]
  },
  {
   "cell_type": "code",
   "execution_count": null,
   "metadata": {
    "vscode": {
     "languageId": "sql"
    }
   },
   "outputs": [],
   "source": [
    "select * from auto_repair where indicator = 'level';\n",
    "select * from auto_repair where indicator = 'velocity';"
   ]
  },
  {
   "cell_type": "code",
   "execution_count": null,
   "metadata": {
    "vscode": {
     "languageId": "sql"
    }
   },
   "outputs": [],
   "source": [
    "SELECT v.value AS velocity, l.value AS level, COUNT(*) AS count_value\n",
    "FROM auto_repair AS l\n",
    "JOIN auto_repair AS v ON l.client = v.client \n",
    "    AND l.auto = v.auto \n",
    "    AND l.repair_date = v.repair_date\n",
    "WHERE l.indicator = 'level'\n",
    "    AND v.indicator = 'velocity'\n",
    "GROUP BY v.value, l.value\n",
    "ORDER BY v.value, l.value;\n"
   ]
  },
  {
   "cell_type": "code",
   "execution_count": null,
   "metadata": {
    "vscode": {
     "languageId": "sql"
    }
   },
   "outputs": [],
   "source": [
    "-- Active: 1713860363155@@127.0.0.1@5432@30_day\n",
    "CREATE EXTENSION IF NOT EXISTS tablefunc;\n"
   ]
  },
  {
   "cell_type": "code",
   "execution_count": null,
   "metadata": {
    "vscode": {
     "languageId": "sql"
    }
   },
   "outputs": [],
   "source": [
    "select \n",
    "velocity,\n",
    "COALESCE(good,0),\n",
    "COALESCE(regular,0),\n",
    "COALESCE(wrong,0)\n",
    "from crosstab('SELECT v.value AS velocity, l.value AS level, COUNT(*) AS count_value\n",
    "                FROM auto_repair AS l\n",
    "                JOIN auto_repair AS v ON l.client = v.client \n",
    "                    AND l.auto = v.auto \n",
    "                    AND l.repair_date = v.repair_date\n",
    "                WHERE l.indicator = ''level''\n",
    "                    AND v.indicator = ''velocity''\n",
    "                GROUP BY v.value, l.value\n",
    "                ORDER BY v.value, l.value'\n",
    "                , 'select distinct value from auto_repair where indicator = ''level'' order by value')\n",
    "as result(velocity varchar, good BIGINT, regular BIGINT, wrong BIGINT)"
   ]
  }
 ],
 "metadata": {
  "language_info": {
   "name": "python"
  }
 },
 "nbformat": 4,
 "nbformat_minor": 2
}
