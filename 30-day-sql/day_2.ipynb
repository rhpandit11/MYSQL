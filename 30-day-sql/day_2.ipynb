{
 "cells": [
  {
   "cell_type": "raw",
   "metadata": {
    "vscode": {
     "languageId": "raw"
    }
   },
   "source": [
    "Create a query that finds all triplets(startpt,middlept,endpt) representing the mountain huts\n",
    "that may be used for construction of a ski slope.\n",
    "Output returned by the query can be ordered in any way.\n"
   ]
  },
  {
   "cell_type": "code",
   "execution_count": null,
   "metadata": {
    "vscode": {
     "languageId": "sql"
    }
   },
   "outputs": [],
   "source": [
    "SELECT * FROM mountain_huts;\n",
    "SELECT * FROM trails;"
   ]
  },
  {
   "cell_type": "code",
   "execution_count": null,
   "metadata": {
    "vscode": {
     "languageId": "sql"
    }
   },
   "outputs": [],
   "source": [
    "with cte_trails1 as\n",
    "\t\t(select t1.hut1 as start_hut, h1.name as start_hut_name\n",
    "\t\t ,h1.altitude as start_hut_altitude, t1.hut2 as end_hut\n",
    "\t\tfrom mountain_huts h1\n",
    "\t\tjoin trails t1 on t1.hut1 = h1.id),\n",
    "\tcte_trails2 as\n",
    "\t\t(select t2.*, h2.name as end_hut_name, h2.altitude as end_hut_altitude\n",
    "\t\t, case when start_hut_altitude > h2.altitude then 1 else 0 end as altitude_flag\n",
    "\t\tfrom cte_trails1 t2\n",
    "\t\tjoin mountain_huts h2 on h2.id = t2.end_hut),\n",
    "    cte_final as\n",
    "    (\n",
    "        select \n",
    "        case when altitude_flag = 1 then start_hut else end_hut end as start_hut,\n",
    "        case when altitude_flag = 1 then start_hut_name else end_hut_name end as start_hut_name,\n",
    "        case when altitude_flag = 1 then end_hut else start_hut end as end_hut,\n",
    "        case when altitude_flag = 1 then end_hut_name else start_hut_name end as end_hut_name\n",
    "        from cte_trails2\n",
    "    )\n",
    "SELECT \n",
    "c1.start_hut_name as startpt,\n",
    "c1.end_hut_name as middlept,\n",
    "c2.end_hut_name as endpt\n",
    "FROM cte_final c1\n",
    "join cte_final c2 on c1.end_hut = c2.end_hut\n"
   ]
  },
  {
   "cell_type": "code",
   "execution_count": null,
   "metadata": {
    "vscode": {
     "languageId": "sql"
    }
   },
   "outputs": [],
   "source": [
    "with cte_trails1 as\n",
    "\t\t(select t1.hut1 as start_hut, h1.name as start_hut_name\n",
    "\t\t ,h1.altitude as start_hut_altitude, t1.hut2 as end_hut\n",
    "\t\tfrom mountain_huts h1\n",
    "\t\tjoin trails t1 on t1.hut1 = h1.id),\n",
    "\tcte_trails2 as\n",
    "\t\t(select t2.*, h2.name as end_hut_name, h2.altitude as end_hut_altitude\n",
    "\t\t, case when start_hut_altitude > h2.altitude then 1 else 0 end as altitude_flag\n",
    "\t\tfrom cte_trails1 t2\n",
    "\t\tjoin mountain_huts h2 on h2.id = t2.end_hut),\n",
    "\tcte_final as\n",
    "\t\t(select case when altitude_flag = 1 then start_hut else end_hut end as start_hut\n",
    "\t\t, case when altitude_flag = 1 then start_hut_name else end_hut_name end as start_hut_name\n",
    "\t\t, case when altitude_flag = 1 then end_hut else start_hut end as end_hut\n",
    "\t\t, case when altitude_flag = 1 then end_hut_name else start_hut_name end as end_hut_name\n",
    "\t\tfrom cte_trails2)\n",
    "select c1.start_hut_name as startpt\n",
    ", c1.end_hut_name as middlept\n",
    ", c2.end_hut_name as endpt\n",
    "from cte_final c1\n",
    "join cte_final c2 on c1.end_hut = c2.start_hut;"
   ]
  }
 ],
 "metadata": {
  "language_info": {
   "name": "python"
  }
 },
 "nbformat": 4,
 "nbformat_minor": 2
}
