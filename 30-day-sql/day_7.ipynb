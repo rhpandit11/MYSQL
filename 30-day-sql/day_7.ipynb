{
 "cells": [
  {
   "cell_type": "code",
   "execution_count": null,
   "metadata": {
    "vscode": {
     "languageId": "sql"
    }
   },
   "outputs": [],
   "source": [
    "SELECT * FROM day_indicator;"
   ]
  },
  {
   "cell_type": "code",
   "execution_count": null,
   "metadata": {
    "vscode": {
     "languageId": "sql"
    }
   },
   "outputs": [],
   "source": [
    "SELECT product_id,day_indicator,dates\n",
    "FROM\n",
    "(SELECT \n",
    "*,\n",
    "extract('isodow' FROM dates) as dow,\n",
    "CASE \n",
    "    WHEN substring(day_indicator,extract('isodow' FROM dates)::int,1) = '1' THEN  'Include'\n",
    "    ELSE  'Exclude'\n",
    "END as flag\n",
    "FROM day_indicator) x\n",
    "WHERE flag = 'Include'\n"
   ]
  }
 ],
 "metadata": {
  "language_info": {
   "name": "python"
  }
 },
 "nbformat": 4,
 "nbformat_minor": 2
}
