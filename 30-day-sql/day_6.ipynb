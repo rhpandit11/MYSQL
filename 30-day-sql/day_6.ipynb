{
 "cells": [
  {
   "cell_type": "raw",
   "metadata": {
    "vscode": {
     "languageId": "raw"
    }
   },
   "source": [
    "PROBLEM STATEMENT:\n",
    "You are given a table having the marks of one student in every test. \n",
    "You have to output the tests in which the student has improved his performance. \n",
    "For a student to improve his performance he has to score more than the previous test.\n",
    "Provide 2 solutions, one including the first test score and second excluding it.\n",
    "\n",
    "OUTPUT - 1\t\n",
    "TEST_ID\tMARKS\n",
    "100\t55\n",
    "102\t60\n",
    "105\t50\n"
   ]
  },
  {
   "cell_type": "code",
   "execution_count": null,
   "metadata": {
    "vscode": {
     "languageId": "sql"
    }
   },
   "outputs": [],
   "source": [
    "SELECT * FROM student_tests;"
   ]
  },
  {
   "cell_type": "code",
   "execution_count": null,
   "metadata": {
    "vscode": {
     "languageId": "sql"
    }
   },
   "outputs": [],
   "source": [
    "--output 1\n",
    "select test_id, marks FROM\n",
    "(SELECT *,\n",
    "LAG(marks) OVER (ORDER BY test_id) AS prev_test_marks\n",
    "FROM student_tests) x\n",
    "where x.marks > x.prev_test_marks\n",
    "\n"
   ]
  },
  {
   "cell_type": "code",
   "execution_count": null,
   "metadata": {
    "vscode": {
     "languageId": "sql"
    }
   },
   "outputs": [],
   "source": [
    "with cte as \n",
    "(select test_id,marks as current_performance, lag(marks) over(ORDER BY test_id) as previous_performance from student_tests)\n",
    "select* from cte where previous_performance<=current_performance;"
   ]
  },
  {
   "cell_type": "code",
   "execution_count": null,
   "metadata": {
    "vscode": {
     "languageId": "sql"
    }
   },
   "outputs": [],
   "source": [
    "SELECT * FROM bookings;"
   ]
  }
 ],
 "metadata": {
  "language_info": {
   "name": "python"
  }
 },
 "nbformat": 4,
 "nbformat_minor": 2
}
