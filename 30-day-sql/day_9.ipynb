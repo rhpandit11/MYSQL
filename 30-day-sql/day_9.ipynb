{
 "cells": [
  {
   "cell_type": "raw",
   "metadata": {
    "vscode": {
     "languageId": "raw"
    }
   },
   "source": [
    "PROBLEM STATEMENT: \n",
    "Write an sql query to merge products per customer for each day as shown in expected output."
   ]
  },
  {
   "cell_type": "code",
   "execution_count": null,
   "metadata": {
    "vscode": {
     "languageId": "sql"
    }
   },
   "outputs": [],
   "source": [
    "SELECT\n",
    "dates,\n",
    "STRING_AGG(CAST(product_id AS VARCHAR), ',')  OVER(PARTITION BY customer_id ORDER BY dates) as product_ids\n",
    "FROM orders\n",
    "GROUP BY dates, product_id, customer_id"
   ]
  },
  {
   "cell_type": "code",
   "execution_count": null,
   "metadata": {
    "vscode": {
     "languageId": "sql"
    }
   },
   "outputs": [],
   "source": [
    "SELECT dates, CAST(product_id AS VARCHAR) as products\n",
    "from orders\n",
    "UNION\n",
    "SELECT dates, STRING_AGG(CAST(product_id AS VARCHAR), ',') as products\n",
    "from orders\n",
    "GROUP BY customer_id, dates"
   ]
  }
 ],
 "metadata": {
  "language_info": {
   "name": "python"
  }
 },
 "nbformat": 4,
 "nbformat_minor": 2
}
