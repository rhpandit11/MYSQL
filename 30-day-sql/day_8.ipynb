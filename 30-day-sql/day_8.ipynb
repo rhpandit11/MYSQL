{
 "cells": [
  {
   "cell_type": "code",
   "execution_count": null,
   "metadata": {
    "vscode": {
     "languageId": "sql"
    }
   },
   "outputs": [],
   "source": [
    "SELECT * FROM job_skills"
   ]
  },
  {
   "cell_type": "code",
   "execution_count": null,
   "metadata": {
    "vscode": {
     "languageId": "sql"
    }
   },
   "outputs": [],
   "source": [
    "--Solution 1\n",
    "WITH cte as\n",
    "(SELECT \n",
    "*,\n",
    "SUM(CASE \n",
    "    WHEN job_role is NULL THEN  0\n",
    "    ELSE  1\n",
    "END) OVER(ORDER BY row_id) as segment\n",
    "FROM job_skills) \n",
    "SELECT row_id,\n",
    "first_value(job_role) over(partition by segment ORDER BY row_id) as job_role,\n",
    "skills\n",
    "from cte;"
   ]
  },
  {
   "cell_type": "code",
   "execution_count": null,
   "metadata": {
    "vscode": {
     "languageId": "sql"
    }
   },
   "outputs": [],
   "source": [
    "WITH RECURSIVE cte as\n",
    "(\n",
    "    base query\n",
    "    UNION\n",
    "    RECURSIVE query with termination CONDITION\n",
    ")\n",
    "SELECT * FROM cte;"
   ]
  },
  {
   "cell_type": "code",
   "execution_count": null,
   "metadata": {
    "vscode": {
     "languageId": "sql"
    }
   },
   "outputs": [],
   "source": [
    "WITH RECURSIVE cte as\n",
    "(\n",
    "    SELECT row_id, job_role, skills\n",
    "    from job_skills where row_id = 1\n",
    "    UNION\n",
    "    SELECT \n",
    "    js.row_id, COALESCE(js.job_role,cte.job_role) as job_role, js.skills\n",
    "    from cte\n",
    "    join job_skills js on js.row_id = cte.row_id+1\n",
    ")\n",
    "SELECT * FROM cte;"
   ]
  }
 ],
 "metadata": {
  "language_info": {
   "name": "python"
  }
 },
 "nbformat": 4,
 "nbformat_minor": 2
}
