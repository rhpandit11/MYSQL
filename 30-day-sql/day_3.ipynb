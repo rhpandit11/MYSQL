{
 "cells": [
  {
   "cell_type": "raw",
   "metadata": {
    "vscode": {
     "languageId": "raw"
    }
   },
   "source": [
    "Write a sql query to return the footer values from input table, meaning all the last non null values from each field."
   ]
  },
  {
   "cell_type": "code",
   "execution_count": null,
   "metadata": {
    "vscode": {
     "languageId": "sql"
    }
   },
   "outputs": [],
   "source": [
    "SELECT * FROM footer;"
   ]
  },
  {
   "cell_type": "code",
   "execution_count": null,
   "metadata": {
    "vscode": {
     "languageId": "sql"
    }
   },
   "outputs": [],
   "source": [
    "SELECT * FROM\n",
    "  (SELECT car FROM footer WHERE car IS NOT NULL ORDER BY id DESC LIMIT 1) car\n",
    "CROSS JOIN\n",
    "  (SELECT `length` FROM footer WHERE `length` IS NOT NULL ORDER BY id DESC LIMIT 1) length\n",
    "CROSS JOIN\n",
    "  (SELECT `width` FROM footer WHERE `width` IS NOT NULL ORDER BY id DESC LIMIT 1) width\n",
    "CROSS JOIN\n",
    "  (SELECT `height` FROM footer WHERE `height` IS NOT NULL ORDER BY id DESC LIMIT 1) height;\n"
   ]
  },
  {
   "cell_type": "code",
   "execution_count": null,
   "metadata": {
    "vscode": {
     "languageId": "sql"
    }
   },
   "outputs": [],
   "source": [
    "--solution 2\n",
    "    with cte as \n",
    "    (\n",
    "        SELECT *,\n",
    "        sum(case when car is not NULL then 1 else 0 end) over(order by id) as car_segment,\n",
    "        sum(case when length is not NULL then 1 else 0 end) over(order by id) as length_segment,\n",
    "        sum(case when width is not NULL then 1 else 0 end) over(order by id) as width_segment,\n",
    "        sum(case when height is not NULL then 1 else 0 end) over(order by id) as height_segment\n",
    "        from footer\n",
    "    )\n",
    "    select \n",
    "    first_value(car) over(PARTITION BY car_segment order by id) as new_car,\n",
    "    first_value(length) over(PARTITION BY length_segment order by id) as new_length,\n",
    "    first_value(width) over(PARTITION BY width_segment order by id) as new_width,\n",
    "    first_value(height) over(PARTITION BY height_segment order by id) as new_height\n",
    "    from cte\n",
    "    order by id DESC\n",
    "    limit 1\n",
    "\n"
   ]
  }
 ],
 "metadata": {
  "language_info": {
   "name": "python"
  }
 },
 "nbformat": 4,
 "nbformat_minor": 2
}
