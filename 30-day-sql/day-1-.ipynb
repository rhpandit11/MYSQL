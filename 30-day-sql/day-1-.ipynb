{
 "cells": [
  {
   "cell_type": "raw",
   "metadata": {
    "vscode": {
     "languageId": "raw"
    }
   },
   "source": [
    "Problem Statement\n",
    "-----------------\n",
    "- for pairs of brands in the same year (e.g apple/samsung/2020 and samsung/apple/2020)\n",
    "    - if customer1 = customer3 and customer2=customer4: then keep only one pair\n",
    "- for pairs of brands in the same year \n",
    "    - if customer1 != customer3 or customer2 != customer4: then keep both pairs\n",
    "- for brands that do not have pairs in the same year : keep those rows as well"
   ]
  },
  {
   "cell_type": "code",
   "execution_count": null,
   "metadata": {
    "vscode": {
     "languageId": "sql"
    }
   },
   "outputs": [],
   "source": [
    "SELECT * FROM brands;"
   ]
  },
  {
   "cell_type": "code",
   "execution_count": null,
   "metadata": {
    "vscode": {
     "languageId": "sql"
    }
   },
   "outputs": [],
   "source": [
    "WITH cte as\n",
    "(\n",
    "SELECT *,\n",
    "CASE \n",
    "    WHEN brand1 > brand2 THEN CONCAT(brand1,brand2,year) \n",
    "    ELSE  CONCAT(brand2,brand1,year) \n",
    "END as pair_id\n",
    "FROM brands\n",
    "),\n",
    "cte_rn as \n",
    "(\n",
    "    SELECT *,\n",
    "    ROW_NUMBER() OVER(PARTITION BY pair_id ORDER BY pair_id) as rn\n",
    "    FROM cte\n",
    ") \n",
    "SELECT brand1, brand2, year, custom1, custom2, custom3,custom4\n",
    "FROM cte_rn\n",
    "WHERE rn = 1\n",
    "or (custom1 <> custom3 and custom2 <> custom4)\n",
    "ORDER BY brand1\n"
   ]
  },
  {
   "cell_type": "code",
   "execution_count": null,
   "metadata": {
    "vscode": {
     "languageId": "sql"
    }
   },
   "outputs": [],
   "source": [
    " with cte as\n",
    " (\n",
    "SELECT\n",
    "    *, \n",
    "    CASE \n",
    "        WHEN brand1 < brand2  THEN  CONCAT(brand1,brand2,year)\n",
    "        ELSE  CONCAT(brand2,brand1,year)\n",
    "    END as pair_id\n",
    "    from brands\n",
    "),\n",
    " cte_rn as \n",
    "(\n",
    "    select\n",
    "    *,\n",
    "    ROW_NUMBER() OVER(PARTITION BY pair_id ORDER BY pair_id) as rn\n",
    "    from cte\n",
    ")\n",
    "SELECT\n",
    "brand1,\n",
    "brand2,\n",
    "custom1,\n",
    "custom2,\n",
    "custom3,\n",
    "custom4\n",
    "FROM cte_rn\n",
    "where rn = 1\n",
    "or (custom1 != custom3 and custom2 != custom4)\n",
    "ORDER BY 1\n",
    "    "
   ]
  }
 ],
 "metadata": {
  "language_info": {
   "name": "python"
  }
 },
 "nbformat": 4,
 "nbformat_minor": 2
}
