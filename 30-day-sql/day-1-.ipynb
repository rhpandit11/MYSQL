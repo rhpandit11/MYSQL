{
 "cells": [
  {
   "cell_type": "code",
   "execution_count": null,
   "metadata": {
    "vscode": {
     "languageId": "sql"
    }
   },
   "outputs": [],
   "source": [
    "SELECT * FROM brands;"
   ]
  },
  {
   "cell_type": "code",
   "execution_count": null,
   "metadata": {
    "vscode": {
     "languageId": "sql"
    }
   },
   "outputs": [],
   "source": [
    "WITH cte as\n",
    "(\n",
    "SELECT *,\n",
    "CASE \n",
    "    WHEN brand1 > brand2 THEN CONCAT(brand1,brand2,year) \n",
    "    ELSE  CONCAT(brand2,brand1,year) \n",
    "END as pair_id\n",
    "FROM brands\n",
    "),\n",
    "cte_rn as \n",
    "(\n",
    "    SELECT *,\n",
    "    ROW_NUMBER() OVER(PARTITION BY pair_id ORDER BY pair_id) as rn\n",
    "    FROM cte\n",
    ") \n",
    "SELECT brand1, brand2, year, custom1, custom2, custom3,custom4\n",
    "FROM cte_rn\n",
    "WHERE rn = 1\n",
    "or (custom1 <> custom3 and custom2 <> custom4)\n",
    "ORDER BY brand1\n"
   ]
  }
 ],
 "metadata": {
  "language_info": {
   "name": "python"
  }
 },
 "nbformat": 4,
 "nbformat_minor": 2
}
