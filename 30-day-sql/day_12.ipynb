{
 "cells": [
  {
   "cell_type": "code",
   "execution_count": null,
   "metadata": {
    "vscode": {
     "languageId": "sql"
    }
   },
   "outputs": [],
   "source": [
    "select * FROM company"
   ]
  },
  {
   "cell_type": "code",
   "execution_count": null,
   "metadata": {
    "vscode": {
     "languageId": "sql"
    }
   },
   "outputs": [],
   "source": [
    "select\n",
    "mng.employee, concat('Team ', ROW_NUMBER() over(ORDER BY mng.employee)) as teams\n",
    "from company as root\n",
    "join company as mng on root.employee = mng.manager\n",
    "where root.manager is NULL"
   ]
  },
  {
   "cell_type": "code",
   "execution_count": null,
   "metadata": {
    "vscode": {
     "languageId": "sql"
    }
   },
   "outputs": [],
   "source": [
    "with RECURSIVE cte as\n",
    "            (\n",
    "                SELECT c.employee, c.manager, t.teams\n",
    "                from company c\n",
    "                cross join cte_teams t\n",
    "                where c.manager is NULL\n",
    "                UNION\n",
    "                select c.employee, c.manager, COALESCE(t.teams, cte.teams) as Teams\n",
    "                from company c\n",
    "                join cte on cte.employee = c.manager\n",
    "                left join cte_teams t on t.employee = c.employee\n",
    "            ),\n",
    "    cte_teams as\n",
    "            (\n",
    "                select\n",
    "                mng.employee, concat('Team ', ROW_NUMBER() over(ORDER BY mng.employee)) as teams\n",
    "                from company as root\n",
    "                join company as mng on root.employee = mng.manager\n",
    "                where root.manager is NULL\n",
    "            )\n",
    "select\n",
    "teams,\n",
    "string_agg(employee, ', ') as members \n",
    "from cte\n",
    "group by teams\n",
    "ORDER BY teams"
   ]
  }
 ],
 "metadata": {
  "language_info": {
   "name": "python"
  }
 },
 "nbformat": 4,
 "nbformat_minor": 2
}
