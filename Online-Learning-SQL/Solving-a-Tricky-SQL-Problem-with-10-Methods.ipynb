{
 "cells": [
  {
   "cell_type": "code",
   "execution_count": null,
   "metadata": {
    "vscode": {
     "languageId": "sql"
    }
   },
   "outputs": [],
   "source": [
    "SELECT * FROM students;"
   ]
  },
  {
   "cell_type": "markdown",
   "metadata": {},
   "source": [
    "**Find students who know only sql and python**"
   ]
  },
  {
   "cell_type": "markdown",
   "metadata": {},
   "source": [
    "solution:1\n",
    "- The student should have 2 skills\n",
    "- 2 skills sql and python"
   ]
  },
  {
   "cell_type": "code",
   "execution_count": null,
   "metadata": {
    "vscode": {
     "languageId": "sql"
    }
   },
   "outputs": [],
   "source": [
    "WITH cte as \n",
    "(\n",
    "SELECT\n",
    "student_id,\n",
    "COUNT(*) as total_skills,\n",
    "COUNT(case when skill in ('sql','python') then skill else null end) as sp_skills\n",
    "FROM students\n",
    "GROUP BY student_id\n",
    ")\n",
    "SELECT * FROM cte \n",
    "WHERE total_skills = 2 and sp_skills = 2\n"
   ]
  },
  {
   "cell_type": "markdown",
   "metadata": {},
   "source": [
    "Solution: 2\n",
    "- using having clause\n"
   ]
  },
  {
   "cell_type": "code",
   "execution_count": null,
   "metadata": {
    "vscode": {
     "languageId": "sql"
    }
   },
   "outputs": [],
   "source": [
    "SELECT\n",
    "student_id,\n",
    "COUNT(*) as total_skills,\n",
    "COUNT(case when skill in ('sql','python') then skill else null end) as sp_skills\n",
    "FROM students\n",
    "GROUP BY student_id\n",
    "HAVING COUNT(*) = 2 and COUNT(case when skill in ('sql','python') then skill else null end) = 2"
   ]
  },
  {
   "cell_type": "markdown",
   "metadata": {},
   "source": [
    "solution: 3\n"
   ]
  },
  {
   "cell_type": "code",
   "execution_count": null,
   "metadata": {
    "vscode": {
     "languageId": "sql"
    }
   },
   "outputs": [],
   "source": [
    "SELECT\n",
    "student_id,\n",
    "COUNT(*) as total_skills,\n",
    "COUNT(case when skill in ('sql','python') then skill else null end) as sp_skills,\n",
    "COUNT(case when skill NOT in ('sql','python') then skill else null end) as spn_skills\n",
    "FROM students\n",
    "GROUP BY student_id\n",
    "HAVING COUNT(*) = 2 and COUNT(case when skill NOT in ('sql','python') then skill else null end) = 0"
   ]
  },
  {
   "cell_type": "markdown",
   "metadata": {},
   "source": [
    "Solution: 4\n",
    "- subquery in where"
   ]
  },
  {
   "cell_type": "code",
   "execution_count": null,
   "metadata": {
    "vscode": {
     "languageId": "sql"
    }
   },
   "outputs": [],
   "source": [
    "SELECT\n",
    "student_id,\n",
    "COUNT(*) as total_skills\n",
    "FROM students\n",
    "WHERE student_id NOT IN (SELECT student_id from students WHERE skill not in ('python','sql'))\n",
    "GROUP BY student_id\n",
    "HAVING COUNT(*) = 2 "
   ]
  },
  {
   "cell_type": "markdown",
   "metadata": {},
   "source": [
    "Solution: 5\n",
    "- except"
   ]
  },
  {
   "cell_type": "code",
   "execution_count": null,
   "metadata": {
    "vscode": {
     "languageId": "sql"
    }
   },
   "outputs": [],
   "source": [
    "SELECT\n",
    "student_id\n",
    "FROM students\n",
    "GROUP BY student_id\n",
    "HAVING COUNT(*) = 2 \n",
    "EXCEPT\n",
    "SELECT \n",
    "student_id\n",
    "FROM students\n",
    "where skill not in ('sql','python')"
   ]
  },
  {
   "cell_type": "markdown",
   "metadata": {},
   "source": [
    "Solution: 6\n",
    "- not exists\n",
    "- co-related subquery"
   ]
  },
  {
   "cell_type": "code",
   "execution_count": null,
   "metadata": {
    "vscode": {
     "languageId": "sql"
    }
   },
   "outputs": [],
   "source": [
    "SELECT\n",
    "student_id,\n",
    "COUNT(*) as total_skills\n",
    "FROM students s1\n",
    "WHERE NOT EXISTS (SELECT 1 FROM students s2 WHERE s2.skill NOT in ('sql','python') and s1.student_id=s2.student_id)\n",
    "GROUP BY student_id\n",
    "HAVING COUNT(*) = 2 "
   ]
  },
  {
   "cell_type": "markdown",
   "metadata": {},
   "source": [
    "solution: 8\n",
    "- with cte"
   ]
  },
  {
   "cell_type": "code",
   "execution_count": null,
   "metadata": {
    "vscode": {
     "languageId": "sql"
    }
   },
   "outputs": [],
   "source": [
    "WITH \n",
    "  sql AS (SELECT * FROM students WHERE skill = 'sql'),\n",
    "  python AS (SELECT * FROM students WHERE skill = 'python'),\n",
    "  other AS (SELECT * FROM students WHERE skill NOT IN ('sql', 'python')) \n",
    "SELECT s.*, o.*\n",
    "FROM sql s\n",
    "JOIN python p ON s.student_id = p.student_id\n",
    "LEFT JOIN other o ON s.student_id = o.student_id\n",
    "WHERE o.student_id IS NULL; \n",
    " "
   ]
  },
  {
   "cell_type": "markdown",
   "metadata": {},
   "source": [
    "solution: 8"
   ]
  },
  {
   "cell_type": "code",
   "execution_count": null,
   "metadata": {
    "vscode": {
     "languageId": "sql"
    }
   },
   "outputs": [],
   "source": [
    "SELECT s.*, o.*\n",
    "FROM students s\n",
    "JOIN students p ON s.student_id = p.student_id\n",
    "LEFT JOIN students o ON s.student_id = o.student_id and o.skill not in ('sql','python')\n",
    "WHERE s.skill='sql' and p.skill='python' and o.student_id is NULL"
   ]
  },
  {
   "cell_type": "markdown",
   "metadata": {},
   "source": [
    "Solution: 9"
   ]
  },
  {
   "cell_type": "code",
   "execution_count": null,
   "metadata": {
    "vscode": {
     "languageId": "sql"
    }
   },
   "outputs": [],
   "source": [
    "WITH sql AS (SELECT * FROM students WHERE skill = 'sql'),\n",
    "python AS (SELECT * FROM students WHERE skill = 'python'),\n",
    " other AS (SELECT * FROM students WHERE skill NOT IN ('sql', 'python')) \n",
    "SELECT student_id \n",
    "from sql\n",
    "INTERSECT\n",
    "SELECT student_id\n",
    "from python\n",
    "EXCEPT\n",
    "SELECT student_id from other;"
   ]
  },
  {
   "cell_type": "markdown",
   "metadata": {},
   "source": [
    "solution: 10"
   ]
  },
  {
   "cell_type": "code",
   "execution_count": null,
   "metadata": {
    "vscode": {
     "languageId": "sql"
    }
   },
   "outputs": [],
   "source": [
    "WITH cte as \n",
    "(\n",
    "SELECT\n",
    "student_id,\n",
    "SUM(case when skill in ('sql','python') then 1 else 5 end) as sp_skills\n",
    "FROM students\n",
    "GROUP BY student_id\n",
    ")\n",
    "SELECT * FROM cte \n",
    "WHERE sp_skills = 2"
   ]
  }
 ],
 "metadata": {
  "language_info": {
   "name": "python"
  }
 },
 "nbformat": 4,
 "nbformat_minor": 2
}
