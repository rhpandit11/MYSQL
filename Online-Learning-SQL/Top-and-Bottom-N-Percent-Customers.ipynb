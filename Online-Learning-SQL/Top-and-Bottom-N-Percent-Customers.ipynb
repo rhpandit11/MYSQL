{
 "cells": [
  {
   "cell_type": "markdown",
   "metadata": {},
   "source": [
    "find top 25 and bottom 25 percent customer by sales\n",
    "the NTILE Analytical function is used to divide a result  set into a specified number of groups or buckets based on a specific "
   ]
  },
  {
   "cell_type": "code",
   "execution_count": null,
   "metadata": {
    "vscode": {
     "languageId": "sql"
    }
   },
   "outputs": [],
   "source": [
    "WITH cte AS (\n",
    "  SELECT `Customer_Name`,`Region`, SUM(`Sales`) AS total_sales\n",
    "  FROM shiporder\n",
    "  GROUP BY `Customer_Name`,`Region`\n",
    "  ORDER BY `Region`, total_sales DESC\n",
    ")\n",
    "SELECT \n",
    "  *,\n",
    "  NTILE(4) OVER (PARTITION BY `Region` ORDER BY total_sales DESC) AS cust_groups\n",
    "FROM cte;\n"
   ]
  }
 ],
 "metadata": {
  "language_info": {
   "name": "python"
  }
 },
 "nbformat": 4,
 "nbformat_minor": 2
}
