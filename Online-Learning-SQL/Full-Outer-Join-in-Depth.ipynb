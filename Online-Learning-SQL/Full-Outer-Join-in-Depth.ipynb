{
 "cells": [
  {
   "cell_type": "markdown",
   "metadata": {},
   "source": [
    "full outer join in depth and alternatives"
   ]
  },
  {
   "cell_type": "code",
   "execution_count": null,
   "metadata": {
    "vscode": {
     "languageId": "sql"
    }
   },
   "outputs": [],
   "source": [
    "SELECT * FROM orders_usa;\n",
    "SELECT * FROM orders_europe;\n",
    "SELECT * FROM orders_india;"
   ]
  },
  {
   "cell_type": "code",
   "execution_count": null,
   "metadata": {
    "vscode": {
     "languageId": "sql"
    }
   },
   "outputs": [],
   "source": [
    "with cte as (\n",
    "SELECT product_id,sales as usa_sales, null as europe_sales, null as india_sales FROM orders_usa\n",
    "UNION ALL\n",
    "SELECT product_id,NULL as usa_sales, sales as europe_sales, null as india_sales FROM orders_europe\n",
    "UNION ALL\n",
    "SELECT product_id,NULL as usa_sales, NULL as europe_sales, sales as india_sales FROM orders_india\n",
    ")\n",
    "SELECT product_id, SUM(usa_sales) as usa_sales, SUM(europe_sales) as europes_sales, SUM(india_sales) as india_sales\n",
    "from cte\n",
    "GROUP BY product_id\n",
    "\n"
   ]
  }
 ],
 "metadata": {
  "language_info": {
   "name": "python"
  }
 },
 "nbformat": 4,
 "nbformat_minor": 2
}
