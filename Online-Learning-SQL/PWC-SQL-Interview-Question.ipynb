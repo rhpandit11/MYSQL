{
 "cells": [
  {
   "cell_type": "markdown",
   "metadata": {},
   "source": [
    "PWC SQL Interview Question\n",
    "1,2 -> common\n",
    "4 is mismatch\n",
    "3 new in source\n",
    "5 new in target"
   ]
  },
  {
   "cell_type": "code",
   "execution_count": null,
   "metadata": {
    "vscode": {
     "languageId": "sql"
    }
   },
   "outputs": [],
   "source": [
    "SELECT * FROM `source`;\n",
    "SELECT * FROM target;"
   ]
  },
  {
   "cell_type": "code",
   "execution_count": null,
   "metadata": {
    "vscode": {
     "languageId": "sql"
    }
   },
   "outputs": [],
   "source": [
    "SELECT COALESCE(s.id, t.id) as id, \n",
    "CASE \n",
    "    WHEN  t.name is NULL THEN 'New in source'\n",
    "    WHEN s.name is NULL THEN 'New in Target' \n",
    "    ELSE  'mismatch'\n",
    "END\n",
    "FROM source s \n",
    "FULL OUTER JOIN target t on s.id=t.id\n",
    "where s.name!=t.name or s.name is NULL or t.name is NULL"
   ]
  }
 ],
 "metadata": {
  "language_info": {
   "name": "python"
  }
 },
 "nbformat": 4,
 "nbformat_minor": 2
}
