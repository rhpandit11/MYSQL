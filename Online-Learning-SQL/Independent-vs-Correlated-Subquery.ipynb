{
 "cells": [
  {
   "cell_type": "markdown",
   "metadata": {},
   "source": [
    "Independent vs co-related subquery\n",
    "why do we need subquery\n",
    "- independent subquery\n",
    "- co-related subquery"
   ]
  },
  {
   "cell_type": "code",
   "execution_count": null,
   "metadata": {
    "vscode": {
     "languageId": "sql"
    }
   },
   "outputs": [],
   "source": [
    "SELECT * FROM employee1"
   ]
  },
  {
   "cell_type": "markdown",
   "metadata": {},
   "source": [
    "write a sql to print employee details who's salary is more than their average salary"
   ]
  },
  {
   "cell_type": "markdown",
   "metadata": {},
   "source": [
    "solution using independent subquery\n",
    "- we can run it independently\n",
    "- it runs only once"
   ]
  },
  {
   "cell_type": "code",
   "execution_count": null,
   "metadata": {
    "vscode": {
     "languageId": "sql"
    }
   },
   "outputs": [],
   "source": [
    "SELECT \n",
    "e.*,\n",
    "d.avg_dep_sal\n",
    "from employee1 e\n",
    "INNER JOIN (SELECT dept_id,avg(salary) as avg_dep_sal from employee1 GROUP BY dept_id) d\n",
    "on e.dept_id=d.dept_id\n",
    "where e.salary>d.avg_dep_sal"
   ]
  },
  {
   "cell_type": "markdown",
   "metadata": {},
   "source": [
    "solution using co-related subquery"
   ]
  },
  {
   "cell_type": "code",
   "execution_count": null,
   "metadata": {
    "vscode": {
     "languageId": "sql"
    }
   },
   "outputs": [],
   "source": [
    "SELECT * \n",
    "FROM employee1 e1\n",
    "WHERE salary > (SELECT AVG(e2.salary) FROM employee1 e2 where e1.dept_id=e2.dept_id)"
   ]
  }
 ],
 "metadata": {
  "language_info": {
   "name": "python"
  }
 },
 "nbformat": 4,
 "nbformat_minor": 2
}
