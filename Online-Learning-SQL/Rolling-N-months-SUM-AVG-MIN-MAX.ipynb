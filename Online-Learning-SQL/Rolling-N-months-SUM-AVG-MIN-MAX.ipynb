{
 "cells": [
  {
   "cell_type": "markdown",
   "metadata": {},
   "source": [
    "Rolling calculation sum, avg, min, max"
   ]
  },
  {
   "cell_type": "code",
   "execution_count": null,
   "metadata": {
    "vscode": {
     "languageId": "sql"
    }
   },
   "outputs": [],
   "source": [
    "-- Active: 1704386902460@@127.0.0.1@3306@ankit_bansal_video\n",
    "with year_month_sales as (\n",
    "SELECT\n",
    "  EXTRACT(YEAR FROM order_date) as year_order,\n",
    "  EXTRACT(MONTH FROM order_date) as month_order,\n",
    "  SUM(sales) as total_sales\n",
    "FROM orders\n",
    "GROUP BY EXTRACT(YEAR FROM order_date), EXTRACT(MONTH FROM order_date)\n",
    ")\n",
    "select *,\n",
    "sum(total_sales) over(ORDER BY year_order asc, month_order asc rows BETWEEN 2 PRECEDING and 0 PRECEDING) as rolling_sum\n",
    "from year_month_sales\n"
   ]
  }
 ],
 "metadata": {
  "language_info": {
   "name": "python"
  }
 },
 "nbformat": 4,
 "nbformat_minor": 2
}
