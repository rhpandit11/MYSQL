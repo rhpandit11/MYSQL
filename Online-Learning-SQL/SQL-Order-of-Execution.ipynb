{
 "cells": [
  {
   "cell_type": "markdown",
   "metadata": {},
   "source": [
    "SQL Order of Execution"
   ]
  },
  {
   "cell_type": "code",
   "execution_count": null,
   "metadata": {
    "vscode": {
     "languageId": "sql"
    }
   },
   "outputs": [],
   "source": [
    "SELECT * \n",
    "FROM employee\n",
    "where salary > 6000\n",
    "ORDER BY salary DESC\n",
    "LIMIT 5\n"
   ]
  },
  {
   "cell_type": "code",
   "execution_count": null,
   "metadata": {
    "vscode": {
     "languageId": "sql"
    }
   },
   "outputs": [],
   "source": [
    "SELECT dept_id, SUM(salary) as dep_salary\n",
    "FROM employee\n",
    "where salary > 6000\n",
    "GROUP BY dept_id\n",
    "HAVING sum(salary) > 33000\n",
    "ORDER BY salary DESC"
   ]
  },
  {
   "cell_type": "code",
   "execution_count": null,
   "metadata": {
    "vscode": {
     "languageId": "sql"
    }
   },
   "outputs": [],
   "source": [
    "select * FROM dept"
   ]
  },
  {
   "cell_type": "code",
   "execution_count": null,
   "metadata": {
    "vscode": {
     "languageId": "sql"
    }
   },
   "outputs": [],
   "source": [
    "SELECT e.dept_id,d.dep_name, SUM(e.salary) as dep_salary\n",
    "FROM employee e\n",
    "JOIN dept d on e.dept_id=d.dep_id\n",
    "where salary > 6000\n",
    "GROUP BY e.dept_id,d.dep_name\n",
    "HAVING sum(e.salary) > 33000\n",
    "ORDER BY e.salary DESC"
   ]
  },
  {
   "cell_type": "markdown",
   "metadata": {},
   "source": [
    "from -> join -> where -> group by -> having -> select -> order by -> limit"
   ]
  }
 ],
 "metadata": {
  "language_info": {
   "name": "python"
  }
 },
 "nbformat": 4,
 "nbformat_minor": 2
}
